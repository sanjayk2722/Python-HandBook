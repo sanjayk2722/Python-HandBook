{
 "cells": [
  {
   "cell_type": "markdown",
   "id": "db08e2ae",
   "metadata": {},
   "source": [
    "# Python conditions and If statement"
   ]
  },
  {
   "cell_type": "code",
   "execution_count": 1,
   "id": "b216d5b9",
   "metadata": {},
   "outputs": [],
   "source": [
    "#Python supports the usual logical conditions from mathematics:\n",
    "\n",
    "#Equals: a == b\n",
    "#Not Equals: a != b\n",
    "#Less than: a < b\n",
    "#Less than or equal to: a <= b\n",
    "#Greater than: a > b\n",
    "#Greater than or equal to: a >= b\n",
    "#These conditions can be used in several ways, most commonly in \"if statements\" and loops.\n",
    "\n",
    "#An \"if statement\" is written by using the if keyword."
   ]
  },
  {
   "cell_type": "code",
   "execution_count": 2,
   "id": "19fee402",
   "metadata": {},
   "outputs": [
    {
     "name": "stdout",
     "output_type": "stream",
     "text": [
      "a is greater than b\n"
     ]
    }
   ],
   "source": [
    "# if statement:\n",
    "a = 10\n",
    "b = 5\n",
    "if a > b:\n",
    "    print(\"a is greater than b\")\n"
   ]
  },
  {
   "cell_type": "markdown",
   "id": "f299c483",
   "metadata": {},
   "source": [
    "# Indentation\n",
    "Python relies on indentation (whitespace at the beginning of a line) to define scope in the code. Other programming languages often use curly-brackets for this purpose."
   ]
  },
  {
   "cell_type": "markdown",
   "id": "e0f332f6",
   "metadata": {},
   "source": [
    "# Elif\n",
    "The elif keyword is pythons way of saying \"if the previous conditions were not true, then try this condition\"."
   ]
  },
  {
   "cell_type": "code",
   "execution_count": 3,
   "id": "4bd1a72c",
   "metadata": {},
   "outputs": [
    {
     "name": "stdout",
     "output_type": "stream",
     "text": [
      "a and b are equal\n"
     ]
    }
   ],
   "source": [
    "a = 20\n",
    "b = 20\n",
    "if a < b:\n",
    "    print('b is greater than a')\n",
    "elif a == b:\n",
    "    print('a and b are equal')"
   ]
  },
  {
   "cell_type": "markdown",
   "id": "c8437ce2",
   "metadata": {},
   "source": [
    "# Else\n",
    "The else keyword catches anything which isn't caught by the preceding conditions."
   ]
  },
  {
   "cell_type": "code",
   "execution_count": 4,
   "id": "25035d86",
   "metadata": {},
   "outputs": [
    {
     "name": "stdout",
     "output_type": "stream",
     "text": [
      "a is greater than b\n"
     ]
    }
   ],
   "source": [
    "a = 23\n",
    "b = 20\n",
    "if a < b:\n",
    "    print('b is greater than a')\n",
    "elif a == b:\n",
    "    print('a and b are equal')\n",
    "else:\n",
    "    print('a is greater than b')"
   ]
  },
  {
   "cell_type": "code",
   "execution_count": 5,
   "id": "c24475b8",
   "metadata": {},
   "outputs": [
    {
     "name": "stdout",
     "output_type": "stream",
     "text": [
      "Enter the number : 55\n",
      "55 is divisible by 5 and 11\n"
     ]
    }
   ],
   "source": [
    "# WAP to check whether a number is divisible by 5 and 11\n",
    "num = int(input('Enter the number : '))\n",
    "if num%5 == 0 and num%11 == 0:\n",
    "    print(f'{num} is divisible by 5 and 11')\n",
    "else:\n",
    "    print(f'{num} is not divisible by 5 and 11')"
   ]
  },
  {
   "cell_type": "code",
   "execution_count": 6,
   "id": "2d2d522a",
   "metadata": {},
   "outputs": [
    {
     "name": "stdout",
     "output_type": "stream",
     "text": [
      "Enter the number : 56\n",
      "56 is even number\n"
     ]
    }
   ],
   "source": [
    "# Write a program to check whether a number is even or odd.\n",
    "num = int(input('Enter the number : '))\n",
    "if num%2 == 0:\n",
    "    print(f'{num} is even number')\n",
    "else:\n",
    "    print(f'{num} is odd number')"
   ]
  },
  {
   "cell_type": "code",
   "execution_count": 7,
   "id": "b977b860",
   "metadata": {},
   "outputs": [
    {
     "name": "stdout",
     "output_type": "stream",
     "text": [
      "Enter the alphabet : SanLa\n",
      "SanLa is aplphabet\n"
     ]
    }
   ],
   "source": [
    "# Write a program to check whether a character is alphabet or not.\n",
    "letter = str(input('Enter the alphabet : '))\n",
    "if  letter.isalpha():\n",
    "    print(f'{letter} is aplphabet')\n",
    "else:\n",
    "    print(f'{letter} is not  aplphabet')"
   ]
  },
  {
   "cell_type": "code",
   "execution_count": 8,
   "id": "ce62f1f9",
   "metadata": {},
   "outputs": [
    {
     "name": "stdout",
     "output_type": "stream",
     "text": [
      "Enter a alphabet: o\n",
      "o is vowel\n"
     ]
    }
   ],
   "source": [
    "# Write a program to input any alphabet and check whether it is vowel or consonant.\n",
    "\n",
    "\n",
    "alp = str(input('Enter a alphabet: '))\n",
    "\n",
    "if (alp =='a' or alp =='e' or alp =='i' or alp =='o' or alp =='u'):\n",
    "    print(f'{alp} is vowel')\n",
    "    \n",
    "elif (alp=='A' or alp=='E' or alp=='I' or alp=='O' or alp=='U'):\n",
    "    print(f'{alp} is vowel')\n",
    "    \n",
    "else:\n",
    "    print(f'{alp} is constant') "
   ]
  },
  {
   "cell_type": "code",
   "execution_count": 1,
   "id": "00d2b302",
   "metadata": {},
   "outputs": [
    {
     "name": "stdout",
     "output_type": "stream",
     "text": [
      "Enter the character : 123\n",
      "123 is digit\n"
     ]
    }
   ],
   "source": [
    "# Write a program to input any character and check whether it is alphabet or  digit \n",
    "chrr = str(input('Enter the character : '))\n",
    "if  chrr.isalpha():\n",
    "    print(f'{chrr} is aplphabet')\n",
    "elif chrr.isdigit():\n",
    "    print(f'{chrr} is digit')\n",
    "else:\n",
    "    print(f'{letter} is not alphabet or digit')"
   ]
  },
  {
   "cell_type": "code",
   "execution_count": 2,
   "id": "2f66bfb6",
   "metadata": {},
   "outputs": [
    {
     "name": "stdout",
     "output_type": "stream",
     "text": [
      "Enter a alphabet : python\n",
      "python is lower case\n"
     ]
    }
   ],
   "source": [
    "# Write a  program to check whether a character is uppercase or lowercase alphabet.\n",
    "alp = input('Enter a alphabet : ')\n",
    "if alp.isupper():\n",
    "    print(f'{alp} is upper case')\n",
    "elif alp.islower():\n",
    "    print(f'{alp} is lower case')\n",
    "else:\n",
    "    print('Is not alphabet')"
   ]
  },
  {
   "cell_type": "code",
   "execution_count": 9,
   "id": "3591758d",
   "metadata": {},
   "outputs": [
    {
     "name": "stdout",
     "output_type": "stream",
     "text": [
      "Enter a day between 1-7: 5\n",
      "Day 5 is friday\n"
     ]
    }
   ],
   "source": [
    "# Write a program to input week number and print week day.\n",
    "num = int(input('Enter a day between 1-7: '))\n",
    "dct = {1:'monday',2:'tuesday',3:'wednesday',4:'thursday',5:'friday',6:'saturaday',7:'sunday'}\n",
    "if dct.get(num):\n",
    "    print(f'Day {num} is', dct.get(num))\n",
    "else:\n",
    "    print()"
   ]
  },
  {
   "cell_type": "code",
   "execution_count": 10,
   "id": "d4d14ecb",
   "metadata": {},
   "outputs": [
    {
     "name": "stdout",
     "output_type": "stream",
     "text": [
      "Enter a month number between 1-12: 2\n",
      "This month has 28 days if its not a leap year\n"
     ]
    }
   ],
   "source": [
    "# Write a program to input month number and print number of days in that month.\n",
    "\n",
    "month = int(input('Enter a month number between 1-12: '))\n",
    "h = [1,3,5,7,8,10,12]\n",
    "l = [4,6,9,11]\n",
    "if month in h:\n",
    "    print('This month has 31 days')\n",
    "elif month == 2:\n",
    "    print('This month has 28 days if its not a leap year')\n",
    "elif month in l:\n",
    "    print('This month has 30 days')\n",
    "else:\n",
    "    print(f'There are only 12 months in a year, not {month} months')"
   ]
  },
  {
   "cell_type": "code",
   "execution_count": 11,
   "id": "9f7e589d",
   "metadata": {},
   "outputs": [
    {
     "name": "stdout",
     "output_type": "stream",
     "text": [
      "Enter first angle: 23\n",
      "Enter second angle: 98\n",
      "Enter third angle: 21\n",
      "The triangle is not valid\n"
     ]
    }
   ],
   "source": [
    "# Write a program to input angles of a triangle and check whether triangle is valid or not.\n",
    "\n",
    "x = int(input('Enter first angle: '))\n",
    "y = int(input('Enter second angle: '))\n",
    "z = int(input('Enter third angle: '))\n",
    "\n",
    "if (x+y+z) == 180:\n",
    "    print('The triangle is valid')\n",
    "else:\n",
    "    print('The triangle is not valid')"
   ]
  },
  {
   "cell_type": "code",
   "execution_count": 12,
   "id": "6f04290d",
   "metadata": {},
   "outputs": [
    {
     "name": "stdout",
     "output_type": "stream",
     "text": [
      "Enter any string: &\n",
      "The string contains special characters.\n"
     ]
    }
   ],
   "source": [
    "# Python program to check special character\n",
    "\n",
    "# import required package\n",
    "import re\n",
    "\n",
    "# take inputs\n",
    "string = input('Enter any string: ')\n",
    " \n",
    "# special characters\n",
    "special_char = re.compile('[@_!#$%^&*()<>?/\\|}{~:]')\n",
    "\n",
    "# check string contains special characters or not\n",
    "if(special_char.search(string) == None):\n",
    "    print('String does not contain any special characters.')\n",
    "else:\n",
    "    print('The string contains special characters.')"
   ]
  },
  {
   "cell_type": "code",
   "execution_count": 1,
   "id": "b8eadad5",
   "metadata": {},
   "outputs": [
    {
     "name": "stdout",
     "output_type": "stream",
     "text": [
      "Enter a number between 0 to 9: 3\n",
      "Three\n"
     ]
    }
   ],
   "source": [
    "#W. A P. which takes one number from 0 to 9 from the user and prints it in the word. And if the word is not from 0 to 9 then\n",
    "#it should print that number is outside of the range and program should exit.\n",
    "# For exapmple:- \n",
    "# input = 1\n",
    "# output = one\n",
    "\n",
    "num = int(input('Enter a number between 0 to 9: '))\n",
    "if num == 0:\n",
    "    print('Zero')\n",
    "elif num == 1:\n",
    "    print('One')\n",
    "elif num == 2:\n",
    "    print('Two')\n",
    "elif num == 3:\n",
    "    print('Three')\n",
    "elif num == 4:\n",
    "    print('Four')\n",
    "elif num == 5:\n",
    "    print('Five')\n",
    "elif num == 6:\n",
    "    print('Six')\n",
    "elif num == 7:\n",
    "    print('Seven')\n",
    "elif num == 8:\n",
    "    print('Eight')\n",
    "elif num == 9:\n",
    "    print('Nine')\n",
    "else:\n",
    "    print('Number not in range')"
   ]
  },
  {
   "cell_type": "code",
   "execution_count": 3,
   "id": "e4b577b2",
   "metadata": {},
   "outputs": [
    {
     "name": "stdout",
     "output_type": "stream",
     "text": [
      "Enter first number: 7\n",
      "Enter second number: 2\n",
      "\n",
      "\t\t To add enter 1\n",
      "\t\t To subtract enter 2\n",
      "\t\t To multiply enter 3\n",
      "\t\t To divide enter 4\n",
      "\t\t To divide and find quotient enter 5\n",
      "\t\t To divide and find remainder enter 6\n",
      "\t\t To divide and find num1 to the power of num2 enter 7\n",
      "\t\t To Come out of the program enter 8\n",
      "7\n",
      "division of 7 and 2 is 3.5\n",
      "7 to the power 2 is 49\n"
     ]
    }
   ],
   "source": [
    "#W. A P. to implement calculator but the operation to be done and two numbers will be taken as input from user:-\n",
    "#Operation console should show below:-\n",
    "#     Please select any one operation from below:-\n",
    "#         * To add enter 1\n",
    "#         * to subtract enter 2\n",
    "#         * To multiply enter 3\n",
    "#         * To divide enter 4\n",
    "#         * To divide and find quotient enter 5\n",
    "#         * To divide and find remainder enter 6\n",
    "#         * To divide and find num1 to the power of num2 enter 7\n",
    "#         * To Come out of the program enter 8\n",
    "\n",
    "\n",
    "num1 = int(input('Enter first number: '))\n",
    "num2 = int(input('Enter second number: '))\n",
    "print('''\n",
    "\\t\\t To add enter 1\n",
    "\\t\\t To subtract enter 2\n",
    "\\t\\t To multiply enter 3\n",
    "\\t\\t To divide enter 4\n",
    "\\t\\t To divide and find quotient enter 5\n",
    "\\t\\t To divide and find remainder enter 6\n",
    "\\t\\t To divide and find num1 to the power of num2 enter 7\n",
    "\\t\\t To Come out of the program enter 8''')\n",
    "user = int(input())\n",
    "if user == 1:\n",
    "    print(f'sum of {num1} and {num2} is {num1+num2}')\n",
    "elif user == 2:\n",
    "    if num1 > num2:\n",
    "        print(f'differnce of {num1} and {num2} is {num1-num2}')\n",
    "    else:\n",
    "        print(f'differnce between {num2} and {num1} is {num2-num1}')\n",
    "elif user == 3:\n",
    "    print(f'product of {num1} and {num2} is {num1*num2}')\n",
    "elif user == 4:\n",
    "    print(f'division of {num1} and {num2} is {num1/num2}')\n",
    "elif user == 5:\n",
    "    print(f'quotient of {num1} and {num2} is {num1//num2}')\n",
    "elif user == 6:\n",
    "    print(f'reminder of {num1} and {num2} is {num1%num2}')\n",
    "elif user == 7:\n",
    "    print(f'division of {num1} and {num2} is {num1/num2}')\n",
    "    print(f'{num1} to the power {num2} is {num1**num2}')\n",
    "elif user == 8:\n",
    "    pass\n",
    "else:\n",
    "    print('''Input not in range\n",
    "Try between 1 to 8.''')"
   ]
  },
  {
   "cell_type": "code",
   "execution_count": 4,
   "id": "fe8261ae",
   "metadata": {},
   "outputs": [
    {
     "name": "stdout",
     "output_type": "stream",
     "text": [
      "Enter a year: 2020\n",
      "2020 is leap year\n"
     ]
    }
   ],
   "source": [
    "#W A P to check whether a year entered by user is an leap year or not?\n",
    "#Check with below input:-\n",
    "    #leap year:- 2012, 1968, 2004, 1200, 1600,2400\n",
    "    #Non-lear year:- 1971, 2006, 1700,1800,1900\n",
    "    \n",
    "year = int(input('Enter a year: '))\n",
    "if year%4 == 0:\n",
    "    if year%100 == 0:\n",
    "        if year%400 == 0:\n",
    "            print(f'{year} is leap year')\n",
    "        else:\n",
    "            print(f'{year} is not leap year')\n",
    "    else:\n",
    "        print(f'{year} is leap year')\n",
    "else:\n",
    "    print(f'{year} is leap year')"
   ]
  },
  {
   "cell_type": "code",
   "execution_count": 5,
   "id": "fff51244",
   "metadata": {},
   "outputs": [
    {
     "name": "stdout",
     "output_type": "stream",
     "text": [
      "Enter the first number: 5\n",
      "Enter the second number: 9\n",
      "Enter the third number: 3\n",
      "9 is greater than 5 and 3\n"
     ]
    }
   ],
   "source": [
    "#W A P which takes three numbers from the user and prints below output:-\n",
    "#     1. num1 is greater than num2 and num3 if num1 is greater than num2 and num3\n",
    "#     2. num2 is greater than num1 and num3 if num2 is greater than num1 and num3\n",
    "#     3. num3 is greater than num1 and num2 if num3 is greater than num1 and num2\n",
    "\n",
    "#Note:- Do this problem using if - elif - else \n",
    "num1 = int(input('Enter the first number: '))\n",
    "num2 = int(input('Enter the second number: '))\n",
    "num3 = int(input('Enter the third number: '))\n",
    "\n",
    "if num1 > num2 and num1 > num3:\n",
    "    print(f'{num1} is greater than {num2} and {num3}')\n",
    "elif num2 > num3:\n",
    "    print(f'{num2} is greater than {num1} and {num3}')\n",
    "else:\n",
    "    print(f'{num3} is greater than {num1} and {num2}')\n",
    "    "
   ]
  },
  {
   "cell_type": "code",
   "execution_count": null,
   "id": "7fa9aa41",
   "metadata": {},
   "outputs": [],
   "source": []
  }
 ],
 "metadata": {
  "kernelspec": {
   "display_name": "Python 3 (ipykernel)",
   "language": "python",
   "name": "python3"
  },
  "language_info": {
   "codemirror_mode": {
    "name": "ipython",
    "version": 3
   },
   "file_extension": ".py",
   "mimetype": "text/x-python",
   "name": "python",
   "nbconvert_exporter": "python",
   "pygments_lexer": "ipython3",
   "version": "3.9.7"
  }
 },
 "nbformat": 4,
 "nbformat_minor": 5
}
