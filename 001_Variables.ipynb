{
 "cells": [
  {
   "cell_type": "markdown",
   "id": "762d22be",
   "metadata": {},
   "source": [
    "# Variables\n",
    "\n",
    "Variables are containers for storing data values."
   ]
  },
  {
   "cell_type": "markdown",
   "id": "7ca3f5b3",
   "metadata": {},
   "source": [
    "# Creating Variables\n",
    "\n",
    "Python has no command for declaring a variable.\n",
    "\n",
    "A variable is created the moment you first assign a value to it."
   ]
  },
  {
   "cell_type": "markdown",
   "id": "b6fc9935",
   "metadata": {},
   "source": [
    "# Syntax\n",
    "\n",
    "Variable_Name = Value"
   ]
  },
  {
   "cell_type": "code",
   "execution_count": 1,
   "id": "9b602541",
   "metadata": {},
   "outputs": [
    {
     "name": "stdout",
     "output_type": "stream",
     "text": [
      "SanLa Tech\n"
     ]
    }
   ],
   "source": [
    "name = 'SanLa Tech'\n",
    "print(name)"
   ]
  },
  {
   "cell_type": "markdown",
   "id": "c1d2474a",
   "metadata": {},
   "source": [
    "### Variables do not need to be declared with any particular type, and can even change type after they have been set."
   ]
  },
  {
   "cell_type": "code",
   "execution_count": 3,
   "id": "1cada79a",
   "metadata": {},
   "outputs": [],
   "source": [
    "name = 'sanjay'  # name is type of string\n",
    "age = 18         # age is type of int\n",
    "weight = 65.34   # weight is type of float\n",
    "coder = True     # coder is type of boolean\n",
    "height = complex(1,6)  # height is type of complex"
   ]
  },
  {
   "cell_type": "markdown",
   "id": "3db4b975",
   "metadata": {},
   "source": [
    "###  We can change the variable value at anytime "
   ]
  },
  {
   "cell_type": "code",
   "execution_count": 11,
   "id": "ec8b518e",
   "metadata": {},
   "outputs": [
    {
     "name": "stdout",
     "output_type": "stream",
     "text": [
      "Sanjay\n",
      "SanLa Tech\n"
     ]
    }
   ],
   "source": [
    "# above we declare  the name variable value as 'sanjay'\n",
    "print(name) #sanjay\n",
    "\n",
    "# changing the above  declared  the name variable value as 'sanjay' to 'SanLa Tech'\n",
    "name = 'SanLa Tech'\n",
    "print(name)"
   ]
  },
  {
   "cell_type": "markdown",
   "id": "78cf9c9c",
   "metadata": {},
   "source": [
    "# Casting\n",
    "\n",
    "If you want to specify the data type of a variable, this can be done with casting."
   ]
  },
  {
   "cell_type": "code",
   "execution_count": 15,
   "id": "de8486ef",
   "metadata": {},
   "outputs": [],
   "source": [
    "x = str(27)    # x will be '3'\n",
    "y = int(9)    # y will be 3\n",
    "z = float(3)  # z will be 3.0"
   ]
  },
  {
   "cell_type": "code",
   "execution_count": 17,
   "id": "596b1f89",
   "metadata": {},
   "outputs": [
    {
     "name": "stdout",
     "output_type": "stream",
     "text": [
      "10.0\n"
     ]
    }
   ],
   "source": [
    "num = 10\n",
    "f = float(num)\n",
    "print(f)"
   ]
  },
  {
   "cell_type": "markdown",
   "id": "6839a626",
   "metadata": {},
   "source": [
    "#  Get The Type\n",
    "\n",
    "You can get the data type of a variable with the type() function."
   ]
  },
  {
   "cell_type": "code",
   "execution_count": 21,
   "id": "48713a2b",
   "metadata": {},
   "outputs": [
    {
     "name": "stdout",
     "output_type": "stream",
     "text": [
      "<class 'str'>\n",
      "<class 'int'>\n",
      "<class 'bool'>\n"
     ]
    }
   ],
   "source": [
    "name = 'sanjay'\n",
    "print(type(name))\n",
    "\n",
    "age = 18   \n",
    "print(type(age))\n",
    "\n",
    "coder = True \n",
    "print(type(coder))"
   ]
  },
  {
   "cell_type": "markdown",
   "id": "233f0cd8",
   "metadata": {},
   "source": [
    "# Single or Double Quotes?\n",
    "\n",
    "String variables can be declared either by using single or double quotes:"
   ]
  },
  {
   "cell_type": "code",
   "execution_count": 22,
   "id": "443dd54a",
   "metadata": {},
   "outputs": [],
   "source": [
    "Brand = \"SanLa Tech\"\n",
    "# is same as \n",
    "Brand = 'SanLa Tech'"
   ]
  },
  {
   "cell_type": "markdown",
   "id": "e96f3cb9",
   "metadata": {},
   "source": [
    "# Case-Sensitive\n",
    "\n",
    "Variable names are case-sensitive."
   ]
  },
  {
   "cell_type": "code",
   "execution_count": 23,
   "id": "4aa04d19",
   "metadata": {},
   "outputs": [],
   "source": [
    "Brand = \"SanLa Tech\"\n",
    "#will not overwrite\n",
    "brand = \"SanLa Tech\""
   ]
  },
  {
   "cell_type": "markdown",
   "id": "1faf14e7",
   "metadata": {},
   "source": [
    "# Variable Names\n",
    "A variable can have a short name (like x and y) or a more descriptive name (age, carname, total_volume). Rules for Python variables:\n",
    "\n",
    "A variable name must start with a letter or the underscore character\n",
    "\n",
    "A variable name cannot start with a number\n",
    "\n",
    "A variable name can only contain alpha-numeric characters and underscores (A-z, 0-9, and _ )\n",
    "\n",
    "Variable names are case-sensitive (age, Age and AGE are three different variables)"
   ]
  },
  {
   "cell_type": "code",
   "execution_count": 24,
   "id": "ac7b565f",
   "metadata": {},
   "outputs": [],
   "source": [
    "myvar = \"sanla\"\n",
    "my_var = \"tech\"\n",
    "_my_var = \"watch\"\n",
    "myVar = \"and \"\n",
    "MYVAR = \"code\"\n",
    "myvar2 = \"well\""
   ]
  },
  {
   "cell_type": "markdown",
   "id": "c105e68a",
   "metadata": {},
   "source": [
    "# Multi Words Variable Names\n",
    "\n",
    "Variable names with more than one word can be difficult to read.\n",
    "\n",
    "There are several techniques you can use to make them more readable:"
   ]
  },
  {
   "cell_type": "markdown",
   "id": "8f909624",
   "metadata": {},
   "source": [
    "# Camel Case\n",
    "\n",
    "Each word, except the first, starts with a capital letter: "
   ]
  },
  {
   "cell_type": "code",
   "execution_count": 25,
   "id": "e0991f17",
   "metadata": {},
   "outputs": [],
   "source": [
    "myVariableName = 'Python'"
   ]
  },
  {
   "cell_type": "markdown",
   "id": "c91c8308",
   "metadata": {},
   "source": [
    "# Pascal Case\n",
    "\n",
    "Each word starts with a capital letter:"
   ]
  },
  {
   "cell_type": "code",
   "execution_count": 26,
   "id": "3bfe9582",
   "metadata": {},
   "outputs": [],
   "source": [
    "MyVariableName = 'core'"
   ]
  },
  {
   "cell_type": "markdown",
   "id": "347d4b27",
   "metadata": {},
   "source": [
    "# Snake Case\n",
    "\n",
    "Each word is separated by an underscore character:"
   ]
  },
  {
   "cell_type": "code",
   "execution_count": 27,
   "id": "d6c9cfbd",
   "metadata": {},
   "outputs": [],
   "source": [
    "my_variable_name = \"session\""
   ]
  },
  {
   "cell_type": "markdown",
   "id": "994e4162",
   "metadata": {},
   "source": [
    "# Identify the Address\n",
    "\n",
    "Each variable has specific adress .You can get the data type of a variable with the id() function."
   ]
  },
  {
   "cell_type": "code",
   "execution_count": 29,
   "id": "c22be2a7",
   "metadata": {},
   "outputs": [
    {
     "name": "stdout",
     "output_type": "stream",
     "text": [
      "2261177338416\n",
      "2261177336880\n"
     ]
    }
   ],
   "source": [
    "Brand = \"SanLa Tech\"\n",
    "print(id(Brand))\n",
    "\n",
    "brand = \"SanLa Tech\"\n",
    "print(id(brand))\n"
   ]
  },
  {
   "cell_type": "markdown",
   "id": "7b908b24",
   "metadata": {},
   "source": [
    "# Many Values to Multiple Variables\n",
    "\n",
    "Python allows you to assign values to multiple variables in one line:"
   ]
  },
  {
   "cell_type": "code",
   "execution_count": 30,
   "id": "7804836a",
   "metadata": {},
   "outputs": [
    {
     "name": "stdout",
     "output_type": "stream",
     "text": [
      "SanLa\n",
      "Tech\n",
      "Subscribe\n"
     ]
    }
   ],
   "source": [
    "x, y, z = \"SanLa\", \"Tech\", \"Subscribe\"\n",
    "print(x)\n",
    "print(y)\n",
    "print(z)"
   ]
  },
  {
   "cell_type": "markdown",
   "id": "8a6220f0",
   "metadata": {},
   "source": [
    "# One Value to Multiple Variables\n",
    "\n",
    "And you can assign the same value to multiple variables in one line:"
   ]
  },
  {
   "cell_type": "code",
   "execution_count": 31,
   "id": "2153c951",
   "metadata": {},
   "outputs": [
    {
     "name": "stdout",
     "output_type": "stream",
     "text": [
      "Python Developer\n",
      "Python Developer\n",
      "Python Developer\n"
     ]
    }
   ],
   "source": [
    "x = y = z = \"Python Developer\"\n",
    "print(x)\n",
    "print(y)\n",
    "print(z)"
   ]
  },
  {
   "cell_type": "code",
   "execution_count": null,
   "id": "0969c150",
   "metadata": {},
   "outputs": [],
   "source": []
  }
 ],
 "metadata": {
  "kernelspec": {
   "display_name": "Python 3 (ipykernel)",
   "language": "python",
   "name": "python3"
  },
  "language_info": {
   "codemirror_mode": {
    "name": "ipython",
    "version": 3
   },
   "file_extension": ".py",
   "mimetype": "text/x-python",
   "name": "python",
   "nbconvert_exporter": "python",
   "pygments_lexer": "ipython3",
   "version": "3.9.7"
  }
 },
 "nbformat": 4,
 "nbformat_minor": 5
}
