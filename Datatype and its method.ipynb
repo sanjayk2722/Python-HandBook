{
 "cells": [
  {
   "cell_type": "markdown",
   "id": "120c354a",
   "metadata": {},
   "source": [
    "# Datatype Methods"
   ]
  },
  {
   "cell_type": "markdown",
   "id": "8a77ad71",
   "metadata": {},
   "source": [
    "#  String and its method"
   ]
  },
  {
   "cell_type": "code",
   "execution_count": 1,
   "id": "f3f2f3e9",
   "metadata": {},
   "outputs": [
    {
     "name": "stdout",
     "output_type": "stream",
     "text": [
      "python\n",
      "6\n",
      "1736470951472\n",
      "<class 'str'>\n",
      "\n",
      "True\n",
      "True\n",
      "False\n"
     ]
    }
   ],
   "source": [
    "# - String is the combination of characters kept inside single, double or tripple quotes.\n",
    " # - In python anything written inside the quote is considered as a string.\n",
    "\n",
    "str1 = 'python'\n",
    "print(str1)  # To print the output\n",
    "print(len(str1)) # To print the length of the string.\n",
    "print(id(str1)) # To print the id of the string\n",
    "print(type(str1)) # To print the datatype.\n",
    "print()\n",
    "\n",
    " # - Object reusability.\n",
    " # - object once generated in the heap area can be used again anywhere in the program.\n",
    " # - Space doesent follow the object reusability concept.\n",
    "\n",
    "str2 = 'python'\n",
    "t1 = 'python class'\n",
    "t2 = 'python class'\n",
    "\n",
    "print(str1 is str2) # object level.\n",
    "print(str1[3] is t1[3]) # element level reusability.\n",
    "print(t1 is t2) # space doesnt follow object reusability.\n",
    "\n",
    " # - String is a sequence so bith negative and positive indexing and slicing is possible.\n",
    " # - String is immutable datatype."
   ]
  },
  {
   "cell_type": "code",
   "execution_count": 2,
   "id": "d86b59fe",
   "metadata": {},
   "outputs": [
    {
     "name": "stdout",
     "output_type": "stream",
     "text": [
      "['__add__', '__class__', '__contains__', '__delattr__', '__dir__', '__doc__', '__eq__', '__format__', '__ge__', '__getattribute__', '__getitem__', '__getnewargs__', '__gt__', '__hash__', '__init__', '__init_subclass__', '__iter__', '__le__', '__len__', '__lt__', '__mod__', '__mul__', '__ne__', '__new__', '__reduce__', '__reduce_ex__', '__repr__', '__rmod__', '__rmul__', '__setattr__', '__sizeof__', '__str__', '__subclasshook__', 'capitalize', 'casefold', 'center', 'count', 'encode', 'endswith', 'expandtabs', 'find', 'format', 'format_map', 'index', 'isalnum', 'isalpha', 'isascii', 'isdecimal', 'isdigit', 'isidentifier', 'islower', 'isnumeric', 'isprintable', 'isspace', 'istitle', 'isupper', 'join', 'ljust', 'lower', 'lstrip', 'maketrans', 'partition', 'removeprefix', 'removesuffix', 'replace', 'rfind', 'rindex', 'rjust', 'rpartition', 'rsplit', 'rstrip', 'split', 'splitlines', 'startswith', 'strip', 'swapcase', 'title', 'translate', 'upper', 'zfill']\n"
     ]
    }
   ],
   "source": [
    "print(dir(str)) # - To find all the methods of the string: \n",
    "\n",
    "# In the below output, identifiers starting and ending with underscore (__) is language defined identifiers.\n",
    "# Other than language defined identifiers everything else ae methods of string."
   ]
  },
  {
   "cell_type": "code",
   "execution_count": 3,
   "id": "15628322",
   "metadata": {},
   "outputs": [
    {
     "name": "stdout",
     "output_type": "stream",
     "text": [
      "Checking string is alpha-numberic\n",
      "True\n",
      "True\n",
      "True\n",
      "False\n",
      "\n",
      "Checking string is alphabet\n",
      "True\n",
      "False\n",
      "False\n",
      "False\n",
      "\n",
      "Checking string is ASCII\n",
      "True\n",
      "True\n",
      "True\n",
      "True\n",
      "\n",
      "Checking string is digit, numeric, decimal\n",
      "Statement 3543 'is digit' is  True\n",
      "Statement 3543 'is numeric' is  True\n",
      "Statement 3543 'is decimal' is  True\n",
      "\n",
      "Statement ² 'is digit' is  True\n",
      "Statement ² 'is numeric' is  True\n",
      "Statement ² 'is decimal' is  False\n",
      "\n",
      "Statement ⅓ 'is digit' is  False\n",
      "Statement ⅓ 'is numeric' is  True\n",
      "Statement ⅓ 'is decimal' is  False\n",
      "\n",
      "Checking string is Identifier\n",
      "True\n",
      "True\n",
      "False\n",
      "False\n",
      "\n",
      "Checking string is upper\n",
      "True\n",
      "False\n",
      "False\n",
      "\n",
      "Checking string is lower\n",
      "False\n",
      "True\n",
      "False\n",
      "\n",
      "Checking string is title\n",
      "False\n",
      "False\n",
      "True\n",
      "\n",
      "Checking string has only space\n",
      "True\n",
      "True\n",
      "True\n",
      "True\n",
      "False\n",
      "False\n",
      "\n",
      "Checking string is printable\n",
      "True\n",
      "False\n",
      "True\n",
      "True\n",
      "\n",
      "Checking string starts with\n",
      "True\n",
      "True\n",
      "False\n",
      "True\n",
      "False\n",
      "\n",
      "Checking string ends with\n",
      "True\n",
      "True\n",
      "True\n",
      "False\n"
     ]
    }
   ],
   "source": [
    "# String methods 'to check' a condition are\n",
    "\n",
    "# --> 'isalnum', 'isalpha', 'isascii', 'isdigit', 'isdecimal', isnumeric', 'isidentifier',\n",
    "# --> 'islower', 'isupper', 'istitle', 'isspace', isprintable', 'startswith', 'endswith'\n",
    "\n",
    "# - all the above mentioned method will return a boolen value.\n",
    "\n",
    "d1 = 'sanla'\n",
    "d2 = 'Python3'\n",
    "d3 = '272209'\n",
    "d4 = 'pyhton$ 98'\n",
    "\n",
    "# To check the string is alpha-numeric\n",
    "print('Checking string is alpha-numberic')\n",
    "print(d1.isalnum())\n",
    "print(d2.isalnum())\n",
    "print(d3.isalnum())\n",
    "print(d4.isalnum())\n",
    "\n",
    "# To check the string is alphabet\n",
    "print('\\nChecking string is alphabet')\n",
    "print(d1.isalpha())\n",
    "print(d2.isalpha())\n",
    "print(d3.isalpha())\n",
    "print(d4.isalpha())\n",
    "\n",
    "# To check the string is ASCII\n",
    "print('\\nChecking string is ASCII')\n",
    "print(d1.isascii())\n",
    "print(d2.isascii())\n",
    "print(d3.isascii())\n",
    "print(d4.isascii())\n",
    "\n",
    "# To check the string is digit (number apart from roman numerals, fraction,curriences adn unicode)\n",
    "# To check the string is decimal (number written in decimal format is true, but it should not have space)\n",
    "# To check the string is numeric (digit, vulgar fraction, subscript, currency, roman numerals, superscript)\n",
    "\n",
    "x = '3543'\n",
    "y = '\\u00b2' #(super script ^2)\n",
    "z = '⅓' #(vulgar fraction)\n",
    "print('\\nChecking string is digit, numeric, decimal')\n",
    "print(f'Statement {x} \\'is digit\\' is ', x.isdigit())\n",
    "print(f'Statement {x} \\'is numeric\\' is ',x.isnumeric())\n",
    "print(f'Statement {x} \\'is decimal\\' is ',x.isdecimal())\n",
    "print(f'\\nStatement {y} \\'is digit\\' is ', y.isdigit())\n",
    "print(f'Statement {y} \\'is numeric\\' is ',y.isnumeric())\n",
    "print(f'Statement {y} \\'is decimal\\' is ',y.isdecimal())\n",
    "print(f'\\nStatement {z} \\'is digit\\' is ', z.isdigit())\n",
    "print(f'Statement {z} \\'is numeric\\' is ',z.isnumeric())\n",
    "print(f'Statement {z} \\'is decimal\\' is ',z.isdecimal())\n",
    "\n",
    "# To check the string is Identifier (Identifier is a name given to variable, function, class or object)\n",
    "print('\\nChecking string is Identifier')\n",
    "print(d1.isidentifier())\n",
    "print(d2.isidentifier())\n",
    "print(d3.isidentifier())\n",
    "print(d4.isidentifier())\n",
    "\n",
    "# To check the string is upper (all the character inside the string is in upper case)\n",
    "print('\\nChecking string is upper')\n",
    "print('PYTHON'.isupper())\n",
    "print('pyhton'.isupper())\n",
    "print('Python'.isupper())\n",
    "\n",
    "# To check the string is lower (all the character inside the string is in lower case)\n",
    "print('\\nChecking string is lower')\n",
    "print('PYTHON'.islower())\n",
    "print('pyhton'.islower())\n",
    "print('Python'.islower())\n",
    "\n",
    "# To check the string is title (first character inside the string is in upper case)\n",
    "print('\\nChecking string is title')\n",
    "print('PYTHON'.istitle())\n",
    "print('pyhton'.istitle())\n",
    "print('Python'.istitle())\n",
    "\n",
    "# To check the string has only space \n",
    "print('\\nChecking string has only space')\n",
    "print(' '.isspace())\n",
    "print('\\n'.isspace())\n",
    "print('\\t'.isspace())\n",
    "print('\\v'.isspace())\n",
    "print('Sanla   Tech'.isspace())  # space betwwen is not considered\n",
    "print(''.isspace()) # empty string is not considered\n",
    "\n",
    "# To check everything inside the string is printable or not\n",
    "print('\\nChecking string is printable')\n",
    "print('PYT  HON'.isprintable())\n",
    "print('This is\\nPython'.isprintable())\n",
    "print(r'\\nPython'.isprintable())  # Raw string can be written with sufffix 'r'\n",
    "print(r'This is raw string\\'\\'\\''.isprintable()) # Everything inside the raw string is printable.\n",
    "\n",
    "# To check the string starts with (specified character)\n",
    "print('\\nChecking string starts with')\n",
    "print('This is python'.startswith('T'))\n",
    "print('This is python'.startswith('This'))\n",
    "print('This is python'.startswith('this')) # case sensitive\n",
    "print('This is python'.startswith('py', 8)) # Starting index at 8\n",
    "print('This is python'.startswith('pn', 8))\n",
    "\n",
    "# To check the string ends with (specified character)\n",
    "print('\\nChecking string ends with')\n",
    "print('This is python'.endswith('n'))\n",
    "print('This is python'.endswith('is',4,7)) # (string, start, end+1)\n",
    "print('This is python'.endswith('python'))\n",
    "print('This is python'.endswith('Python')) # case sensitive"
   ]
  },
  {
   "cell_type": "code",
   "execution_count": 4,
   "id": "3848e671",
   "metadata": {},
   "outputs": [
    {
     "name": "stdout",
     "output_type": "stream",
     "text": [
      "Changing the first character of string to upper case\n",
      "Sanla is here to solve\n",
      "\n",
      "Changing the first character of all words in string to upper case\n",
      "Sanla Is Here To Solve\n",
      "\n",
      "Applying casefold to the string\n",
      "fluss\n",
      "hello world\n",
      "sanla is here to solve\n",
      "\n",
      "Changing the string to upper case\n",
      "SANLA IS HERE TO SOLVE\n",
      "PYTHON IS POWER\n",
      "FLUSS\n",
      "\n",
      "Changing the string to lower case\n",
      "this is a statement\n",
      "fluß\n",
      "\n",
      "swap casing the string\n",
      "hIGHER VALUE\n",
      "hIGHER vALUE\n",
      "HIGHER VALUE\n",
      "higher value\n",
      "HIGHER VALUE\n",
      "\n",
      "Stripping the empty space in string\n",
      "python is easy to learn\n",
      "    python is easy to learn\n",
      "python is easy to learn    \n",
      "\n",
      "Splitting the string to list\n",
      "['python', 'is', 'easy', 'to', 'learn']\n",
      "['python ', ' easy to learn']\n",
      "['python', 'is', 'easy', 'to', 'learn'] <class 'list'>\n",
      "\n",
      "Joining the list to string\n",
      "this statement is joined\n",
      "this--statement--is--joined\n",
      "\n",
      "Replacing the character of the string\n",
      "peter geper gecked\n",
      "geter piper picked\n",
      "\n",
      "Justifying the string\n",
      "    python\n",
      "****python\n",
      "###hello###\n",
      "python$$$$$\n"
     ]
    }
   ],
   "source": [
    "# String methods 'to alter' the string\n",
    "\n",
    "# --> capitalize(), title(), casefold(), upper(), lower(), swapcase()\n",
    "# --> strip(), rstrip(), lstrip(), split(), join(), replace(), rjust(), ljust()\n",
    "\n",
    "# To capitalize the first character of the string\n",
    "print('Changing the first character of string to upper case')\n",
    "cap = 'sanLa is here to solve'\n",
    "print(cap.capitalize())\n",
    "\n",
    "# To capitalize the first character of the all the word in string\n",
    "print('\\nChanging the first character of all words in string to upper case')\n",
    "cap = 'sanLa is here to solve'\n",
    "print(cap.title())\n",
    "\n",
    "# To casefold the string (it works more aggressively as it converts everything to lower)\n",
    "cfld = 'Fluß' # ß is a german letter\n",
    "print('\\nApplying casefold to the string')\n",
    "print(cfld.casefold())\n",
    "print('HeLLo WorLD'.casefold())\n",
    "print(cap.casefold())\n",
    "\n",
    "# To change the complete string to upper case (This also works aggressively)\n",
    "print('\\nChanging the string to upper case')\n",
    "print(cap.upper())\n",
    "print('pYtHoN iS PoWEr'.upper())\n",
    "print(cfld.upper())\n",
    "\n",
    "# To change the complete string to lower case (This doesnt works aggressively)\n",
    "low = ('THiS iS a sTateMent')\n",
    "print('\\nChanging the string to lower case')\n",
    "print(low.lower())\n",
    "print('FLUß'.lower()) # ß will not be converted\n",
    "\n",
    "# To swap the string from one to another form\n",
    "print('\\nswap casing the string')\n",
    "print('HiGhEr vAlue'.capitalize().swapcase())\n",
    "print('HiGhEr vAlue'.title().swapcase())\n",
    "print('HiGhEr vAlue'.lower().swapcase())\n",
    "print('HiGhEr vAlue'.upper().swapcase())\n",
    "print('HiGhEr vAlue'.casefold().swapcase())\n",
    "\n",
    "# strip is used to remove the empty space in the string\n",
    "s = '    python is easy to learn    '\n",
    "print('\\nStripping the empty space in string')\n",
    "print(s.strip())   # strips all the empty spaces\n",
    "print(s.rstrip())  # strips empty space to the right\n",
    "print(s.lstrip())  # strips the empty sapce to the left\n",
    "\n",
    "# To split the string (this gives the output as list)\n",
    "print('\\nSplitting the string to list')\n",
    "sp = 'python is easy to learn'\n",
    "print(sp.split()) # Default seperator is space and can be altered\n",
    "print(sp.split('is')) # Seperator assigned as 'is'\n",
    "sp_lst = sp.split() # Assigning and storing the split in a variable\n",
    "print(sp_lst, type(sp_lst))\n",
    "\n",
    "# To join the list to string (Input has to given as list)\n",
    "print('\\nJoining the list to string')\n",
    "c = ['this', 'statement', 'is', 'joined']\n",
    "print(' '.join(c)) # seperator is space\n",
    "print('--'.join(c)) # altering the seperator\n",
    "\n",
    "# To replace a particular character of the string\n",
    "print('\\nReplacing the character of the string')\n",
    "rep = 'peter piper picked'\n",
    "print(rep.replace('pi', 'ge'))\n",
    "print(rep.replace('pe', 'ge', 1)) # To specify maximum number of ocurances to replace\n",
    "\n",
    "# To justify the string to left or right. (Entered number matches to the length of the string)\n",
    "print('\\nJustifying the string')\n",
    "jus_1 = 'python'\n",
    "jus_2 = 'hello'\n",
    "print(jus_1.rjust(10))      # default justifier is space\n",
    "print(jus_1.rjust(10,'*'))  # altering the justifier\n",
    "rjus = jus_2.rjust(8,'#')   # rjust and storing it to a variable\n",
    "print(rjus.ljust(11,'#'))   # ljust the stored rjust\n",
    "ljus = jus_1.ljust(11,'$')  # Ljust and storing it to a variable\n",
    "print(ljus)"
   ]
  },
  {
   "cell_type": "code",
   "execution_count": 5,
   "id": "62f18f44",
   "metadata": {},
   "outputs": [
    {
     "name": "stdout",
     "output_type": "stream",
     "text": [
      "To count the total number of occurance of a substring\n",
      "3\n",
      "2\n",
      "1\n",
      "3\n",
      "0\n",
      "1\n",
      "\n",
      "To find the first occurance of a substring by find()\n",
      "4\n",
      "8\n",
      "36\n",
      "18\n",
      "18\n",
      "-1\n",
      "\n",
      "To find the first occurance of a substring by index()\n",
      "4\n",
      "8\n",
      "36\n",
      "18\n",
      "18\n"
     ]
    },
    {
     "ename": "ValueError",
     "evalue": "substring not found",
     "output_type": "error",
     "traceback": [
      "\u001b[1;31m---------------------------------------------------------------------------\u001b[0m",
      "\u001b[1;31mValueError\u001b[0m                                Traceback (most recent call last)",
      "\u001b[1;32m~\\AppData\\Local\\Temp/ipykernel_5032/1119500358.py\u001b[0m in \u001b[0;36m<module>\u001b[1;34m\u001b[0m\n\u001b[0;32m     31\u001b[0m \u001b[0mprint\u001b[0m\u001b[1;33m(\u001b[0m\u001b[0mchk\u001b[0m\u001b[1;33m.\u001b[0m\u001b[0mindex\u001b[0m\u001b[1;33m(\u001b[0m\u001b[1;34m'l'\u001b[0m\u001b[1;33m,\u001b[0m \u001b[1;36m15\u001b[0m\u001b[1;33m)\u001b[0m\u001b[1;33m)\u001b[0m      \u001b[1;31m# search for substring starting from 15th index\u001b[0m\u001b[1;33m\u001b[0m\u001b[1;33m\u001b[0m\u001b[0m\n\u001b[0;32m     32\u001b[0m \u001b[0mprint\u001b[0m\u001b[1;33m(\u001b[0m\u001b[0mchk\u001b[0m\u001b[1;33m.\u001b[0m\u001b[0mindex\u001b[0m\u001b[1;33m(\u001b[0m\u001b[1;34m'l'\u001b[0m\u001b[1;33m,\u001b[0m \u001b[1;36m17\u001b[0m\u001b[1;33m,\u001b[0m \u001b[1;36m28\u001b[0m\u001b[1;33m)\u001b[0m\u001b[1;33m)\u001b[0m  \u001b[1;31m# search for substring between 11 and 28 index\u001b[0m\u001b[1;33m\u001b[0m\u001b[1;33m\u001b[0m\u001b[0m\n\u001b[1;32m---> 33\u001b[1;33m \u001b[0mprint\u001b[0m\u001b[1;33m(\u001b[0m\u001b[0mchk\u001b[0m\u001b[1;33m.\u001b[0m\u001b[0mindex\u001b[0m\u001b[1;33m(\u001b[0m\u001b[1;34m'z'\u001b[0m\u001b[1;33m)\u001b[0m\u001b[1;33m)\u001b[0m          \u001b[1;31m# returns 'ValueError' since the substring is not available\u001b[0m\u001b[1;33m\u001b[0m\u001b[1;33m\u001b[0m\u001b[0m\n\u001b[0m\u001b[0;32m     34\u001b[0m \u001b[1;33m\u001b[0m\u001b[0m\n\u001b[0;32m     35\u001b[0m \u001b[1;33m\u001b[0m\u001b[0m\n",
      "\u001b[1;31mValueError\u001b[0m: substring not found"
     ]
    }
   ],
   "source": [
    "#String methods 'to find or count' in the string\n",
    "\n",
    "# --> count(), find(), index(), rfind(), rindex()\n",
    "\n",
    "# To count for a total number occurance in a string\n",
    "print('To count the total number of occurance of a substring')\n",
    "chk = 'Iam looking for a letter in a string.'\n",
    "print(chk.count('i'))\n",
    "print(chk.count('i', 11))      # search for substring starting from 11th index\n",
    "print(chk.count('i', 11, 28))  # search for substring between 11 and 28 index\n",
    "print(chk.count('in'))         # search for countinity occurance\n",
    "print(chk.count('z'))          # returns zero if not found \n",
    "print(chk.count('I'))          # count() is case sensitive 'I' and 'i' are different\n",
    "\n",
    "# find(), index():\n",
    "# --> both are similar, and returns the index of first occurance of the character in  string, but\n",
    "#     find() returns -1 if the substring is not found\n",
    "#     index() returns value error if the substring is not found\n",
    "print('\\nTo find the first occurance of a substring by find()')\n",
    "print(chk.find('l'))\n",
    "print(chk.find('in'))\n",
    "print(chk.find('.'))\n",
    "print(chk.find('l', 15))      # search for substring starting from 15th index\n",
    "print(chk.find('l', 17, 28))  # search for substring between 11 and 28 index \n",
    "print(chk.find('z'))          # returns -1 since the substring is not available\n",
    "\n",
    "print('\\nTo find the first occurance of a substring by index()')\n",
    "print(chk.index('l'))\n",
    "print(chk.index('in'))\n",
    "print(chk.index('.'))\n",
    "print(chk.index('l', 15))      # search for substring starting from 15th index\n",
    "print(chk.index('l', 17, 28))  # search for substring between 11 and 28 index \n",
    "print(chk.index('z'))          # returns 'ValueError' since the substring is not available\n",
    "\n",
    "\n",
    "# rfind(), rindex()\n",
    "# they are similar to that of find() and index(), but searches starts from the right of the string"
   ]
  },
  {
   "cell_type": "code",
   "execution_count": null,
   "id": "ed343f48",
   "metadata": {},
   "outputs": [],
   "source": []
  },
  {
   "cell_type": "markdown",
   "id": "ba830ba7",
   "metadata": {},
   "source": [
    "# List and its method"
   ]
  },
  {
   "cell_type": "code",
   "execution_count": 17,
   "id": "3863f5bf",
   "metadata": {},
   "outputs": [
    {
     "name": "stdout",
     "output_type": "stream",
     "text": [
      "[123, 'SanLa', {1: 'opps', 3: 'object'}, ('listen', True), {'coder'}]\n",
      "3021546816448 <class 'list'>\n"
     ]
    }
   ],
   "source": [
    "# - List is a sequence and an ordered collection of elements in square bracket.\n",
    "# - Indexing, slicing, concatenation, repetation, membership operations are possible.\n",
    "# - It is a collection of hetrogeneous elements and allow duplicate element and its mutable.\n",
    "\n",
    "lst = [123,'SanLa',{1:'opps',3:'object'},('listen',True),{'coder'}]\n",
    "print(lst)\n",
    "print(id(lst), type(lst))"
   ]
  },
  {
   "cell_type": "code",
   "execution_count": 7,
   "id": "caf8b889",
   "metadata": {},
   "outputs": [
    {
     "name": "stdout",
     "output_type": "stream",
     "text": [
      "Enter a List i List : [130,345,6788]\n",
      "['[', '1', '3', '0', ',', '3', '4', '5', ',', '6', '7', '8', '8', ']'] <class 'list'>\n",
      "\n",
      "Enter a List in Eval : [130,345,6788]\n",
      "[130, 345, 6788] <class 'list'>\n"
     ]
    }
   ],
   "source": [
    "# taking list input from user\n",
    "# List returns each and every character as a element in list\n",
    "\n",
    "inp_lst = list(input('Enter a List i List : '))\n",
    "print(inp_lst, type(inp_lst))\n",
    "\n",
    "inp_lst = eval(input('\\nEnter a List in Eval : '))\n",
    "print(inp_lst, type(inp_lst))\n",
    "\n",
    "# eval can be used to get list input from user\n",
    "# We cant use list instead of eval as it returns each and every character as a element in list\n"
   ]
  },
  {
   "cell_type": "code",
   "execution_count": 15,
   "id": "4a99fa77",
   "metadata": {},
   "outputs": [
    {
     "name": "stdout",
     "output_type": "stream",
     "text": [
      "Coverting  every string as a element in list\n",
      "['This', 'is', 'the', 'string', 'to', 'convert']\n",
      "\n",
      "\n",
      "Converting string in to list\n",
      "['This is the string to convert']\n"
     ]
    }
   ],
   "source": [
    "# coverting string to list:\n",
    "# To split the string (this gives the output as list)\n",
    "# It returns every string as a element in list\n",
    "\n",
    "cnv = 'This is the string to convert'\n",
    "print('Coverting  every string as a element in list')\n",
    "print(cnv.split())\n",
    "print()\n",
    "\n",
    "c = 'This is the string to convert'\n",
    "print('\\nConverting string in to list')\n",
    "d = 'print([c])'\n",
    "eval(d)"
   ]
  },
  {
   "cell_type": "code",
   "execution_count": 19,
   "id": "9726b4d2",
   "metadata": {},
   "outputs": [
    {
     "name": "stdout",
     "output_type": "stream",
     "text": [
      "\n",
      "Indexing in list\n",
      "{1: 100, 2: 300}\n",
      "100\n",
      "3\n",
      "\n",
      "Slicing in list\n",
      "['python', (1, 2, 3), {1: 100, 2: 300}, ('true', 'false')]\n",
      "[('true', 'false'), {1: 100, 2: 300}, (1, 2, 3), 'python', 10.2, 10]\n"
     ]
    }
   ],
   "source": [
    "# indexing in the list\n",
    "lst = [10, 10.20, 'python', (1, 2, 3), {1:100, 2:300}, ('true','false')]\n",
    "print('\\nIndexing in list')\n",
    "print(lst[4])\n",
    "print(lst[4][1]) # nested indexing\n",
    "print(lst[3][2]) # nested indexing\n",
    "\n",
    "# slicing in the list\n",
    "print('\\nSlicing in list')\n",
    "print(lst[2:6])\n",
    "print(lst[::-1])"
   ]
  },
  {
   "cell_type": "code",
   "execution_count": 20,
   "id": "361f7a63",
   "metadata": {},
   "outputs": [
    {
     "name": "stdout",
     "output_type": "stream",
     "text": [
      "[10, 20, 30]\n",
      "[10, 20, 30]\n",
      "['Aliased', 20, 30, 40]\n",
      "['Aliased', 20, 30, 40]\n",
      "True\n"
     ]
    }
   ],
   "source": [
    "# Aliasing \n",
    "    # - It is the process of assigning another name to exsisting list\n",
    "    # - Changes made in any of them will impact both\n",
    "    \n",
    "ck_lst = [10,20,30]\n",
    "al_lst = ck_lst\n",
    "print(ck_lst)\n",
    "print(al_lst)\n",
    "al_lst[0] = 'Aliased'\n",
    "ck_lst.append(40)\n",
    "print(ck_lst)\n",
    "print(al_lst)\n",
    "print(ck_lst is al_lst)\n",
    "\n"
   ]
  },
  {
   "cell_type": "code",
   "execution_count": 34,
   "id": "cb4d04bc",
   "metadata": {},
   "outputs": [
    {
     "name": "stdout",
     "output_type": "stream",
     "text": [
      "[10, 20, 30]\n",
      "[10, 20, 30]\n",
      "[10, 'shallow', 30]\n",
      "[10, 20, 30, 'appended']\n",
      "False\n",
      "\n",
      "Shallow copy in nested list\n",
      "[10, 20, 30, ['oops', 40, 'nest']]\n",
      "[10, 20, 30, ['oops', 40, 'nest']]\n",
      "\n",
      "Concept of deepcopy\n",
      "[10, 20, 30, ['oops', 40, 'deepcopy']]\n",
      "[10, 20, 30, ['oops', 40, 'nest']]\n"
     ]
    }
   ],
   "source": [
    "# Shallow copy\n",
    "\n",
    "    # - This is used to create a independent copy of existing an list.\n",
    "    # - Changes made dosnot affect the another list.\n",
    "    \n",
    "olst = [10,20,30]\n",
    "slst = olst[::]\n",
    "print(olst)\n",
    "print(slst)\n",
    "olst[1] = 'shallow'\n",
    "slst.append('appended')\n",
    "print(olst)\n",
    "print(slst)\n",
    "print(olst is slst)\n",
    "\n",
    "   # - Concept of shallow copy doesnt work on nested list.\n",
    "print('\\nShallow copy in nested list')\n",
    "nlst = [10,20,30,['oops',40,100]]\n",
    "snlst = nlst[::]\n",
    "snlst[3][2] = 'nest'\n",
    "print(nlst)\n",
    "print(snlst)\n",
    "\n",
    "# - To create a copy of nested list deepcopy has to imported and used\n",
    "print('\\nConcept of deepcopy')\n",
    "from copy import deepcopy as dc\n",
    "dnlst = dc(nlst)\n",
    "snlst [3][2] = 'deepcopy'\n",
    "print(nlst)\n",
    "print(dnlst)"
   ]
  },
  {
   "cell_type": "code",
   "execution_count": 35,
   "id": "e3e9e49e",
   "metadata": {},
   "outputs": [
    {
     "name": "stdout",
     "output_type": "stream",
     "text": [
      "[10, 20, 30, ['oops', 40, 'change']] [10, 20, 30, ['oops', 40, 'change']]\n"
     ]
    }
   ],
   "source": [
    "nlst = [10,20,30,['oops',40,100]]\n",
    "snlst = nlst[::]\n",
    "snlst[3][2] = 'change'\n",
    "print(nlst,snlst)"
   ]
  },
  {
   "cell_type": "markdown",
   "id": "0d8674bd",
   "metadata": {},
   "source": [
    "## Methods in List"
   ]
  },
  {
   "cell_type": "code",
   "execution_count": 36,
   "id": "dc03a79a",
   "metadata": {},
   "outputs": [
    {
     "name": "stdout",
     "output_type": "stream",
     "text": [
      "['__add__', '__class__', '__class_getitem__', '__contains__', '__delattr__', '__delitem__', '__dir__', '__doc__', '__eq__', '__format__', '__ge__', '__getattribute__', '__getitem__', '__gt__', '__hash__', '__iadd__', '__imul__', '__init__', '__init_subclass__', '__iter__', '__le__', '__len__', '__lt__', '__mul__', '__ne__', '__new__', '__reduce__', '__reduce_ex__', '__repr__', '__reversed__', '__rmul__', '__setattr__', '__setitem__', '__sizeof__', '__str__', '__subclasshook__', 'append', 'clear', 'copy', 'count', 'extend', 'index', 'insert', 'pop', 'remove', 'reverse', 'sort']\n"
     ]
    }
   ],
   "source": [
    "print(dir(list))"
   ]
  },
  {
   "cell_type": "code",
   "execution_count": 57,
   "id": "f0753d82",
   "metadata": {},
   "outputs": [
    {
     "name": "stdout",
     "output_type": "stream",
     "text": [
      "\n",
      "Adding element using 'append'\n",
      "[10, 20, 30, 'true', 'false', (56, 95, 31)]\n",
      "None\n",
      "[10, 20, 30, 'true', 'false', (56, 95, 31), [{20: 30}, {40: 50}]]\n",
      "\n",
      "Adding element using 'insert'\n",
      "[10, 20, 40, 'True']\n",
      "None\n",
      "[10, 20, ['hi', 'iam', 'in'], 40, 'True']\n",
      "\n",
      "Adding element using 'extend'\n",
      "[10, 20, 30, ['true', 'false']]\n",
      "[10, 20, 30, ['true', 'false'], 'iam', 'extended', {20: 80, 50: 'hello'}]\n"
     ]
    }
   ],
   "source": [
    "# To add elements to the list\n",
    "\n",
    "# Append - This add element to the end of the list. This take one argument only\n",
    "print('\\nAdding element using \\'append\\'')\n",
    "alst = [10,20,30,'true','false',(56,95,31)]\n",
    "print(alst) # This will print  the insert element in the List.\n",
    "print(alst.append([{20:30},{40:50}]))   # This will add the element to the list but return type is none.\n",
    "print(alst) # This will print the list with appended elements.\n",
    "\n",
    "# Insert - This add element at the particular index of the list\n",
    "print('\\nAdding element using \\'insert\\'')\n",
    "ilst = [10,20,40,'True']\n",
    "print(ilst)   # This will print  the insert element in the List.\n",
    "print(ilst.insert(2,['hi', 'iam', 'in']))  # This will add the element to the list but return type is none.\n",
    "print(ilst) # This will print the list with inserted elements.\n",
    "\n",
    "\n",
    "# Extend - This extens one list into another and used to add multiple elements\n",
    "print('\\nAdding element using \\'extend\\'')\n",
    "rlst = [10,20,30,['true','false']]\n",
    "elst = ['iam', 'extended',{20:80,50:'hello'}]\n",
    "print(rlst)\n",
    "rlst.extend(elst)\n",
    "print(rlst)\n",
    "\n",
    "# Difference between append & extend:\n",
    "# - Append can take only one argument either list or tuple or string or dict at a time.\n",
    "# - Extend is used to as element or list or hetrogeneous elements"
   ]
  },
  {
   "cell_type": "code",
   "execution_count": 60,
   "id": "52ea765a",
   "metadata": {},
   "outputs": [
    {
     "name": "stdout",
     "output_type": "stream",
     "text": [
      "Removing a element from the list\n",
      "['hello', 'this', 'is', 'a', 'list']\n",
      "None\n",
      "['hello', 'this', 'is', 'list']\n",
      "\n",
      "Poping a element from the list\n",
      "40\n",
      "['nested', 'list', 'element']\n",
      "[10, 20, 30, {'hello': 20, 'world': 21}]\n",
      "\n",
      "Clearing all element from the list\n",
      "None\n",
      "[]\n"
     ]
    }
   ],
   "source": [
    "# To remove a element from the list\n",
    "\n",
    "# remove - This is used to remove single element from the list\n",
    "print('Removing a element from the list')\n",
    "rmlst = ['hello', 'this', 'is', 'a', 'list']\n",
    "print(rmlst) # This will print the list with inserted elements.\n",
    "print(rmlst.remove('a')) # Printing remove will return None\n",
    "print(rmlst) # Returns list after removing a element\n",
    "\n",
    "#pop - This is used to remove a element from the list by its index\n",
    "#    - If index is not mentioned it will remove the last element from the list\n",
    "print('\\nPoping a element from the list')\n",
    "plst = [10,20,30,40,{'hello':20,'world':21},['nested','list','element']]\n",
    "print(plst.pop(3)) # removes element from third index and prints it\n",
    "print(plst.pop()) # removes the last element from the list and print it\n",
    "print(plst) # prints the remaining list\n",
    "\n",
    "#clear() - This will remove all the elements of the list and returns empty list\n",
    "print('\\nClearing all element from the list')\n",
    "clst = [10,20,30,40,{'hello':20,'world':21},['nested','list','element']]\n",
    "print(clst.clear())  # printing clear will return None \n",
    "print(clst) # prints the list after clearing everything"
   ]
  },
  {
   "cell_type": "code",
   "execution_count": 10,
   "id": "9d3b79a7",
   "metadata": {},
   "outputs": [
    {
     "name": "stdout",
     "output_type": "stream",
     "text": [
      "Removing a range of elements from the list\n",
      "[10, 20, 30, 40, 50, 60, 200, 10, 30, 45, 53]\n",
      "\n",
      "Removing a set of elements from the list\n",
      "[40, 50, 60, 200, 45]\n"
     ]
    }
   ],
   "source": [
    "# To remove a range of elements from the list\n",
    "\n",
    "print('Removing a range of elements from the list')\n",
    "lt = [10,20,30,40,50,60,70,80,90,100,200,10,30,45,53]\n",
    "llt = lt[6:10]\n",
    "for i in llt:\n",
    "    lt.remove(i)\n",
    "print(lt)\n",
    "\n",
    "print('\\nRemoving a set of elements from the list')\n",
    "ltt = [10, 20, 30, 40, 50, 60, 200, 10, 30, 45, 53]\n",
    "for i in list(ltt):\n",
    "    if i in [10,30,53,20]:\n",
    "        ltt.remove(i)\n",
    "print(ltt)\n",
    "# In the above example copy of list has been created intially. \n",
    "# Using remove() function in python changes the index of the remaining elements.\n",
    "# while iterating this ll cause index invalidation or unexpected output.\n",
    "# This is why the copy of list has been created initially."
   ]
  },
  {
   "cell_type": "code",
   "execution_count": 20,
   "id": "aed8310f",
   "metadata": {},
   "outputs": [
    {
     "name": "stdout",
     "output_type": "stream",
     "text": [
      "Ceating a copy of list\n",
      "\n",
      "Before changing element in lstc2\n",
      "lstc1 = [100, 200, 300, 400, 'raw'] \n",
      "lstc2 = [100, 200, 300, 400, 'raw']\n",
      "\n",
      "After changing element in lstc2\n",
      "lstc1 = [100, 200, 300, 400, 'raw'] \n",
      "lstc2 = [100, 200, 300, 400, 'copy']\n",
      "\n",
      "Changes in the copy of nested list elements will impact both the list\n",
      "\n",
      "Before changing element in nlstc2\n",
      "lstc1 = [10, 20, (30, 40, 50), [60, 70, 80]] \n",
      "lstc2 = [10, 20, (30, 40, 50), [60, 70, 80]]\n",
      "\n",
      "After changing element in nlstc2\n",
      "nlstc1 = [10, 20, (30, 40, 50), [60, 'copy', 80]] \n",
      "nlstc2 = [10, 20, (30, 40, 50), [60, 'copy', 80]]\n",
      "\n",
      "To create a copy of nested list deepcopy has to imported\n",
      "nlstc1 =  [10, 20, (30, 40, 50), [60, 'SanLa', 80]] \n",
      "nlstc2 =  [10, 20, (30, 40, 50), [60, 'copy', 80]]\n"
     ]
    }
   ],
   "source": [
    "# Creating a copy of list\n",
    "\n",
    "print('Ceating a copy of list')\n",
    "lstc1 = [100,200,300,400,'raw']\n",
    "lstc2 = lstc1.copy()\n",
    "print('\\nBefore changing element in lstc2')\n",
    "print('lstc1 =',lstc1, '\\nlstc2 =',lstc2)\n",
    "\n",
    "print('\\nAfter changing element in lstc2')\n",
    "lstc2[4] = 'copy'\n",
    "print('lstc1 =',lstc1, '\\nlstc2 =',lstc2)\n",
    "\n",
    "print('\\nChanges in the copy of nested list elements will impact both the list')\n",
    "nlstc1 = [10,20,(30,40,50),[60,70,80]]\n",
    "nlstc2 = nlstc1.copy()\n",
    "print('\\nBefore changing element in nlstc2')\n",
    "print('lstc1 =',nlstc1, '\\nlstc2 =',nlstc2)\n",
    "\n",
    "\n",
    "print('\\nAfter changing element in nlstc2')\n",
    "nlstc2[3][1] = 'copy'\n",
    "print('nlstc1 =',nlstc1, '\\nnlstc2 =',nlstc2)\n",
    "# To avoid this we can import and use deepcopy.\n",
    "from copy import deepcopy\n",
    "print('\\nTo create a copy of nested list deepcopy has to imported')\n",
    "nlstc2 = deepcopy(nlstc1)\n",
    "nlstc1[3][1] = 'SanLa'\n",
    "print('nlstc1 = ',nlstc1, '\\nnlstc2 = ',nlstc2)"
   ]
  },
  {
   "cell_type": "code",
   "execution_count": 21,
   "id": "e3036dc7",
   "metadata": {},
   "outputs": [
    {
     "name": "stdout",
     "output_type": "stream",
     "text": [
      "4\n",
      "0\n",
      "\n",
      "1\n"
     ]
    },
    {
     "ename": "ValueError",
     "evalue": "80 is not in list",
     "output_type": "error",
     "traceback": [
      "\u001b[1;31m---------------------------------------------------------------------------\u001b[0m",
      "\u001b[1;31mValueError\u001b[0m                                Traceback (most recent call last)",
      "\u001b[1;32m~\\AppData\\Local\\Temp/ipykernel_7340/723550447.py\u001b[0m in \u001b[0;36m<module>\u001b[1;34m\u001b[0m\n\u001b[0;32m      9\u001b[0m \u001b[1;31m# index() - Returns the index of first occurance of a particular element from the list.\u001b[0m\u001b[1;33m\u001b[0m\u001b[1;33m\u001b[0m\u001b[0m\n\u001b[0;32m     10\u001b[0m \u001b[0mprint\u001b[0m\u001b[1;33m(\u001b[0m\u001b[0mctlst\u001b[0m\u001b[1;33m.\u001b[0m\u001b[0mindex\u001b[0m\u001b[1;33m(\u001b[0m\u001b[1;36m2\u001b[0m\u001b[1;33m)\u001b[0m\u001b[1;33m)\u001b[0m\u001b[1;33m\u001b[0m\u001b[1;33m\u001b[0m\u001b[0m\n\u001b[1;32m---> 11\u001b[1;33m \u001b[0mprint\u001b[0m\u001b[1;33m(\u001b[0m\u001b[0mctlst\u001b[0m\u001b[1;33m.\u001b[0m\u001b[0mindex\u001b[0m\u001b[1;33m(\u001b[0m\u001b[1;36m80\u001b[0m\u001b[1;33m)\u001b[0m\u001b[1;33m)\u001b[0m \u001b[1;31m# if the element is not present in the list it ValueError\u001b[0m\u001b[1;33m\u001b[0m\u001b[1;33m\u001b[0m\u001b[0m\n\u001b[0m",
      "\u001b[1;31mValueError\u001b[0m: 80 is not in list"
     ]
    }
   ],
   "source": [
    "# Count and index\n",
    "\n",
    "# count() - Returns the total occurances of a particular element in the list.\n",
    "ctlst = [100,2,200,1,2,4,2,8,16,2]\n",
    "print(ctlst.count(2))\n",
    "print(ctlst.count(80)) # if the element is not present in the list it returns 0\n",
    "print()\n",
    "\n",
    "# index() - Returns the index of first occurance of a particular element from the list.\n",
    "print(ctlst.index(2))\n",
    "print(ctlst.index(80)) # if the element is not present in the list it ValueError"
   ]
  },
  {
   "cell_type": "code",
   "execution_count": 30,
   "id": "4d6916b1",
   "metadata": {},
   "outputs": [
    {
     "name": "stdout",
     "output_type": "stream",
     "text": [
      "None\n",
      "[0, 2, 4, 6, 8, 10]\n",
      "\n",
      "Sorting in ascending order\n",
      "None\n",
      "[0, 1, 2, 3, 4, 5, 6, 7, 8, 9]\n",
      "\n",
      "\n",
      "Sorting in descending order\n",
      "None\n",
      "[9, 8, 7, 6, 5, 4, 3, 2, 1, 0]\n",
      "\n"
     ]
    }
   ],
   "source": [
    "# reverse and sorting\n",
    "\n",
    "# reverse() - This will reverse the complete list sarting from the index -1\n",
    "rvlst = [10,8,6,4,2,0]\n",
    "print(rvlst.reverse()) # printing reverse will return none.\n",
    "print(rvlst) # this will return the reversed list\n",
    "\n",
    "# sorting - This will sort the list in ascending or descending order\n",
    "# by default sort() will arrange the ascending order\n",
    "# to arrange in descending order use sort(reverse=True)\n",
    "print('\\nSorting in ascending order')\n",
    "alst = [0,8,5,2,1,6,3,4,9,7]\n",
    "print(alst.sort()) # printing sort will return none.\n",
    "print(alst) # this will return the ascending order sorted list\n",
    "print()\n",
    "\n",
    "print('\\nSorting in descending order')\n",
    "dlst = [0,8,5,2,1,6,3,4,9,7]\n",
    "print(dlst.sort(reverse=True)) # printing sort will return none.\n",
    "print(dlst) # this will return the ascending order sorted list\n",
    "print()"
   ]
  },
  {
   "cell_type": "code",
   "execution_count": null,
   "id": "8f17b6b1",
   "metadata": {},
   "outputs": [],
   "source": []
  },
  {
   "cell_type": "markdown",
   "id": "b2cca6b9",
   "metadata": {},
   "source": [
    "# Tuple and its method"
   ]
  },
  {
   "cell_type": "code",
   "execution_count": 31,
   "id": "63753156",
   "metadata": {},
   "outputs": [
    {
     "name": "stdout",
     "output_type": "stream",
     "text": [
      "Declaring a simple tuple\n",
      "(10, 20, 30) \n",
      "datatype is <class 'tuple'> \n",
      "id of the tuple is: 3105313654720\n",
      "\n",
      "Declaring a nested tuple\n",
      "(10, 20, ('true', 'false'), [52, 2, 32], {5: 12, 89: 98}) \n",
      "datatype is <class 'tuple'> \n",
      "id of the tuple is: 3105318230032\n",
      "\n",
      "Declaring tuple without brackets\n",
      "('hello', 'this', 'is', 'tuple') \n",
      "datatype is <class 'tuple'> \n",
      "id of the tuple is: 3105319034368\n",
      "\n",
      "Declaring a single element as tuple\n",
      "(10,) \n",
      "datatype is <class 'tuple'> \n",
      "id of the tuple is: 3105318089632\n"
     ]
    }
   ],
   "source": [
    "# Tuple is a sequence that has ordered collection of elements.\n",
    "# Indexing, slicing, concatenation, repetation is possible.\n",
    "# Tuple is a immutable object and that can hold hetrogeneous elements.\n",
    "# In tuple all elements are kept inside '()' and seperated by comma ','\n",
    "# To declare a tuple, the brackets are optional but the comma is mandatory\n",
    "\n",
    "print('Declaring a simple tuple')\n",
    "tpl = (10,20,30)\n",
    "print(tpl, '\\ndatatype is',type(tpl), '\\nid of the tuple is:',id(tpl))\n",
    "\n",
    "print('\\nDeclaring a nested tuple')\n",
    "ntpl = (10,20,('true', 'false'),[52,2,32],{5:12,89:98})\n",
    "print(ntpl, '\\ndatatype is',type(ntpl), '\\nid of the tuple is:',id(ntpl))\n",
    "\n",
    "print('\\nDeclaring tuple without brackets')\n",
    "btpl = 'hello', 'this', 'is', 'tuple'\n",
    "print(btpl, '\\ndatatype is',type(btpl), '\\nid of the tuple is:',id(btpl))\n",
    "\n",
    "print('\\nDeclaring a single element as tuple')\n",
    "stpl = 10,\n",
    "print(stpl, '\\ndatatype is',type(stpl), '\\nid of the tuple is:',id(stpl))"
   ]
  },
  {
   "cell_type": "code",
   "execution_count": 33,
   "id": "c619c9ed",
   "metadata": {},
   "outputs": [
    {
     "name": "stdout",
     "output_type": "stream",
     "text": [
      "Enter a tuple: 34,56,7,7,\n",
      "(34, 56, 7, 7)\n",
      "\n",
      "This method doesnt work as expected\n",
      "Enter a tuple: 34,56,7,7,\n",
      "('3', '4', ',', '5', '6', ',', '7', ',', '7', ',')\n"
     ]
    }
   ],
   "source": [
    "# Tatking tuple input from user\n",
    "\n",
    "inp_tpl = eval(input('Enter a tuple: '))\n",
    "print(inp_tpl)\n",
    "\n",
    "# Similar to that of list, tuple also uses eval to process the input taken from user. \n",
    "# tuple(input()) doesnt work as expected as it splits input as a individual element.\n",
    "print('\\nThis method doesnt work as expected')\n",
    "winp_tpl = tuple(input('Enter a tuple: '))\n",
    "print(winp_tpl)"
   ]
  },
  {
   "cell_type": "markdown",
   "id": "74524ddc",
   "metadata": {},
   "source": [
    "# Methods in Tuple"
   ]
  },
  {
   "cell_type": "code",
   "execution_count": 34,
   "id": "3827cdca",
   "metadata": {},
   "outputs": [
    {
     "name": "stdout",
     "output_type": "stream",
     "text": [
      "['__add__', '__class__', '__class_getitem__', '__contains__', '__delattr__', '__dir__', '__doc__', '__eq__', '__format__', '__ge__', '__getattribute__', '__getitem__', '__getnewargs__', '__gt__', '__hash__', '__init__', '__init_subclass__', '__iter__', '__le__', '__len__', '__lt__', '__mul__', '__ne__', '__new__', '__reduce__', '__reduce_ex__', '__repr__', '__rmul__', '__setattr__', '__sizeof__', '__str__', '__subclasshook__', 'count', 'index']\n"
     ]
    }
   ],
   "source": [
    "print(dir(tuple))\n",
    "\n",
    "# Identifiers starting and ending with underscore are language defined identifiers\n",
    "# other than that count and index are the two methods of list."
   ]
  },
  {
   "cell_type": "code",
   "execution_count": 35,
   "id": "f0ab7f31",
   "metadata": {},
   "outputs": [
    {
     "name": "stdout",
     "output_type": "stream",
     "text": [
      "2\n",
      "0\n",
      "\n",
      "2\n"
     ]
    },
    {
     "ename": "ValueError",
     "evalue": "tuple.index(x): x not in tuple",
     "output_type": "error",
     "traceback": [
      "\u001b[1;31m---------------------------------------------------------------------------\u001b[0m",
      "\u001b[1;31mValueError\u001b[0m                                Traceback (most recent call last)",
      "\u001b[1;32m~\\AppData\\Local\\Temp/ipykernel_7340/3675634654.py\u001b[0m in \u001b[0;36m<module>\u001b[1;34m\u001b[0m\n\u001b[0;32m     10\u001b[0m \u001b[0mitple\u001b[0m \u001b[1;33m=\u001b[0m \u001b[1;36m10\u001b[0m\u001b[1;33m,\u001b[0m\u001b[1;36m20\u001b[0m\u001b[1;33m,\u001b[0m\u001b[1;36m2\u001b[0m\u001b[1;33m,\u001b[0m\u001b[1;36m5\u001b[0m\u001b[1;33m,\u001b[0m\u001b[1;36m8\u001b[0m\u001b[1;33m,\u001b[0m\u001b[1;36m2\u001b[0m\u001b[1;33m,\u001b[0m\u001b[1;36m6\u001b[0m\u001b[1;33m,\u001b[0m\u001b[1;36m4\u001b[0m\u001b[1;33m,\u001b[0m\u001b[1;36m5\u001b[0m\u001b[1;33m,\u001b[0m\u001b[1;36m1\u001b[0m\u001b[1;33m,\u001b[0m\u001b[1;36m10\u001b[0m\u001b[1;33m\u001b[0m\u001b[1;33m\u001b[0m\u001b[0m\n\u001b[0;32m     11\u001b[0m \u001b[0mprint\u001b[0m\u001b[1;33m(\u001b[0m\u001b[0mitple\u001b[0m\u001b[1;33m.\u001b[0m\u001b[0mindex\u001b[0m\u001b[1;33m(\u001b[0m\u001b[1;36m2\u001b[0m\u001b[1;33m)\u001b[0m\u001b[1;33m)\u001b[0m\u001b[1;33m\u001b[0m\u001b[1;33m\u001b[0m\u001b[0m\n\u001b[1;32m---> 12\u001b[1;33m \u001b[0mprint\u001b[0m\u001b[1;33m(\u001b[0m\u001b[0mitple\u001b[0m\u001b[1;33m.\u001b[0m\u001b[0mindex\u001b[0m\u001b[1;33m(\u001b[0m\u001b[1;36m7\u001b[0m\u001b[1;33m)\u001b[0m\u001b[1;33m)\u001b[0m \u001b[1;31m# If the element is not present in the tuple it returns ValueError\u001b[0m\u001b[1;33m\u001b[0m\u001b[1;33m\u001b[0m\u001b[0m\n\u001b[0m",
      "\u001b[1;31mValueError\u001b[0m: tuple.index(x): x not in tuple"
     ]
    }
   ],
   "source": [
    "# count and index\n",
    "\n",
    "# count() - This gives the count of all occurances of a particular element\n",
    "ctple = 10,20,2,5,8,2,6,4,5,1,10\n",
    "print(ctple.count(2))\n",
    "print(ctple.count(7)) # If the element is not present in the tuple it returns zero\n",
    "print()\n",
    "\n",
    "# index() - This gives the index of first occurance of a particular element\n",
    "itple = 10,20,2,5,8,2,6,4,5,1,10\n",
    "print(itple.index(2))\n",
    "print(itple.index(7)) # If the element is not present in the tuple it returns ValueError"
   ]
  },
  {
   "cell_type": "code",
   "execution_count": 36,
   "id": "072abb1c",
   "metadata": {},
   "outputs": [
    {
     "name": "stdout",
     "output_type": "stream",
     "text": [
      "('iam', 'unpacked', 'tuple', 'getting packed') \n",
      "datatype is <class 'tuple'> \n",
      "id of the tuple is: 3105319056784\n",
      "\n",
      "('iam', <class 'str'>)\n",
      "('packed', <class 'str'>)\n",
      "('tuple', <class 'str'>)\n",
      "('getting unpacked', <class 'str'>)\n"
     ]
    }
   ],
   "source": [
    "# Tuple packing - method of packing multiple hetrogeneous object as tuple.\n",
    "a = 'iam'\n",
    "b = 'unpacked'\n",
    "c = 'tuple'\n",
    "d = 'getting packed'\n",
    "ptpl = a, b, c, d\n",
    "print(ptpl, '\\ndatatype is',type(ptpl), '\\nid of the tuple is:',id(ptpl))\n",
    "print()\n",
    "\n",
    "# Tuple unpacking - method of splitting the element of tuple to individual objects / variables.\n",
    "uptpl = 'iam', 'packed', 'tuple', 'getting unpacked'\n",
    "p, q, r, s = uptpl\n",
    "print((p, type(p)),(q, type(q)),(r, type(r)),(s, type(s)),sep='\\n')"
   ]
  },
  {
   "cell_type": "code",
   "execution_count": null,
   "id": "769d439d",
   "metadata": {},
   "outputs": [],
   "source": []
  },
  {
   "cell_type": "markdown",
   "id": "dbbf3063",
   "metadata": {},
   "source": [
    "# Dictionary and its method"
   ]
  },
  {
   "cell_type": "code",
   "execution_count": 1,
   "id": "1fafce42",
   "metadata": {},
   "outputs": [],
   "source": [
    "# Dictionary is a combination of key-value pairs seperated by semi-colan ':' and kept inside '{}'\n",
    "# Dictionary is a mutable object but it doent allow mutable object as key\n",
    "# Key cant be duplicated but values can be duplicated.\n",
    "# Indexing and slicing is not possible.\n",
    "# To access a vale we have to use its key."
   ]
  },
  {
   "cell_type": "code",
   "execution_count": 2,
   "id": "2049413f",
   "metadata": {},
   "outputs": [
    {
     "name": "stdout",
     "output_type": "stream",
     "text": [
      "{'std': {'name': 'abc', 'num': 40}, 'std2': {'num': 50}} \n",
      "Type of dictionary : <class 'dict'> \n",
      "Id of dictionary : 3052416667200\n"
     ]
    }
   ],
   "source": [
    "dct = {'std': {'name':'abc', 'num':40}, 'std2':{'num':50}}\n",
    "print(dct, '\\nType of dictionary :',type(dct),'\\nId of dictionary :',id(dct))"
   ]
  },
  {
   "cell_type": "code",
   "execution_count": 8,
   "id": "dedb1968",
   "metadata": {},
   "outputs": [
    {
     "name": "stdout",
     "output_type": "stream",
     "text": [
      "{'name': 'SanLa', 'num': 40}\n",
      "SanLa\n",
      "\n",
      "{'std': {'name': 'SanLa', 'num': 40}, 'std2': {'num': 50}}\n"
     ]
    }
   ],
   "source": [
    "# To access a value in dictionary\n",
    "print(dct['std'])\n",
    "print(dct['std']['name'])\n",
    "print()\n",
    "\n",
    "# To change the value in dictionary\n",
    "dct['std']['name'] = 'SanLa'\n",
    "print(dct)"
   ]
  },
  {
   "cell_type": "code",
   "execution_count": 9,
   "id": "7787f5e6",
   "metadata": {},
   "outputs": [
    {
     "name": "stdout",
     "output_type": "stream",
     "text": [
      "['__class__', '__class_getitem__', '__contains__', '__delattr__', '__delitem__', '__dir__', '__doc__', '__eq__', '__format__', '__ge__', '__getattribute__', '__getitem__', '__gt__', '__hash__', '__init__', '__init_subclass__', '__ior__', '__iter__', '__le__', '__len__', '__lt__', '__ne__', '__new__', '__or__', '__reduce__', '__reduce_ex__', '__repr__', '__reversed__', '__ror__', '__setattr__', '__setitem__', '__sizeof__', '__str__', '__subclasshook__', 'clear', 'copy', 'fromkeys', 'get', 'items', 'keys', 'pop', 'popitem', 'setdefault', 'update', 'values']\n"
     ]
    }
   ],
   "source": [
    "# To view all the methods in dictionary\n",
    "print(dir(dict))\n",
    "\n",
    "# The identifiers starting and ending with underscore (_) are language defined identifiers\n",
    "# Other than that everything are the methods of dictionary\n",
    "# Methods of dictionary are clear', 'copy', 'fromkeys', 'get', 'items', \n",
    "# 'keys', 'pop' ,'popitem', 'setdefault', 'update', 'values'"
   ]
  },
  {
   "cell_type": "code",
   "execution_count": 11,
   "id": "f4df8646",
   "metadata": {},
   "outputs": [
    {
     "name": "stdout",
     "output_type": "stream",
     "text": [
      "Get method in dictionary\n",
      "{'name': 'SanLa', 'num': 40}\n",
      "None\n",
      "key-value pair not available\n",
      "\n",
      "Setdefault method in dictionary\n",
      "None\n",
      "krishna\n",
      "{1: 20, 'true': 56, 'class': 10, 'age': None, 'name': 'krishna'}\n"
     ]
    }
   ],
   "source": [
    "# get and setdefault\n",
    "\n",
    "# get() - It returns the value of the particular key\n",
    "#       - If the key is not available it returns None which can be edited by the user.\n",
    "print('Get method in dictionary')\n",
    "print(dct.get('std'))  # Returns the value of 'std'\n",
    "print(dct.get('std3')) # Returns None since the key is not present\n",
    "print(dct.get('hello', 'key-value pair not available'))  # Returns user defined output if the key not available\n",
    "\n",
    "# setdefult() - It returns the value of the particular key.\n",
    "#             - If the key is not available it returns None and adds None as value to mentioned key\n",
    "#             - This can also be used to add key-value pair to dictionary\n",
    "print('\\nSetdefault method in dictionary')\n",
    "sdct = {1:20, 'true': 56, 'class':10}\n",
    "print(sdct.setdefault('age'))  # Key 'age is not available so it returns None and saves it as value'\n",
    "print(sdct.setdefault('name','krishna')) # Key 'name' is not available so it returns the assigned value & saves it\n",
    "print(sdct)"
   ]
  },
  {
   "cell_type": "code",
   "execution_count": 12,
   "id": "21ed79cd",
   "metadata": {},
   "outputs": [
    {
     "name": "stdout",
     "output_type": "stream",
     "text": [
      "\n",
      "Default method in dictionary\n",
      "{10: 'suresh', 30: 10, 50: {5: 5, 60: 6}, 45: 82, 'name': 'krishna', 101: 202}\n"
     ]
    }
   ],
   "source": [
    "#  update() - Its is used to update the dictionary with new key value pair or assign new value to available key\n",
    "print('\\nDefault method in dictionary')\n",
    "udct = {10:20,30:10,50:89,45:82}\n",
    "udct.update({10:'suresh'}) # return type is None\n",
    "udct.update({'name':'krishna',101:202,50:{5:5,60:6}}) # return type is None\n",
    "print(udct)"
   ]
  },
  {
   "cell_type": "code",
   "execution_count": 13,
   "id": "b462f2c4",
   "metadata": {},
   "outputs": [
    {
     "name": "stdout",
     "output_type": "stream",
     "text": [
      "Pop method in dictionary\n",
      "40\n",
      "Key not present\n",
      "{50: 5, 6: 60, 8: 80}\n",
      "\n",
      "Popitem method in dictionary\n",
      "(8, 80)\n",
      "{50: 5, 6: 60}\n"
     ]
    }
   ],
   "source": [
    "# Removing a pair from dictionary\n",
    "\n",
    "# pop() - It is used to remove a particular element from the dictionary\n",
    "print('Pop method in dictionary')\n",
    "pdct = {10:40,50:5,6:60,8:80}\n",
    "print(pdct.pop(10)) # removes the pair and returns the removed value\n",
    "# print(pdct.pop(100))  # returns key error if the key is not present in the dictionary\n",
    "print(pdct.pop(100, 'Key not present')) # To avoid KeyError custom message can be used\n",
    "print(pdct) # returns the dictionary after removing the mentioned pair\n",
    "\n",
    "# popitem() - This removes a last pair from the dictionary.\n",
    "#           - Returns key error if the dictionary is empty.\n",
    "print('\\nPopitem method in dictionary')\n",
    "print(pdct.popitem()) # removes the last pair and returns it\n",
    "print(pdct) # returns the dictionary after removing last pair"
   ]
  },
  {
   "cell_type": "code",
   "execution_count": 16,
   "id": "44f5be09",
   "metadata": {},
   "outputs": [
    {
     "name": "stdout",
     "output_type": "stream",
     "text": [
      "dict_keys(['a', 'b', 'c', 'd', 'e'])\n",
      "dict_values(['apple', 'bash', 'complier', 'django', 'execute'])\n",
      "dict_items([('a', 'apple'), ('b', 'bash'), ('c', 'complier'), ('d', 'django'), ('e', 'execute')])\n"
     ]
    }
   ],
   "source": [
    "#items(), keys(), values() - These creates a sequence of required elements from the dictionary\n",
    "idct ={'a':'apple','b':'bash','c':'complier','d':'django','e':'execute'}\n",
    "print(idct.keys())\n",
    "print(idct.values())\n",
    "print(idct.items())"
   ]
  },
  {
   "cell_type": "code",
   "execution_count": 23,
   "id": "6b627baf",
   "metadata": {},
   "outputs": [
    {
     "name": "stdout",
     "output_type": "stream",
     "text": [
      "Printing Keys\n",
      "a b c d e \n",
      "\n",
      "Printing Values\n",
      "apple bash complier django execute \n",
      "\n",
      "Printing items\n",
      "('a', 'apple') ('b', 'bash') ('c', 'complier') ('d', 'django') ('e', 'execute') "
     ]
    }
   ],
   "source": [
    "#This can be loop through the dictionary\n",
    "print('Printing Keys')\n",
    "for i in idct.keys():\n",
    "    print(i,end=' ')\n",
    "\n",
    "print('\\n\\nPrinting Values')\n",
    "for i in idct.values():\n",
    "    print(i,end=' ')\n",
    "    \n",
    "print('\\n\\nPrinting items')\n",
    "for i in idct.items():\n",
    "    print(i, end=' ')"
   ]
  },
  {
   "cell_type": "code",
   "execution_count": 24,
   "id": "a8ff39ca",
   "metadata": {},
   "outputs": [
    {
     "name": "stdout",
     "output_type": "stream",
     "text": [
      "{1: 'SanLa', 2: 'SanLa', 3: 'SanLa', 4: 'SanLa', 5: 'SanLa'}\n"
     ]
    }
   ],
   "source": [
    "# fromkeys() - This method is used to create default values for all keys in dictionary.\n",
    "fdct = {}\n",
    "fdct = fdct.fromkeys([1,2,3,4,5],'SanLa') # Assign it to a variable will return the expected output\n",
    "print(fdct)"
   ]
  },
  {
   "cell_type": "code",
   "execution_count": 25,
   "id": "ede0e7fa",
   "metadata": {},
   "outputs": [
    {
     "name": "stdout",
     "output_type": "stream",
     "text": [
      "Before making changes to copy\n",
      "{1: 400, 2: 800, 3: 1200, 4: 2000}\n",
      "{1: 400, 2: 800, 3: 1200, 4: 2000}\n",
      "\n",
      "After making changes to copy\n",
      "{1: 400, 2: 800, 3: 1200, 4: 2000}\n",
      "{1: 400, 2: 800, 3: 1200, 4: 1600}\n"
     ]
    }
   ],
   "source": [
    "# copy() - This method creates a shallow copy of the dictionary\n",
    "\n",
    "spdct = {1:400, 2:800, 3:1200, 4:2000}\n",
    "cpdct = spdct.copy()\n",
    "print('Before making changes to copy')\n",
    "print(spdct,cpdct,sep='\\n')\n",
    "print('\\nAfter making changes to copy')\n",
    "cpdct.update({4:1600})\n",
    "print(spdct,cpdct,sep='\\n')\n",
    "\n",
    "# To create a deepcopy:\n",
    "from copy import deepcopy\n",
    "dpdct = deepcopy(spdct)"
   ]
  },
  {
   "cell_type": "code",
   "execution_count": null,
   "id": "f1214f81",
   "metadata": {},
   "outputs": [],
   "source": []
  }
 ],
 "metadata": {
  "kernelspec": {
   "display_name": "Python 3 (ipykernel)",
   "language": "python",
   "name": "python3"
  },
  "language_info": {
   "codemirror_mode": {
    "name": "ipython",
    "version": 3
   },
   "file_extension": ".py",
   "mimetype": "text/x-python",
   "name": "python",
   "nbconvert_exporter": "python",
   "pygments_lexer": "ipython3",
   "version": "3.9.7"
  }
 },
 "nbformat": 4,
 "nbformat_minor": 5
}
