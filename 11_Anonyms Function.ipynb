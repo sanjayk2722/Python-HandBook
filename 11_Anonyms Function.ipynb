{
 "cells": [
  {
   "cell_type": "markdown",
   "id": "d8c06ecb",
   "metadata": {},
   "source": [
    "# Anonyms Function\n",
    "\n",
    "Function without name,Multiple argument single expression remember it will work only one function\n",
    "\n",
    "Syntax :\n",
    "        Function object = keyword argument:expression\n",
    "        \n",
    "        f = lambda a : a * a"
   ]
  },
  {
   "cell_type": "code",
   "execution_count": 1,
   "id": "0f681aa4",
   "metadata": {},
   "outputs": [
    {
     "name": "stdout",
     "output_type": "stream",
     "text": [
      "4\n"
     ]
    }
   ],
   "source": [
    "# normLLY in function Squaring the numbers\n",
    "def sq(a):\n",
    "    return a*a\n",
    "res = sq(2)\n",
    "print(res)"
   ]
  },
  {
   "cell_type": "code",
   "execution_count": 2,
   "id": "08a86fc5",
   "metadata": {},
   "outputs": [
    {
     "name": "stdout",
     "output_type": "stream",
     "text": [
      "25\n"
     ]
    }
   ],
   "source": [
    "#Using anonyms function squares the number\n",
    "f = lambda a : a*a\n",
    "print(f(5))"
   ]
  },
  {
   "cell_type": "code",
   "execution_count": 4,
   "id": "03b1532a",
   "metadata": {},
   "outputs": [
    {
     "name": "stdout",
     "output_type": "stream",
     "text": [
      "3\n"
     ]
    }
   ],
   "source": [
    "#Using anonyms function subracting  the number\n",
    "f = lambda a,b : a-b\n",
    "print(f(5,2))"
   ]
  },
  {
   "cell_type": "markdown",
   "id": "81c87f56",
   "metadata": {},
   "source": [
    "## Filter\n",
    "\n",
    "we can use the filter method with a combination of a lambda function to filter out items from the list.\n",
    "\n",
    "Syntax:Filter(function,iterable(sequence)"
   ]
  },
  {
   "cell_type": "code",
   "execution_count": 11,
   "id": "791c1834",
   "metadata": {},
   "outputs": [
    {
     "name": "stdout",
     "output_type": "stream",
     "text": [
      "[90, 76, 88, 81]\n"
     ]
    }
   ],
   "source": [
    "# filter the scores of the student using filter function in noraml function\n",
    "\n",
    "scores = [66, 90, 68, 59, 76, 60, 88, 74, 81, 65]\n",
    "\n",
    "def check(score):\n",
    "    return score > 75 \n",
    "over_75 = list(filter(check,scores))\n",
    "print(over_75)"
   ]
  },
  {
   "cell_type": "code",
   "execution_count": 9,
   "id": "714c4250",
   "metadata": {},
   "outputs": [
    {
     "name": "stdout",
     "output_type": "stream",
     "text": [
      "[90, 76, 88, 81]\n"
     ]
    }
   ],
   "source": [
    "# filter the scores of the student using filter function in anonyms function\n",
    "\n",
    "scores = [66, 90, 68, 59, 76, 60, 88, 74, 81, 65]\n",
    "\n",
    "over_75 = list(filter(lambda n:n > 75,scores))\n",
    "print(over_75)"
   ]
  },
  {
   "cell_type": "code",
   "execution_count": 13,
   "id": "f76db7b3",
   "metadata": {},
   "outputs": [
    {
     "name": "stdout",
     "output_type": "stream",
     "text": [
      "[2, 4, 6, 8, 10, 12, 14, 16, 18, 20]\n"
     ]
    }
   ],
   "source": [
    "#filter the even number in the list using noraml function\n",
    "num = list(range(1,21))\n",
    "\n",
    "def evens(n):\n",
    "    return n%2 == 0\n",
    "res = list(filter(evens,num))\n",
    "print(res)"
   ]
  },
  {
   "cell_type": "code",
   "execution_count": 16,
   "id": "fb30c3cb",
   "metadata": {},
   "outputs": [
    {
     "name": "stdout",
     "output_type": "stream",
     "text": [
      "[2, 4, 6, 8, 10, 12, 14, 16, 18, 20]\n"
     ]
    }
   ],
   "source": [
    "#filter the even number in the list using noraml function\n",
    "num = list(range(1,21))\n",
    "even_num= list(filter(lambda n:n%2 == 0,num))\n",
    "print(even_num)"
   ]
  },
  {
   "cell_type": "markdown",
   "id": "ba16d7eb",
   "metadata": {},
   "source": [
    "## Map\n",
    "\n",
    "The map() function executes a specified function for each item in an iterable. The item is sent to the function as a parameter.\n",
    "\n",
    "Synatx:map(function, iterables)\n",
    "\n"
   ]
  },
  {
   "cell_type": "code",
   "execution_count": 17,
   "id": "c1bb5e41",
   "metadata": {},
   "outputs": [
    {
     "name": "stdout",
     "output_type": "stream",
     "text": [
      "[2, 4, 6, 8, 10, 12, 14, 16, 18, 20, 22, 24, 26, 28, 30, 32, 34, 36, 38, 40]\n"
     ]
    }
   ],
   "source": [
    "#multiply 2 into each list items using function\n",
    "num = list(range(1,21))\n",
    "def update(n):\n",
    "    return n*2\n",
    "res = list(map(update,num))\n",
    "print(res)"
   ]
  },
  {
   "cell_type": "code",
   "execution_count": 19,
   "id": "53a11c0e",
   "metadata": {},
   "outputs": [
    {
     "name": "stdout",
     "output_type": "stream",
     "text": [
      "[2, 4, 6, 8, 10, 12, 14, 16, 18, 20, 22, 24, 26, 28, 30, 32, 34, 36, 38, 40]\n"
     ]
    }
   ],
   "source": [
    "#multiply 2 into each list items using anonyms function\n",
    "num = list(range(1,21))\n",
    "double_lstitem = list(map(lambda n : n*2,num))\n",
    "print(double_lstitem)"
   ]
  },
  {
   "cell_type": "code",
   "execution_count": 22,
   "id": "a551a8d3",
   "metadata": {},
   "outputs": [
    {
     "name": "stdout",
     "output_type": "stream",
     "text": [
      "[('a', 1), ('b', 2), ('c', 3), ('d', 4), ('e', 5)]\n"
     ]
    }
   ],
   "source": [
    "# zip to list of elements usinf anonyms function\n",
    "my_strings = ['a', 'b', 'c', 'd', 'e']\n",
    "my_numbers = [1, 2, 3, 4, 5]\n",
    "f = list(map(lambda x,y :(x,y),my_strings,my_numbers))\n",
    "print(f)"
   ]
  },
  {
   "cell_type": "markdown",
   "id": "a64ebc36",
   "metadata": {},
   "source": [
    "## Reduce\n",
    "\n",
    "The reduce(fun,seq) function is used to apply a particular function passed in its argument to all of the list elements mentioned in the sequence passed along.This function is defined in “functools” module."
   ]
  },
  {
   "cell_type": "code",
   "execution_count": 24,
   "id": "25c35de7",
   "metadata": {},
   "outputs": [
    {
     "name": "stdout",
     "output_type": "stream",
     "text": [
      "420\n"
     ]
    }
   ],
   "source": [
    "#importing reduce from functools\n",
    "from functools import reduce\n",
    "# adding all the elements in double_lstitem using reduce by normal function\n",
    "def all_adder(a,b):\n",
    "    return a+b\n",
    "res = reduce(all_adder,double_lstitem)\n",
    "print(res)"
   ]
  },
  {
   "cell_type": "code",
   "execution_count": 25,
   "id": "7d8b07a2",
   "metadata": {},
   "outputs": [
    {
     "name": "stdout",
     "output_type": "stream",
     "text": [
      "420\n"
     ]
    }
   ],
   "source": [
    "# adding all the elements in double_lstitem using reduce by anonyms function\n",
    "\n",
    "all_adder = reduce(lambda x,y : x+y,double_lstitem)\n",
    "print(all_adder)"
   ]
  },
  {
   "cell_type": "code",
   "execution_count": null,
   "id": "2a3ee031",
   "metadata": {},
   "outputs": [],
   "source": []
  }
 ],
 "metadata": {
  "kernelspec": {
   "display_name": "Python 3 (ipykernel)",
   "language": "python",
   "name": "python3"
  },
  "language_info": {
   "codemirror_mode": {
    "name": "ipython",
    "version": 3
   },
   "file_extension": ".py",
   "mimetype": "text/x-python",
   "name": "python",
   "nbconvert_exporter": "python",
   "pygments_lexer": "ipython3",
   "version": "3.9.7"
  }
 },
 "nbformat": 4,
 "nbformat_minor": 5
}
