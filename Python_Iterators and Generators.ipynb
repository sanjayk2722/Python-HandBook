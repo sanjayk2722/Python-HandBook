{
 "cells": [
  {
   "cell_type": "markdown",
   "id": "05b30971",
   "metadata": {},
   "source": [
    "# Python Iterators\n",
    "\n",
    "An iterator is an object that contains a countable number of values.\n",
    "\n",
    "An iterator is an object that can be iterated upon, meaning that you can traverse through all the values.\n",
    "\n",
    "Technically, in Python, an iterator is an object which implements the iterator protocol, which consist of the methods __iter__() and __next__()."
   ]
  },
  {
   "cell_type": "markdown",
   "id": "d3e77363",
   "metadata": {},
   "source": [
    "# Iterator vs Iterable\n",
    "Lists, tuples, dictionaries, and sets are all iterable objects. They are iterable containers which you can get an iterator from.\n",
    "\n",
    "All these objects have a iter() method which is used to get an iterator:"
   ]
  },
  {
   "cell_type": "code",
   "execution_count": 7,
   "id": "384f5e24",
   "metadata": {},
   "outputs": [
    {
     "name": "stdout",
     "output_type": "stream",
     "text": [
      "Sanla\n",
      "code\n",
      "27\n",
      "22\n",
      "True\n"
     ]
    }
   ],
   "source": [
    "#Return an iterator from a list, and print each value (method 1)\n",
    "lst = ['Sanla','code',27,22,True]\n",
    "ilst = iter(lst)\n",
    "print(next(ilst))\n",
    "print(next(ilst))\n",
    "print(next(ilst))\n",
    "print(next(ilst))\n",
    "print(next(ilst))"
   ]
  },
  {
   "cell_type": "code",
   "execution_count": 18,
   "id": "9cdda758",
   "metadata": {},
   "outputs": [
    {
     "name": "stdout",
     "output_type": "stream",
     "text": [
      "<list_iterator object at 0x0000022EAB06BE80>\n"
     ]
    }
   ],
   "source": [
    "#Return an iterator from a list, and print each value (method 2)\n",
    "n_lst = [1,2,3,4,5]\n",
    "n_lst = n_lst.__iter__()\n",
    "print(n_lst)"
   ]
  },
  {
   "cell_type": "code",
   "execution_count": 19,
   "id": "b4e8d81d",
   "metadata": {},
   "outputs": [
    {
     "name": "stdout",
     "output_type": "stream",
     "text": [
      "1\n",
      "2\n",
      "3\n",
      "4\n",
      "5\n"
     ]
    }
   ],
   "source": [
    "print(n_lst.__next__())\n",
    "print(n_lst.__next__())\n",
    "print(n_lst.__next__())\n",
    "print(n_lst.__next__())\n",
    "print(n_lst.__next__())\n"
   ]
  },
  {
   "cell_type": "code",
   "execution_count": 21,
   "id": "75602bbe",
   "metadata": {},
   "outputs": [
    {
     "ename": "StopIteration",
     "evalue": "",
     "output_type": "error",
     "traceback": [
      "\u001b[1;31m---------------------------------------------------------------------------\u001b[0m",
      "\u001b[1;31mStopIteration\u001b[0m                             Traceback (most recent call last)",
      "\u001b[1;32m~\\AppData\\Local\\Temp/ipykernel_2792/3599616145.py\u001b[0m in \u001b[0;36m<module>\u001b[1;34m\u001b[0m\n\u001b[0;32m      1\u001b[0m \u001b[1;31m# It will expect throw to StopIteration:\u001b[0m\u001b[1;33m\u001b[0m\u001b[1;33m\u001b[0m\u001b[0m\n\u001b[0;32m      2\u001b[0m \u001b[1;33m\u001b[0m\u001b[0m\n\u001b[1;32m----> 3\u001b[1;33m \u001b[0mprint\u001b[0m\u001b[1;33m(\u001b[0m\u001b[0mn_lst\u001b[0m\u001b[1;33m.\u001b[0m\u001b[0m__next__\u001b[0m\u001b[1;33m(\u001b[0m\u001b[1;33m)\u001b[0m\u001b[1;33m)\u001b[0m\u001b[1;33m\u001b[0m\u001b[1;33m\u001b[0m\u001b[0m\n\u001b[0m",
      "\u001b[1;31mStopIteration\u001b[0m: "
     ]
    }
   ],
   "source": [
    "# It will expect throw to StopIteration: \n",
    "print(n_lst.__next__())\n"
   ]
  },
  {
   "cell_type": "markdown",
   "id": "26bf5ab9",
   "metadata": {},
   "source": [
    "# Looping Through an Iterator\n",
    "We can also use a for loop to iterate through an iterable object:"
   ]
  },
  {
   "cell_type": "code",
   "execution_count": 24,
   "id": "c490e56d",
   "metadata": {},
   "outputs": [
    {
     "name": "stdout",
     "output_type": "stream",
     "text": [
      "monitor\n",
      "keyboard\n",
      "mouse\n"
     ]
    }
   ],
   "source": [
    "mytuple = (\"monitor\", \"keyboard\", \"mouse\")\n",
    "\n",
    "for x in mytuple:\n",
    "    print(x)"
   ]
  },
  {
   "cell_type": "markdown",
   "id": "a0dd163e",
   "metadata": {},
   "source": [
    "### Note : The for loop actually creates an iterator object and executes the next() method for each loop."
   ]
  },
  {
   "cell_type": "markdown",
   "id": "aed1f844",
   "metadata": {},
   "source": [
    "# Python Generators \n",
    "Generator-Function : A generator-function is defined like a normal function, but whenever it needs to generate a value, \n",
    "it does so with the yield keyword rather than return. If the body of a def contains yield, the function automatically becomes a generator function."
   ]
  },
  {
   "cell_type": "code",
   "execution_count": 35,
   "id": "0453ed9f",
   "metadata": {},
   "outputs": [
    {
     "name": "stdout",
     "output_type": "stream",
     "text": [
      "1\n",
      "2\n",
      "3\n"
     ]
    }
   ],
   "source": [
    "# A Python program to demonstrate use of \n",
    "# generator object with next() \n",
    "def genfun():\n",
    "    yield 1\n",
    "    yield 2\n",
    "    yield 3\n",
    "\n",
    "# x is a generator object\n",
    "x = genfun()\n",
    "# Iterating over the generator object using next\n",
    "print(x.__next__())\n",
    "print(x.__next__())\n",
    "print(x.__next__())\n"
   ]
  },
  {
   "cell_type": "code",
   "execution_count": 42,
   "id": "68408f3c",
   "metadata": {},
   "outputs": [],
   "source": [
    "#generator for Fibonacci Numbers.\n",
    "def fib(limit):\n",
    "    a,b = 0,1\n",
    "    while a < limit:\n",
    "        yield a\n",
    "        a,b = b,a+b\n",
    "y = fib(5)"
   ]
  },
  {
   "cell_type": "code",
   "execution_count": 43,
   "id": "d1b9ed38",
   "metadata": {},
   "outputs": [
    {
     "name": "stdout",
     "output_type": "stream",
     "text": [
      "0\n",
      "1\n",
      "1\n",
      "2\n",
      "3\n"
     ]
    }
   ],
   "source": [
    "print(y.__next__())\n",
    "print(y.__next__())\n",
    "print(y.__next__())\n",
    "print(y.__next__())\n",
    "print(y.__next__())"
   ]
  },
  {
   "cell_type": "code",
   "execution_count": 2,
   "id": "1e8822ec",
   "metadata": {},
   "outputs": [
    {
     "name": "stdout",
     "output_type": "stream",
     "text": [
      "1\n",
      "4\n",
      "9\n",
      "16\n",
      "25\n",
      "36\n",
      "49\n",
      "64\n",
      "81\n",
      "100\n"
     ]
    }
   ],
   "source": [
    "# Sqaure the sequence of 1 to 10 using generator\n",
    "\n",
    "def fun():\n",
    "    n = 1\n",
    "    while n <= 10:\n",
    "        sq = n*n\n",
    "        yield sq\n",
    "        n += 1\n",
    "s = fun()\n",
    "for i in s:\n",
    "    print(i)"
   ]
  },
  {
   "cell_type": "code",
   "execution_count": null,
   "id": "b8395516",
   "metadata": {},
   "outputs": [],
   "source": []
  }
 ],
 "metadata": {
  "kernelspec": {
   "display_name": "Python 3 (ipykernel)",
   "language": "python",
   "name": "python3"
  },
  "language_info": {
   "codemirror_mode": {
    "name": "ipython",
    "version": 3
   },
   "file_extension": ".py",
   "mimetype": "text/x-python",
   "name": "python",
   "nbconvert_exporter": "python",
   "pygments_lexer": "ipython3",
   "version": "3.9.7"
  }
 },
 "nbformat": 4,
 "nbformat_minor": 5
}
