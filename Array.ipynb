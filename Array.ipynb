{
 "cells": [
  {
   "cell_type": "markdown",
   "id": "c4e3e468",
   "metadata": {},
   "source": [
    "# Array in python\n",
    "\n",
    "An array is a collection of homogeneous items where each item has its own index value, and the index starts from 0. Python doesn’t have built-in support for Arrays, but we can import array and use them. There is another datatype similar to arrays in Python, i.e., Lists which are useful as arrays in Python but are different in a way that lists can hold any type of values, but Arrays store only similar type of values, another lists are built-in datatype in Python whereas, Arrays you have to import from array module."
   ]
  },
  {
   "cell_type": "markdown",
   "id": "cfb67948",
   "metadata": {},
   "source": [
    "## \n",
    "Index: is the number representing a value in the array and always start with 0.\n",
    "\n",
    "element: is the value in an array. \n",
    "\n",
    "len(): is the total count of elements in an array.\n",
    "\n",
    "append(): This is the method to add an element to the array.\n",
    "\n",
    "remove(): is the method to remove an element from the array."
   ]
  },
  {
   "cell_type": "markdown",
   "id": "e18899ef",
   "metadata": {},
   "source": [
    "## Importing  the Array"
   ]
  },
  {
   "cell_type": "code",
   "execution_count": 1,
   "id": "869cb6d3",
   "metadata": {},
   "outputs": [],
   "source": [
    "#import array\n",
    "#import array as arr\n",
    "from array import *"
   ]
  },
  {
   "cell_type": "markdown",
   "id": "d95ec8a9",
   "metadata": {},
   "source": [
    "### Typecode of the python\n",
    "https://www.bing.com/search?q=type+code+in+python&form=ANNTH1&refig=c74a0ba986754c4687932d1915a3b830\n",
    "\n",
    "use the above url to know the type code of the link"
   ]
  },
  {
   "cell_type": "markdown",
   "id": "9a8b2f98",
   "metadata": {},
   "source": [
    "## Creating an array"
   ]
  },
  {
   "cell_type": "code",
   "execution_count": 2,
   "id": "966a10d5",
   "metadata": {},
   "outputs": [
    {
     "name": "stdout",
     "output_type": "stream",
     "text": [
      "array('i', [1, 2, 3, 4, 5, 6, 7, 8, 9])\n"
     ]
    }
   ],
   "source": [
    "vals = array('i',[1,2,3,4,5,6,7,8,9])\n",
    "print(vals)"
   ]
  },
  {
   "cell_type": "markdown",
   "id": "9137538e",
   "metadata": {},
   "source": [
    "## Array Methods in Python"
   ]
  },
  {
   "cell_type": "markdown",
   "id": "c7c6b85e",
   "metadata": {},
   "source": [
    "### Buffer_info()\n",
    "\n",
    "It will the size of the array in tuple(address,size)."
   ]
  },
  {
   "cell_type": "code",
   "execution_count": 3,
   "id": "95fdcd9a",
   "metadata": {},
   "outputs": [
    {
     "name": "stdout",
     "output_type": "stream",
     "text": [
      "(2781314930032, 9)\n"
     ]
    }
   ],
   "source": [
    "vals = array('i',[1,2,3,4,5,6,7,8,9])\n",
    "print(vals.buffer_info())"
   ]
  },
  {
   "cell_type": "markdown",
   "id": "f5823b6b",
   "metadata": {},
   "source": [
    "### typecode()\n",
    "\n",
    "This function returns the value of typecode used in the given array."
   ]
  },
  {
   "cell_type": "code",
   "execution_count": 4,
   "id": "7d6a7dc2",
   "metadata": {},
   "outputs": [
    {
     "name": "stdout",
     "output_type": "stream",
     "text": [
      "u\n"
     ]
    }
   ],
   "source": [
    "arr = array('u',['w','o','p','e','a'])\n",
    "print(arr.typecode)"
   ]
  },
  {
   "cell_type": "markdown",
   "id": "f14c439f",
   "metadata": {},
   "source": [
    "### insert()\n",
    "\n",
    "syntax:\n",
    "        array.insert(index, element)\n",
    "        \n",
    "It adds an element to the array before the index\n",
    "\n"
   ]
  },
  {
   "cell_type": "code",
   "execution_count": 5,
   "id": "84648086",
   "metadata": {},
   "outputs": [
    {
     "name": "stdout",
     "output_type": "stream",
     "text": [
      "array('u', 'wopsea')\n",
      "s\n"
     ]
    }
   ],
   "source": [
    "arr.insert(3,'s')\n",
    "print(arr)\n",
    "# checking the index of the arr[3]==s\n",
    "print(arr[3])"
   ]
  },
  {
   "cell_type": "markdown",
   "id": "b20a8dd4",
   "metadata": {},
   "source": [
    "### update()\n",
    "\n",
    "syntax:arrayname[index] = value\n",
    "\n",
    "It updates a particular value at an index to the new value.\n",
    "\n"
   ]
  },
  {
   "cell_type": "code",
   "execution_count": 6,
   "id": "7af38908",
   "metadata": {},
   "outputs": [
    {
     "name": "stdout",
     "output_type": "stream",
     "text": [
      "array('i', [1, 2, 3, 4, 5, 6, 7, 8, 9])\n",
      "array('i', [1, 2, 3, 4, 5, 10, 7, 8, 9])\n"
     ]
    }
   ],
   "source": [
    "print(vals)\n",
    "#indexing the element of the array by update function\n",
    "vals[5]=10\n",
    "print(vals)"
   ]
  },
  {
   "cell_type": "markdown",
   "id": "44c96fce",
   "metadata": {},
   "source": [
    "### delete()\n",
    "\n",
    "syntax:array.remove(element)\n",
    "\n",
    "This function removes the element from the array.\n",
    "\n"
   ]
  },
  {
   "cell_type": "code",
   "execution_count": 7,
   "id": "5c04abee",
   "metadata": {},
   "outputs": [
    {
     "name": "stdout",
     "output_type": "stream",
     "text": [
      "array('i', [1, 2, 3, 4, 5, 7, 8, 9])\n"
     ]
    }
   ],
   "source": [
    "vals.remove(10)\n",
    "print(vals)"
   ]
  },
  {
   "cell_type": "markdown",
   "id": "027c08c3",
   "metadata": {},
   "source": [
    "### append()\n",
    "\n",
    "syntax:array.append(element)\n",
    "\n",
    "This function appends the element to the end of the array.\n",
    "\n"
   ]
  },
  {
   "cell_type": "code",
   "execution_count": 8,
   "id": "b1e8ba78",
   "metadata": {},
   "outputs": [
    {
     "name": "stdout",
     "output_type": "stream",
     "text": [
      "array('u', 'wopsea')\n",
      "array('u', 'wopseat')\n"
     ]
    }
   ],
   "source": [
    "print(arr)\n",
    "# appends the element to the end of the array in arr by append function\n",
    "arr.append('t')\n",
    "print(arr)"
   ]
  },
  {
   "cell_type": "markdown",
   "id": "1435d7ce",
   "metadata": {},
   "source": [
    "### reverse()\n",
    "\n",
    "syntax:array.reverse()\n",
    "\n",
    "This function reverses the order of elements in the given array.\n",
    "\n"
   ]
  },
  {
   "cell_type": "code",
   "execution_count": 9,
   "id": "5ebf33ff",
   "metadata": {},
   "outputs": [
    {
     "name": "stdout",
     "output_type": "stream",
     "text": [
      "array('i', [1, 2, 3, 4, 5, 7, 8, 9])\n",
      "array('i', [9, 8, 7, 5, 4, 3, 2, 1])\n"
     ]
    }
   ],
   "source": [
    "print(vals)\n",
    "# reverse the vals array by reverse function\n",
    "vals.reverse()\n",
    "print(vals)"
   ]
  },
  {
   "cell_type": "markdown",
   "id": "b14ebc62",
   "metadata": {},
   "source": [
    "### count()\n",
    "\n",
    "syntax:array.count(element)\n",
    "\n",
    "This function returns how many times the element occurred in the given array.\n",
    "\n"
   ]
  },
  {
   "cell_type": "code",
   "execution_count": 10,
   "id": "105a5653",
   "metadata": {},
   "outputs": [
    {
     "name": "stdout",
     "output_type": "stream",
     "text": [
      "5\n"
     ]
    }
   ],
   "source": [
    "ck = array('i',[1,2,2,4,5,6,67,8,89,6,3,2,2,2])\n",
    "print(ck.count(2))\n"
   ]
  },
  {
   "cell_type": "markdown",
   "id": "0ad60f83",
   "metadata": {},
   "source": [
    "### len() method\n",
    "\n",
    "syntax:len(arrayname)\n",
    "\n",
    "This method gives the array length.\n",
    "\n"
   ]
  },
  {
   "cell_type": "code",
   "execution_count": 11,
   "id": "25279591",
   "metadata": {},
   "outputs": [
    {
     "name": "stdout",
     "output_type": "stream",
     "text": [
      "14\n"
     ]
    }
   ],
   "source": [
    "print(len(ck))"
   ]
  },
  {
   "cell_type": "markdown",
   "id": "4ec7cbc5",
   "metadata": {},
   "source": [
    "### pop()\n",
    "\n",
    "syntax:array.pop([ i ])\n",
    "\n",
    "This function removes and returns the element that has an index I of the given array. By default, it removes and returns the last element."
   ]
  },
  {
   "cell_type": "code",
   "execution_count": 12,
   "id": "9882dd8e",
   "metadata": {},
   "outputs": [
    {
     "name": "stdout",
     "output_type": "stream",
     "text": [
      "array('i', [1, 2, 2, 4, 5, 6, 67, 8, 89, 6, 3, 2, 2, 2])\n"
     ]
    }
   ],
   "source": [
    "print(ck)"
   ]
  },
  {
   "cell_type": "code",
   "execution_count": 13,
   "id": "2214d9fa",
   "metadata": {},
   "outputs": [
    {
     "name": "stdout",
     "output_type": "stream",
     "text": [
      "4\n"
     ]
    }
   ],
   "source": [
    "print(ck.pop(3))"
   ]
  },
  {
   "cell_type": "markdown",
   "id": "0f5f602c",
   "metadata": {},
   "source": [
    "## Looping the array"
   ]
  },
  {
   "cell_type": "code",
   "execution_count": 14,
   "id": "6dfe38c2",
   "metadata": {},
   "outputs": [
    {
     "name": "stdout",
     "output_type": "stream",
     "text": [
      "array('i', [9, 8, 7, 5, 4, 3, 2, 1])\n"
     ]
    }
   ],
   "source": [
    "print(vals)"
   ]
  },
  {
   "cell_type": "code",
   "execution_count": 15,
   "id": "817e7bb4",
   "metadata": {},
   "outputs": [
    {
     "name": "stdout",
     "output_type": "stream",
     "text": [
      "9\n",
      "8\n",
      "7\n",
      "5\n",
      "4\n",
      "3\n",
      "2\n",
      "1\n"
     ]
    }
   ],
   "source": [
    "for i in vals:\n",
    "    print(i)"
   ]
  },
  {
   "cell_type": "code",
   "execution_count": 16,
   "id": "2c7c0e98",
   "metadata": {},
   "outputs": [
    {
     "name": "stdout",
     "output_type": "stream",
     "text": [
      "9\n",
      "8\n",
      "7\n",
      "5\n",
      "4\n",
      "3\n",
      "2\n",
      "1\n"
     ]
    }
   ],
   "source": [
    "for e in range(len(vals)):\n",
    "    print(vals[e])"
   ]
  },
  {
   "cell_type": "code",
   "execution_count": 17,
   "id": "1effabde",
   "metadata": {},
   "outputs": [
    {
     "name": "stdout",
     "output_type": "stream",
     "text": [
      "9\n",
      "8\n",
      "7\n",
      "5\n",
      "4\n",
      "3\n",
      "2\n",
      "1\n"
     ]
    }
   ],
   "source": [
    "i = 0\n",
    "while i < len(vals):\n",
    "    print(vals[i])\n",
    "    i+=1"
   ]
  },
  {
   "cell_type": "markdown",
   "id": "0ca2d033",
   "metadata": {},
   "source": [
    "## copy the old array to new array with typecode"
   ]
  },
  {
   "cell_type": "code",
   "execution_count": 18,
   "id": "6b6ea76c",
   "metadata": {},
   "outputs": [
    {
     "name": "stdout",
     "output_type": "stream",
     "text": [
      "array('i', [9, 8, 7, 5, 4, 3, 2, 1])\n"
     ]
    }
   ],
   "source": [
    "print(vals)"
   ]
  },
  {
   "cell_type": "code",
   "execution_count": 19,
   "id": "4f0bc7e6",
   "metadata": {},
   "outputs": [
    {
     "name": "stdout",
     "output_type": "stream",
     "text": [
      "array('i', [9, 8, 7, 5, 4, 3, 2, 1])\n"
     ]
    }
   ],
   "source": [
    "newarr = array(vals.typecode,(a for a in vals))\n",
    "print(newarr)"
   ]
  },
  {
   "cell_type": "markdown",
   "id": "6a657d05",
   "metadata": {},
   "source": [
    "## square the old array to new array"
   ]
  },
  {
   "cell_type": "code",
   "execution_count": 20,
   "id": "f3c521ca",
   "metadata": {},
   "outputs": [
    {
     "name": "stdout",
     "output_type": "stream",
     "text": [
      "array('i', [81, 64, 49, 25, 16, 9, 4, 1])\n"
     ]
    }
   ],
   "source": [
    "newarr = array(vals.typecode,(a*a for a in vals))\n",
    "print(newarr)"
   ]
  },
  {
   "cell_type": "markdown",
   "id": "ad64dbb4",
   "metadata": {},
   "source": [
    "## Inserting the array element by the user"
   ]
  },
  {
   "cell_type": "code",
   "execution_count": 21,
   "id": "5b87e9e3",
   "metadata": {},
   "outputs": [
    {
     "name": "stdout",
     "output_type": "stream",
     "text": [
      "Enter the lenth of the array: 5\n",
      "Enter the next value: 98\n",
      "Enter the next value: 09\n",
      "Enter the next value: 56\n",
      "Enter the next value: 87\n",
      "Enter the next value: 32\n",
      "array('i', [98, 9, 56, 87, 32])\n"
     ]
    }
   ],
   "source": [
    "#creating the empty array\n",
    "arr = array('i',[])\n",
    "#getting the length of array by the user\n",
    "n = int(input('Enter the lenth of the array: '))\n",
    "#looping  for the array to get the elements from the user according to the given length\n",
    "for i in range(n):\n",
    "    a = int(input('Enter the next value: '))\n",
    "#insert the elements in to array by append function\n",
    "    arr.append(a)\n",
    "#printing the array by the user\n",
    "print(arr)"
   ]
  },
  {
   "cell_type": "markdown",
   "id": "99545382",
   "metadata": {},
   "source": [
    "## Searching the array element by the user"
   ]
  },
  {
   "cell_type": "code",
   "execution_count": 22,
   "id": "b12af1f7",
   "metadata": {},
   "outputs": [
    {
     "name": "stdout",
     "output_type": "stream",
     "text": [
      "Enter the value for search the index position: 5\n",
      "7\n"
     ]
    }
   ],
   "source": [
    "arr = array('i',[1,2,34,56,7,6,765,5])\n",
    "val = int(input(\"Enter the value for search the index position: \"))\n",
    "a = 0\n",
    "for i in arr:\n",
    "    if i == val:\n",
    "        print(a)\n",
    "        break\n",
    "    a+=1"
   ]
  },
  {
   "cell_type": "code",
   "execution_count": 26,
   "id": "83b5231b",
   "metadata": {},
   "outputs": [
    {
     "name": "stdout",
     "output_type": "stream",
     "text": [
      "7\n"
     ]
    }
   ],
   "source": [
    "#search the index position of array using inex()\n",
    "print(arr.index(val))"
   ]
  },
  {
   "cell_type": "code",
   "execution_count": null,
   "id": "c95de7b0",
   "metadata": {},
   "outputs": [],
   "source": []
  }
 ],
 "metadata": {
  "kernelspec": {
   "display_name": "Python 3 (ipykernel)",
   "language": "python",
   "name": "python3"
  },
  "language_info": {
   "codemirror_mode": {
    "name": "ipython",
    "version": 3
   },
   "file_extension": ".py",
   "mimetype": "text/x-python",
   "name": "python",
   "nbconvert_exporter": "python",
   "pygments_lexer": "ipython3",
   "version": "3.9.7"
  }
 },
 "nbformat": 4,
 "nbformat_minor": 5
}
