{
 "cells": [
  {
   "cell_type": "markdown",
   "id": "f464a7f2",
   "metadata": {},
   "source": [
    "# Expection Handling In Python\n",
    "\n",
    "Exceptions are events that are used to modify the flow of control through a program when the error occurs. Exceptions get triggered automatically on finding errors in Python."
   ]
  },
  {
   "cell_type": "markdown",
   "id": "d5274221",
   "metadata": {},
   "source": [
    "## Errors\n",
    "\n",
    "1.Compile time error \n",
    "\n",
    "2.Logical error\n",
    "\n",
    "3.Run time error"
   ]
  },
  {
   "cell_type": "markdown",
   "id": "03530f83",
   "metadata": {},
   "source": [
    "### Compiletime Error\n",
    "\n",
    "The syntax error occurs when we are not following the proper structure or syntax of the language.\n",
    "A syntax error is also known as a parsing error.\n",
    "\n",
    "eg:- missing(:),Wrong Spelling (print - prnt).\n"
   ]
  },
  {
   "cell_type": "markdown",
   "id": "9072654d",
   "metadata": {},
   "source": [
    "### Logical Error\n",
    "\n",
    "Even if a statement or expression is syntactically correct, the error that occurs at the runtime is known as a Logical error or Exception. In other words, Errors detected during execution are called exceptions.In these , Code will complied and run the code but the output will be wrong .\n",
    "\n",
    "eg:- a = 10\n",
    "\n",
    "    b = 20\n",
    "       \n",
    "    print(\"Addition:\", a + c) \n",
    "     \n",
    " output:\n",
    "  \n",
    "print(\"Addition:\", a + c)\n",
    "\n",
    "NameError: name 'c' is not defined"
   ]
  },
  {
   "cell_type": "markdown",
   "id": "a442c5b6",
   "metadata": {},
   "source": [
    "### Runtime Error\n",
    "\n",
    " A program with a runtime error is one that passed the interpreter’s syntax checks, and started to execute. However, during the execution of one of the statements in the program, an error occurred that caused the interpreter to stop executing the program and display an error message. Runtime errors are also called exceptions because they usually indicate that something exceptional (and bad) has happened.\n",
    " \n",
    "eg:- Misspelled or incorrectly capitalized variable and function names\n",
    "\n",
    "Attempts to perform operations (such as math operations) on data of the wrong type (ex. attempting to subtract two variables that hold string values)\n",
    "\n",
    "Dividing by zero\n",
    "\n",
    "Attempts to use a type conversion function such as int on a value that can’t be converted to an int"
   ]
  },
  {
   "cell_type": "markdown",
   "id": "60d7aee7",
   "metadata": {},
   "source": [
    "### Statement\n",
    "\n",
    "1.Normal Statement (will not give any error) \n",
    "\n",
    "2.Critical Statement"
   ]
  },
  {
   "cell_type": "markdown",
   "id": "eda6f576",
   "metadata": {},
   "source": [
    "## Try and Except Statement – Catching Exceptions\n",
    "\n",
    "Try and except statements are used to catch and handle exceptions in Python. Statements that can raise exceptions are kept inside the try clause and the statements that handle the exception are written inside except clause"
   ]
  },
  {
   "cell_type": "markdown",
   "id": "3bec1e2c",
   "metadata": {},
   "source": [
    "###### syntax\n",
    "try:\n",
    "\n",
    "    # statement(s)\n",
    "    \n",
    "except:\n",
    "\n",
    "    # statement(s)"
   ]
  },
  {
   "cell_type": "code",
   "execution_count": 7,
   "id": "d9442138",
   "metadata": {},
   "outputs": [
    {
     "name": "stdout",
     "output_type": "stream",
     "text": [
      "Operation Starts\n",
      "ZeroDivisionError\n"
     ]
    }
   ],
   "source": [
    "a = 4\n",
    "b = 0\n",
    "try:\n",
    "    print(\"Operation Starts\")\n",
    "    print(a/b)\n",
    "    \n",
    "except:\n",
    "    print(\"ZeroDivisionError\")"
   ]
  },
  {
   "cell_type": "markdown",
   "id": "bee4e2e5",
   "metadata": {},
   "source": [
    "### Catching Specific Exception\n",
    "\n",
    "A try statement can have more than one except clause, to specify handlers for different exceptions. Please note that at most one handler will be executed."
   ]
  },
  {
   "cell_type": "markdown",
   "id": "f6540dd2",
   "metadata": {},
   "source": [
    "######  syntax\n",
    "try:\n",
    "\n",
    "    # statement(s)\n",
    "    \n",
    "except IndexError:\n",
    "\n",
    "    # statement(s)\n",
    "    \n",
    "except ValueError:\n",
    "\n",
    "    # statement(s)"
   ]
  },
  {
   "cell_type": "code",
   "execution_count": 10,
   "id": "60a5548c",
   "metadata": {},
   "outputs": [
    {
     "name": "stdout",
     "output_type": "stream",
     "text": [
      "Something went wrong... '<' not supported between instances of 'str' and 'int'\n"
     ]
    }
   ],
   "source": [
    "def fun(a):\n",
    "    if a < 4:\n",
    "        b = a/(a-3)\n",
    "    print(\"value of b\",b)  #NameError if a >= 4\n",
    "try:\n",
    "    fun(\"y\")\n",
    "    fun(5)\n",
    "except ZeroDivisionError:\n",
    "    print(\"ZeroDivisionError occurs on handled\")\n",
    "    \n",
    "except NameError:\n",
    "    print(\"NameError Occurred and Handled\")\n",
    "    \n",
    "except Exception as e:  # 'Exception' when dont know that error .we can use these statement\n",
    "    print(\"Something went wrong...\",e)\n"
   ]
  },
  {
   "cell_type": "markdown",
   "id": "ac3fe434",
   "metadata": {},
   "source": [
    "## Try with Else Clause\n",
    "\n",
    "In python, you can also use the else clause on the try-except block which must be present after all the except clauses. The code enters the else block only if the try clause does not raise an exception."
   ]
  },
  {
   "cell_type": "code",
   "execution_count": 12,
   "id": "acea2da6",
   "metadata": {},
   "outputs": [
    {
     "name": "stdout",
     "output_type": "stream",
     "text": [
      "Enter the 1st number: 6\n",
      "Enter the 2nd number: 9\n",
      "Operation Starts\n",
      "0.6666666666666666\n",
      "No Error Occurs\n"
     ]
    }
   ],
   "source": [
    "a = int(input(\"Enter the 1st number: \"))\n",
    "b = int(input(\"Enter the 2nd number: \"))\n",
    "\n",
    "try:\n",
    "    print(\"Operation Starts\")\n",
    "    print(a/b)\n",
    "    \n",
    "except Exception as err:\n",
    "    print(\"ZeroDivisionError: \",err)\n",
    "else:\n",
    "    print(\"No Error Occurs\")"
   ]
  },
  {
   "cell_type": "markdown",
   "id": "562d3757",
   "metadata": {},
   "source": [
    "## Finally Keyword in Python\n",
    "\n",
    "Python provides a keyword finally, which is always executed after the try and except blocks. The final block always executes after normal termination of try block or after try block terminates due to some exception.\n",
    "\n",
    "Syntax:\n",
    "\n",
    "try:\n",
    "\n",
    "    # Some Code.... \n",
    "\n",
    "except:\n",
    "\n",
    "    # optional block\n",
    "    # Handling of exception (if required)\n",
    "\n",
    "else:\n",
    "\n",
    "    # execute if no exception\n",
    "\n",
    "finally:\n",
    "    # Some code .....(always executed)"
   ]
  },
  {
   "cell_type": "code",
   "execution_count": 24,
   "id": "0b576195",
   "metadata": {},
   "outputs": [
    {
     "name": "stdout",
     "output_type": "stream",
     "text": [
      "Operation Starts\n",
      "ZeroDivisionError:  division by zero\n",
      "Operation Closes\n",
      "Out of try, except, else and finally blocks.\n"
     ]
    }
   ],
   "source": [
    "a = 4\n",
    "b = 0\n",
    "\n",
    "try:\n",
    "    print(\"Operation Starts\")\n",
    "    print(a/b)\n",
    "    \n",
    "except Exception as err:\n",
    "    print(\"ZeroDivisionError: \",err)\n",
    "finally:\n",
    "    print(\"Operation Closes\")\n",
    "print (\"Out of try, except, else and finally blocks.\" )"
   ]
  },
  {
   "cell_type": "markdown",
   "id": "cf22e9f0",
   "metadata": {},
   "source": [
    "## Raising Exception\n",
    "\n",
    "The raise statement allows the programmer to force a specific exception to occur. The sole argument in raise indicates the exception to be raised. This must be either an exception instance or an exception class "
   ]
  },
  {
   "cell_type": "code",
   "execution_count": 29,
   "id": "8f08ed2e",
   "metadata": {},
   "outputs": [
    {
     "ename": "Exception",
     "evalue": "error",
     "output_type": "error",
     "traceback": [
      "\u001b[1;31m---------------------------------------------------------------------------\u001b[0m",
      "\u001b[1;31mException\u001b[0m                                 Traceback (most recent call last)",
      "\u001b[1;32m~\\AppData\\Local\\Temp/ipykernel_5880/2389363343.py\u001b[0m in \u001b[0;36m<module>\u001b[1;34m\u001b[0m\n\u001b[0;32m      1\u001b[0m \u001b[0mx\u001b[0m \u001b[1;33m=\u001b[0m \u001b[1;34m\"de\"\u001b[0m\u001b[1;33m\u001b[0m\u001b[1;33m\u001b[0m\u001b[0m\n\u001b[0;32m      2\u001b[0m \u001b[1;32mif\u001b[0m \u001b[1;32mnot\u001b[0m \u001b[0mtype\u001b[0m\u001b[1;33m(\u001b[0m\u001b[0mx\u001b[0m\u001b[1;33m)\u001b[0m \u001b[1;32mis\u001b[0m \u001b[0mint\u001b[0m\u001b[1;33m:\u001b[0m\u001b[1;33m\u001b[0m\u001b[1;33m\u001b[0m\u001b[0m\n\u001b[1;32m----> 3\u001b[1;33m     \u001b[1;32mraise\u001b[0m \u001b[0mException\u001b[0m\u001b[1;33m(\u001b[0m\u001b[1;34m\"error\"\u001b[0m\u001b[1;33m)\u001b[0m\u001b[1;33m\u001b[0m\u001b[1;33m\u001b[0m\u001b[0m\n\u001b[0m",
      "\u001b[1;31mException\u001b[0m: error"
     ]
    }
   ],
   "source": [
    "x = \"hello\"\n",
    "if not type(x) is int:\n",
    "    raise Exception(\"error\")"
   ]
  },
  {
   "cell_type": "code",
   "execution_count": 28,
   "id": "76808431",
   "metadata": {},
   "outputs": [
    {
     "ename": "Exception",
     "evalue": "Sorry, no numbers below zero",
     "output_type": "error",
     "traceback": [
      "\u001b[1;31m---------------------------------------------------------------------------\u001b[0m",
      "\u001b[1;31mException\u001b[0m                                 Traceback (most recent call last)",
      "\u001b[1;32m~\\AppData\\Local\\Temp/ipykernel_5880/1619019459.py\u001b[0m in \u001b[0;36m<module>\u001b[1;34m\u001b[0m\n\u001b[0;32m      2\u001b[0m \u001b[1;33m\u001b[0m\u001b[0m\n\u001b[0;32m      3\u001b[0m \u001b[1;32mif\u001b[0m \u001b[0mx\u001b[0m \u001b[1;33m<\u001b[0m \u001b[1;36m0\u001b[0m\u001b[1;33m:\u001b[0m\u001b[1;33m\u001b[0m\u001b[1;33m\u001b[0m\u001b[0m\n\u001b[1;32m----> 4\u001b[1;33m     \u001b[1;32mraise\u001b[0m \u001b[0mException\u001b[0m\u001b[1;33m(\u001b[0m\u001b[1;34m\"Sorry, no numbers below zero\"\u001b[0m\u001b[1;33m)\u001b[0m\u001b[1;33m\u001b[0m\u001b[1;33m\u001b[0m\u001b[0m\n\u001b[0m",
      "\u001b[1;31mException\u001b[0m: Sorry, no numbers below zero"
     ]
    }
   ],
   "source": [
    "x = -1\n",
    "\n",
    "if x < 0:\n",
    "    raise Exception(\"Sorry, no numbers below zero\")"
   ]
  },
  {
   "cell_type": "code",
   "execution_count": 34,
   "id": "2e1f174f",
   "metadata": {},
   "outputs": [
    {
     "name": "stdout",
     "output_type": "stream",
     "text": [
      "Operation Starts\n",
      "ZeroDivisionError:  division by zero\n"
     ]
    },
    {
     "ename": "ZeroDivisionError",
     "evalue": "divided by 0 ",
     "output_type": "error",
     "traceback": [
      "\u001b[1;31m---------------------------------------------------------------------------\u001b[0m",
      "\u001b[1;31mZeroDivisionError\u001b[0m                         Traceback (most recent call last)",
      "\u001b[1;32m~\\AppData\\Local\\Temp/ipykernel_5880/2187064232.py\u001b[0m in \u001b[0;36m<module>\u001b[1;34m\u001b[0m\n\u001b[0;32m      5\u001b[0m     \u001b[0mprint\u001b[0m\u001b[1;33m(\u001b[0m\u001b[1;34m\"Operation Starts\"\u001b[0m\u001b[1;33m)\u001b[0m\u001b[1;33m\u001b[0m\u001b[1;33m\u001b[0m\u001b[0m\n\u001b[1;32m----> 6\u001b[1;33m     \u001b[0mprint\u001b[0m\u001b[1;33m(\u001b[0m\u001b[0ma\u001b[0m\u001b[1;33m/\u001b[0m\u001b[0mb\u001b[0m\u001b[1;33m)\u001b[0m\u001b[1;33m\u001b[0m\u001b[1;33m\u001b[0m\u001b[0m\n\u001b[0m\u001b[0;32m      7\u001b[0m \u001b[1;33m\u001b[0m\u001b[0m\n",
      "\u001b[1;31mZeroDivisionError\u001b[0m: division by zero",
      "\nDuring handling of the above exception, another exception occurred:\n",
      "\u001b[1;31mZeroDivisionError\u001b[0m                         Traceback (most recent call last)",
      "\u001b[1;32m~\\AppData\\Local\\Temp/ipykernel_5880/2187064232.py\u001b[0m in \u001b[0;36m<module>\u001b[1;34m\u001b[0m\n\u001b[0;32m      8\u001b[0m \u001b[1;32mexcept\u001b[0m \u001b[0mException\u001b[0m \u001b[1;32mas\u001b[0m \u001b[0merr\u001b[0m\u001b[1;33m:\u001b[0m\u001b[1;33m\u001b[0m\u001b[1;33m\u001b[0m\u001b[0m\n\u001b[0;32m      9\u001b[0m     \u001b[0mprint\u001b[0m\u001b[1;33m(\u001b[0m\u001b[1;34m\"ZeroDivisionError: \"\u001b[0m\u001b[1;33m,\u001b[0m\u001b[0merr\u001b[0m\u001b[1;33m)\u001b[0m\u001b[1;33m\u001b[0m\u001b[1;33m\u001b[0m\u001b[0m\n\u001b[1;32m---> 10\u001b[1;33m     \u001b[1;32mraise\u001b[0m \u001b[0mZeroDivisionError\u001b[0m \u001b[1;33m(\u001b[0m\u001b[1;34m\"divided by 0 \"\u001b[0m\u001b[1;33m)\u001b[0m\u001b[1;33m\u001b[0m\u001b[1;33m\u001b[0m\u001b[0m\n\u001b[0m",
      "\u001b[1;31mZeroDivisionError\u001b[0m: divided by 0 "
     ]
    }
   ],
   "source": [
    "a = 4\n",
    "b = 0\n",
    "\n",
    "try:\n",
    "    print(\"Operation Starts\")\n",
    "    print(a/b)\n",
    "    \n",
    "except Exception as err:\n",
    "    print(\"ZeroDivisionError: \",err)\n",
    "    raise ZeroDivisionError (\"divided by 0 \")\n"
   ]
  },
  {
   "cell_type": "code",
   "execution_count": null,
   "id": "ceb42bb8",
   "metadata": {},
   "outputs": [],
   "source": []
  }
 ],
 "metadata": {
  "kernelspec": {
   "display_name": "Python 3 (ipykernel)",
   "language": "python",
   "name": "python3"
  },
  "language_info": {
   "codemirror_mode": {
    "name": "ipython",
    "version": 3
   },
   "file_extension": ".py",
   "mimetype": "text/x-python",
   "name": "python",
   "nbconvert_exporter": "python",
   "pygments_lexer": "ipython3",
   "version": "3.9.7"
  }
 },
 "nbformat": 4,
 "nbformat_minor": 5
}
