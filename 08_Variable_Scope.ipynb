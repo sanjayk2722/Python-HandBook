{
 "cells": [
  {
   "cell_type": "markdown",
   "id": "4677be56",
   "metadata": {},
   "source": [
    "# Variable Scope\n",
    "\n",
    "A variable is only available from inside the region it is created"
   ]
  },
  {
   "cell_type": "markdown",
   "id": "ae814893",
   "metadata": {},
   "source": [
    "# Gobal Variable\n",
    "\n",
    "variable that created outside the function.It can accessed by both inside and outside the function"
   ]
  },
  {
   "cell_type": "code",
   "execution_count": 3,
   "id": "34d8541e",
   "metadata": {},
   "outputs": [
    {
     "name": "stdout",
     "output_type": "stream",
     "text": [
      "Inside the function 10\n",
      "2492891753040\n",
      "Outside the function 10\n",
      "2492891753040\n"
     ]
    }
   ],
   "source": [
    "a = 10 #Global Variable\n",
    "def fun():\n",
    "    print(\"Inside the function\", a)\n",
    "    print(id(a))\n",
    "fun()\n",
    "print(\"Outside the function\", a)\n",
    "print(id(a))"
   ]
  },
  {
   "cell_type": "markdown",
   "id": "26a2c417",
   "metadata": {},
   "source": [
    "# Local Variable\n",
    "\n",
    "If you created the a variable inside the function this function variable with the local.It can only used inside the function.\n",
    "\n",
    "It will not affect the global variable"
   ]
  },
  {
   "cell_type": "code",
   "execution_count": 7,
   "id": "56107490",
   "metadata": {},
   "outputs": [
    {
     "name": "stdout",
     "output_type": "stream",
     "text": [
      "Inside the function 5\n",
      "2492891752880\n",
      "Outside the function 10\n",
      "2492891753040\n"
     ]
    }
   ],
   "source": [
    "a = 10 #Global Variable\n",
    "def func():\n",
    "    a = 5 # Local Variable\n",
    "    print(\"Inside the function\", a)\n",
    "    print(id(a))\n",
    "func()\n",
    "print(\"Outside the function\", a)\n",
    "print(id(a))"
   ]
  },
  {
   "cell_type": "markdown",
   "id": "0515583d",
   "metadata": {},
   "source": [
    "#  Global Keyword\n",
    "\n",
    "If you need to create a global variable, but are stuck in the local scope, you can use the global keyword.\n",
    "\n",
    "The global keyword makes the variable global. we use global variable inside the function use gobal keyword to create \n",
    "\n",
    "a global variable inside the function and we can change a global variable inside function.\n",
    " "
   ]
  },
  {
   "cell_type": "code",
   "execution_count": 21,
   "id": "b5d9dd2b",
   "metadata": {},
   "outputs": [
    {
     "name": "stdout",
     "output_type": "stream",
     "text": [
      "Inside the function 15\n",
      "Outside the function 15\n",
      "0\n"
     ]
    }
   ],
   "source": [
    "a = 10\n",
    "b = 0\n",
    "def fun():\n",
    "    global a\n",
    "    a = 15   # It change the global variable value (10 to 15)\n",
    "    print(\"Inside the function\", a)\n",
    "fun()\n",
    "print(\"Outside the function\", a)\n"
   ]
  },
  {
   "cell_type": "markdown",
   "id": "5f00dedb",
   "metadata": {},
   "source": [
    "# Globals.\n",
    "\n",
    "It helps to declare a global and local variable inside the function.Change the global variable inside the function"
   ]
  },
  {
   "cell_type": "code",
   "execution_count": 23,
   "id": "695c1f60",
   "metadata": {},
   "outputs": [
    {
     "name": "stdout",
     "output_type": "stream",
     "text": [
      "Inside the function 9\n",
      "2492891753008\n",
      "Inside the function 15\n",
      "2492891753200\n",
      "Inside the function 15\n",
      "2492891753200\n",
      "Outside the function 20\n"
     ]
    }
   ],
   "source": [
    "a = 10\n",
    "b = 20\n",
    "def something():\n",
    "    a = 9 # Local Variable\n",
    "    x = globals()['a'] = 15\n",
    "    print(\"Inside the function\", a)\n",
    "    print(id(a))\n",
    "    print(\"Inside the function\", x)\n",
    "    print(id(x))\n",
    "something()\n",
    "print(\"Inside the function\", a)\n",
    "print(id(a))\n",
    "\n",
    "print(\"Outside the function\",b)"
   ]
  },
  {
   "cell_type": "code",
   "execution_count": null,
   "id": "30d43093",
   "metadata": {},
   "outputs": [],
   "source": []
  }
 ],
 "metadata": {
  "kernelspec": {
   "display_name": "Python 3 (ipykernel)",
   "language": "python",
   "name": "python3"
  },
  "language_info": {
   "codemirror_mode": {
    "name": "ipython",
    "version": 3
   },
   "file_extension": ".py",
   "mimetype": "text/x-python",
   "name": "python",
   "nbconvert_exporter": "python",
   "pygments_lexer": "ipython3",
   "version": "3.9.7"
  }
 },
 "nbformat": 4,
 "nbformat_minor": 5
}
