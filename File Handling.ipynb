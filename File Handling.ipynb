{
 "cells": [
  {
   "cell_type": "markdown",
   "id": "6d5a292c",
   "metadata": {},
   "source": [
    "# File Handling in python\n",
    "\n",
    "Python File Handling\n",
    "Till now, we were taking the input from the console and writing it back to the console to interact with the user.\n",
    "\n",
    "Sometimes, it is not enough to only display the data on the console. The data to be displayed may be very large, and only a limited amount of data can be displayed on the console since the memory is volatile, it is impossible to recover the programmatically generated data again and again.\n",
    "\n",
    "The file handling plays an important role when the data needs to be stored permanently into the file. A file is a named location on disk to store related information. We can access the stored information (non-volatile) after the program termination.\n",
    "\n",
    "The file-handling implementation is slightly lengthy or complicated in the other programming language, but it is easier and shorter in Python."
   ]
  },
  {
   "cell_type": "markdown",
   "id": "9a8b6a0d",
   "metadata": {},
   "source": [
    "#### Working of open() function\n",
    "\n",
    "Before performing any operation on the file like read or write, first we have to open that file. For this, we should use Python’s inbuilt function open()\n",
    "\n",
    "But at the time of opening, we have to specify the mode, which represents the purpose of the opening file.\n",
    "\n",
    "f = open(filename, mode)"
   ]
  },
  {
   "cell_type": "markdown",
   "id": "addae1d9",
   "metadata": {},
   "source": [
    "#### Where the following mode is supported:\n",
    "\n",
    "r: open an existing file for a read operation.\n",
    "\n",
    "w: open an existing file for a write operation. If the file already contains some data then it will be overridden.\n",
    "\n",
    "a:  open an existing file for append operation. It won’t override existing data.\n",
    "\n",
    "r+:  To read and write data into the file. The previous data in the file will not be deleted.\n",
    "\n",
    "w+: To write and read data. It will override existing data.\n",
    "\n",
    "a+: To append and read data from the file. It won’t override existing data."
   ]
  },
  {
   "cell_type": "markdown",
   "id": "ca4ced82",
   "metadata": {},
   "source": [
    "## Working of read() mode\n",
    "\n",
    "There is more than one way to read a file in Python. If you need to extract a string that contains all characters in the file then we can use file.read()"
   ]
  },
  {
   "cell_type": "code",
   "execution_count": 5,
   "id": "12043865",
   "metadata": {},
   "outputs": [
    {
     "name": "stdout",
     "output_type": "stream",
     "text": [
      "Python File Handling\n",
      "\n",
      "Till now, we were taking the input from the console and writing it back to the console to interact with the user.\n",
      "\n",
      "Sometimes, it is not enough to only display the data on the console. The data to be displayed may be very large, and only a limited amount of data can be displayed on the console since the memory is volatile, it is impossible to recover the programmatically generated data again and again.\n",
      "\n",
      "The file handling plays an important role when the data needs to be stored permanently into the file. A file is a named location on disk to store related information. We can access the stored information (non-volatile) after the program termination.\n",
      "\n",
      "The file-handling implementation is slightly lengthy or complicated in the other programming language, but it is easier and shorter in Python.\n"
     ]
    }
   ],
   "source": [
    "# a file named \"demo\", will be opened with the reading mode.\n",
    "file = open('demo','r')\n",
    "# It will execute the demo file contents\n",
    "print(file.read())"
   ]
  },
  {
   "cell_type": "code",
   "execution_count": 6,
   "id": "8e3e33bd",
   "metadata": {},
   "outputs": [
    {
     "name": "stdout",
     "output_type": "stream",
     "text": [
      "Pytho\n"
     ]
    }
   ],
   "source": [
    "file = open('demo','r')\n",
    "# Python code to illustrate read() mode character wise\n",
    "print(file.read(5))"
   ]
  },
  {
   "cell_type": "code",
   "execution_count": 10,
   "id": "2e4738fc",
   "metadata": {},
   "outputs": [
    {
     "name": "stdout",
     "output_type": "stream",
     "text": [
      "Python File Handling\n",
      "\n"
     ]
    }
   ],
   "source": [
    "file = open('demo','r')\n",
    "# Python code to illustrate read() mode 1st line of the file\n",
    "print(file.readline())"
   ]
  },
  {
   "cell_type": "code",
   "execution_count": 11,
   "id": "d16ea1a2",
   "metadata": {},
   "outputs": [
    {
     "name": "stdout",
     "output_type": "stream",
     "text": [
      "Python File Handling\n",
      "\n",
      "\n",
      "\n",
      "Till now, we were taking the input from the console and writing it back to the console to interact with the user.\n",
      "\n",
      "\n",
      "\n",
      "Sometimes, it is not enough to only display the data on the console. The data to be displayed may be very large, and only a limited amount of data can be displayed on the console since the memory is volatile, it is impossible to recover the programmatically generated data again and again.\n",
      "\n",
      "\n",
      "\n",
      "The file handling plays an important role when the data needs to be stored permanently into the file. A file is a named location on disk to store related information. We can access the stored information (non-volatile) after the program termination.\n",
      "\n",
      "\n",
      "\n",
      "The file-handling implementation is slightly lengthy or complicated in the other programming language, but it is easier and shorter in Python.\n"
     ]
    }
   ],
   "source": [
    "# a file named \"demo\", will be opened with the reading mode.\n",
    "file = open('demo', 'r')\n",
    "# This will print every line one by one in the file\n",
    "for data in file:\n",
    "    print (data)\n"
   ]
  },
  {
   "cell_type": "markdown",
   "id": "6be10193",
   "metadata": {},
   "source": [
    "## Creating a file using write() mode\n",
    "\n",
    "Let’s see how to create a file and how write mode works: \n",
    "To manipulate the file, write the following in your Python environment:"
   ]
  },
  {
   "cell_type": "code",
   "execution_count": 13,
   "id": "de4b94dc",
   "metadata": {},
   "outputs": [],
   "source": [
    "file = open('demo1','w')\n",
    "file.write('Hello every one these is sanjay')\n",
    "file.write(\"\\nLet's learn python\")\n",
    "file.close()\n",
    "#The close() command terminates all the resources in use and frees the system of this particular program. "
   ]
  },
  {
   "cell_type": "markdown",
   "id": "ba32380c",
   "metadata": {},
   "source": [
    "## Working of append() mode\n",
    "\n",
    "Let’s see how the append mode works: "
   ]
  },
  {
   "cell_type": "code",
   "execution_count": 14,
   "id": "65361020",
   "metadata": {},
   "outputs": [],
   "source": [
    "f = open('demo1','a')\n",
    "f.write('\\nWe all are curently working on append mode')\n",
    "f.close()"
   ]
  },
  {
   "cell_type": "markdown",
   "id": "b9629698",
   "metadata": {},
   "source": [
    "## Copying the old file to new file "
   ]
  },
  {
   "cell_type": "code",
   "execution_count": 34,
   "id": "e1dbc85d",
   "metadata": {},
   "outputs": [],
   "source": [
    "files = open('demo2','r')\n",
    "file1 = open('demo4','w')\n",
    "for data in files:\n",
    "    file1.write(data)"
   ]
  },
  {
   "cell_type": "code",
   "execution_count": null,
   "id": "5e53eb9d",
   "metadata": {},
   "outputs": [],
   "source": []
  }
 ],
 "metadata": {
  "kernelspec": {
   "display_name": "Python 3 (ipykernel)",
   "language": "python",
   "name": "python3"
  },
  "language_info": {
   "codemirror_mode": {
    "name": "ipython",
    "version": 3
   },
   "file_extension": ".py",
   "mimetype": "text/x-python",
   "name": "python",
   "nbconvert_exporter": "python",
   "pygments_lexer": "ipython3",
   "version": "3.9.7"
  }
 },
 "nbformat": 4,
 "nbformat_minor": 5
}
