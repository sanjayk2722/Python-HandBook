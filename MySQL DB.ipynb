{
 "cells": [
  {
   "cell_type": "markdown",
   "id": "b4a878b4",
   "metadata": {},
   "source": [
    "# Python MySQL\n",
    "\n",
    "Python can be used in database applications.\n",
    "\n",
    "One of the most popular databases is MySQL."
   ]
  },
  {
   "cell_type": "markdown",
   "id": "0ba1da07",
   "metadata": {},
   "source": [
    "## MySQL Database\n",
    "\n",
    "To be able to experiment with the code examples in this tutorial, you should have MySQL installed on your computer."
   ]
  },
  {
   "cell_type": "markdown",
   "id": "1dee935b",
   "metadata": {},
   "source": [
    "## Install MySQL Driver\n",
    "\n",
    "Python needs a MySQL driver to access the MySQL database.\n",
    "\n",
    "In this tutorial we will use the driver \"MySQL Connector\".\n",
    "\n",
    "We recommend that you use PIP to install \"MySQL Connector\".\n",
    "\n",
    "PIP is most likely already installed in your Python environment.\n",
    "\n",
    "Navigate your command line to the location of PIP"
   ]
  },
  {
   "cell_type": "markdown",
   "id": "55b679e7",
   "metadata": {},
   "source": [
    "## Collecting MySQL Driver Package"
   ]
  },
  {
   "cell_type": "code",
   "execution_count": 1,
   "id": "cb03c2b8",
   "metadata": {},
   "outputs": [
    {
     "name": "stdout",
     "output_type": "stream",
     "text": [
      "Requirement already satisfied: mysql.connector in c:\\users\\hp\\anaconda3\\lib\\site-packages (2.2.9)\n",
      "Note: you may need to restart the kernel to use updated packages.\n"
     ]
    }
   ],
   "source": [
    "pip install mysql.connector"
   ]
  },
  {
   "cell_type": "code",
   "execution_count": 2,
   "id": "0bdaeec2",
   "metadata": {},
   "outputs": [
    {
     "name": "stdout",
     "output_type": "stream",
     "text": [
      "Requirement already satisfied: mysql-connector-python in c:\\users\\hp\\anaconda3\\lib\\site-packages (8.0.29)Note: you may need to restart the kernel to use updated packages.\n",
      "\n",
      "Requirement already satisfied: protobuf>=3.0.0 in c:\\users\\hp\\anaconda3\\lib\\site-packages (from mysql-connector-python) (4.21.2)\n"
     ]
    }
   ],
   "source": [
    "# some system doesn't support above module try the below one\n",
    "pip install mysql-connector-python"
   ]
  },
  {
   "cell_type": "markdown",
   "id": "978c7b9a",
   "metadata": {},
   "source": [
    "## Test MySQL Connector\n",
    "\n",
    "To test if the installation was successful, or if you already have \"MySQL Connector\" installed."
   ]
  },
  {
   "cell_type": "code",
   "execution_count": 5,
   "id": "4648ebe4",
   "metadata": {},
   "outputs": [],
   "source": [
    "import mysql.connector"
   ]
  },
  {
   "cell_type": "markdown",
   "id": "0ce0e3e8",
   "metadata": {},
   "source": [
    "## Create Connection\n",
    "\n",
    "Start by creating a connection to the database.\n",
    "\n",
    "Use the username and password from your MySQL database"
   ]
  },
  {
   "cell_type": "code",
   "execution_count": 9,
   "id": "61291613",
   "metadata": {},
   "outputs": [],
   "source": [
    "conn = mysql.connector.connect(host='localhost',user='root',password='root')"
   ]
  },
  {
   "cell_type": "markdown",
   "id": "a32348d4",
   "metadata": {},
   "source": [
    "##  Create Cursor\n",
    "\n",
    "cursor is like a pointer which navigate to the queries from py to mysql"
   ]
  },
  {
   "cell_type": "code",
   "execution_count": 11,
   "id": "a7f6e8ff",
   "metadata": {},
   "outputs": [],
   "source": [
    "mycursor = conn.cursor()"
   ]
  },
  {
   "cell_type": "markdown",
   "id": "965d6686",
   "metadata": {},
   "source": [
    "##  Create New Database"
   ]
  },
  {
   "cell_type": "code",
   "execution_count": 12,
   "id": "37d98433",
   "metadata": {},
   "outputs": [],
   "source": [
    "query1=\"CREATE DATABASE student\"\n",
    "mycursor.execute(query1)"
   ]
  },
  {
   "cell_type": "markdown",
   "id": "0aa56f6f",
   "metadata": {},
   "source": [
    "### show database "
   ]
  },
  {
   "cell_type": "code",
   "execution_count": 13,
   "id": "8516b6c2",
   "metadata": {},
   "outputs": [
    {
     "name": "stdout",
     "output_type": "stream",
     "text": [
      "('information_schema',)\n",
      "('mydb',)\n",
      "('mysql',)\n",
      "('performance_schema',)\n",
      "('python',)\n",
      "('student',)\n",
      "('sys',)\n"
     ]
    }
   ],
   "source": [
    "mycursor.execute(\"show databases\")\n",
    "\n",
    "for i in mycursor:\n",
    "    print(i)"
   ]
  },
  {
   "cell_type": "markdown",
   "id": "27c4ac6a",
   "metadata": {},
   "source": [
    "### Using Student Database \n",
    "\n",
    "using student database for futher queries"
   ]
  },
  {
   "cell_type": "code",
   "execution_count": 37,
   "id": "b6fc2072",
   "metadata": {},
   "outputs": [],
   "source": [
    "conn = mysql.connector.connect(host='localhost',user='root',password='root',database = 'student')\n",
    "\n",
    "mycursor = conn.cursor()"
   ]
  },
  {
   "cell_type": "markdown",
   "id": "9f8ec0c9",
   "metadata": {},
   "source": [
    "## Create Table to the Student Database"
   ]
  },
  {
   "cell_type": "code",
   "execution_count": 21,
   "id": "1f4aa215",
   "metadata": {},
   "outputs": [],
   "source": [
    "query2 = \"CREATE TABLE data (id int PRIMARY KEY AUTO_INCREMENT,name varchar(50),age smallint UNSIGNED)\"\n",
    "\n",
    "mycursor.execute(query2)"
   ]
  },
  {
   "cell_type": "markdown",
   "id": "e05f0856",
   "metadata": {},
   "source": [
    "### check the created table whether inserted"
   ]
  },
  {
   "cell_type": "code",
   "execution_count": 22,
   "id": "4cd306e5",
   "metadata": {},
   "outputs": [
    {
     "name": "stdout",
     "output_type": "stream",
     "text": [
      "('id', b'int', 'NO', 'PRI', None, 'auto_increment')\n",
      "('name', b'varchar(50)', 'YES', '', None, '')\n",
      "('age', b'smallint unsigned', 'YES', '', None, '')\n"
     ]
    }
   ],
   "source": [
    "mycursor.execute(\"DESCRIBE data\")\n",
    "for i in mycursor:\n",
    "    print(i)"
   ]
  },
  {
   "cell_type": "markdown",
   "id": "5a5d060b",
   "metadata": {},
   "source": [
    "## Insert value into  data Table"
   ]
  },
  {
   "cell_type": "code",
   "execution_count": 25,
   "id": "24c4c723",
   "metadata": {},
   "outputs": [],
   "source": [
    "query3 = \"insert into data (name,age) values (%s,%s)\"\n",
    "\n",
    "val = ('Ramesh',17)\n",
    "\n",
    "mycursor.execute(query3,val)   #executemany(query,tplval)\n",
    "\n",
    "conn.commit()  # commit query will help to send data to the table after the value inserted\n"
   ]
  },
  {
   "cell_type": "markdown",
   "id": "cb8eeb24",
   "metadata": {},
   "source": [
    "## Select value form data table"
   ]
  },
  {
   "cell_type": "code",
   "execution_count": 38,
   "id": "93ddae9b",
   "metadata": {},
   "outputs": [
    {
     "name": "stdout",
     "output_type": "stream",
     "text": [
      "('sanjay',)\n",
      "('devi',)\n",
      "('Ramesh',)\n"
     ]
    }
   ],
   "source": [
    "query5 = \"Select name from data\"\n",
    "\n",
    "mycursor.execute(query5)\n",
    "\n",
    "for i in mycursor:\n",
    "    print(i)\n",
    "\n",
    "\n",
    "# print(mycursor.fetchall())\n",
    "# print(mycursor.fetchone())\n",
    "\n"
   ]
  },
  {
   "cell_type": "code",
   "execution_count": 39,
   "id": "e15ef068",
   "metadata": {},
   "outputs": [
    {
     "name": "stdout",
     "output_type": "stream",
     "text": [
      "[(1, 'sanjay', 19), (2, 'devi', 17), (3, 'Ramesh', 17)]\n"
     ]
    }
   ],
   "source": [
    "query4 = \"Select * from data\"\n",
    "\n",
    "mycursor.execute(query4)\n",
    "\n",
    "print(mycursor.fetchall())"
   ]
  },
  {
   "cell_type": "markdown",
   "id": "cb322b02",
   "metadata": {},
   "source": [
    "##### There Is much more operation in these Database Concept Just do By Yourself with SQL Queries..."
   ]
  }
 ],
 "metadata": {
  "kernelspec": {
   "display_name": "Python 3 (ipykernel)",
   "language": "python",
   "name": "python3"
  },
  "language_info": {
   "codemirror_mode": {
    "name": "ipython",
    "version": 3
   },
   "file_extension": ".py",
   "mimetype": "text/x-python",
   "name": "python",
   "nbconvert_exporter": "python",
   "pygments_lexer": "ipython3",
   "version": "3.9.7"
  }
 },
 "nbformat": 4,
 "nbformat_minor": 5
}
