{
 "cells": [
  {
   "cell_type": "markdown",
   "id": "09854427",
   "metadata": {},
   "source": [
    "# Python Functions\n",
    "\n",
    "A function is a block of code which only runs when it is called.\n",
    "\n",
    "You can pass data, known as parameters, into a function.\n",
    "\n",
    "A function can return data as a result.\n",
    "\n"
   ]
  },
  {
   "cell_type": "markdown",
   "id": "6a784766",
   "metadata": {},
   "source": [
    "# Creating a Function\n",
    "\n",
    "In Python a function is defined using the def keyword:"
   ]
  },
  {
   "cell_type": "code",
   "execution_count": 2,
   "id": "fef0274d",
   "metadata": {},
   "outputs": [],
   "source": [
    "def fun():\n",
    "    print('welcome to sanla codes')"
   ]
  },
  {
   "cell_type": "markdown",
   "id": "bcab64a0",
   "metadata": {},
   "source": [
    "# Calling a Function\n",
    "\n",
    "To call a function, use the function name followed by parenthesis:"
   ]
  },
  {
   "cell_type": "code",
   "execution_count": 3,
   "id": "742f5d3a",
   "metadata": {},
   "outputs": [
    {
     "name": "stdout",
     "output_type": "stream",
     "text": [
      "welcome to sanla codes\n"
     ]
    }
   ],
   "source": [
    "fun()"
   ]
  },
  {
   "cell_type": "markdown",
   "id": "b3688b2f",
   "metadata": {},
   "source": [
    "# Arguments\n",
    "\n",
    "Information can be passed into functions as arguments.\n",
    "\n",
    "Arguments are specified after the function name, inside the parentheses. You can add as many arguments as you want, just separate them with a comma.\n",
    "\n",
    "The following example has a function with two argument (a,b). When the function is called, we pass along a first number and second number, which is used inside the function to print the sum :"
   ]
  },
  {
   "cell_type": "code",
   "execution_count": 7,
   "id": "70d924ed",
   "metadata": {},
   "outputs": [
    {
     "name": "stdout",
     "output_type": "stream",
     "text": [
      "Additions of 10 and 30 is 40\n"
     ]
    }
   ],
   "source": [
    "# adding the two number inside function by passing the arguments\n",
    "def sum(a,b):\n",
    "    c = a + b\n",
    "    print(f'Additions of {a} and {b} is {c}')\n",
    "sum(10,30)"
   ]
  },
  {
   "cell_type": "code",
   "execution_count": 9,
   "id": "df80310a",
   "metadata": {},
   "outputs": [
    {
     "ename": "TypeError",
     "evalue": "sum() missing 2 required positional arguments: 'a' and 'b'",
     "output_type": "error",
     "traceback": [
      "\u001b[1;31m---------------------------------------------------------------------------\u001b[0m",
      "\u001b[1;31mTypeError\u001b[0m                                 Traceback (most recent call last)",
      "\u001b[1;32m~\\AppData\\Local\\Temp/ipykernel_5348/2616580429.py\u001b[0m in \u001b[0;36m<module>\u001b[1;34m\u001b[0m\n\u001b[0;32m      3\u001b[0m     \u001b[0mc\u001b[0m \u001b[1;33m=\u001b[0m \u001b[0ma\u001b[0m \u001b[1;33m+\u001b[0m \u001b[0mb\u001b[0m\u001b[1;33m\u001b[0m\u001b[1;33m\u001b[0m\u001b[0m\n\u001b[0;32m      4\u001b[0m     \u001b[0mprint\u001b[0m\u001b[1;33m(\u001b[0m\u001b[1;34mf'Additions of {a} and {b} is {c}'\u001b[0m\u001b[1;33m)\u001b[0m\u001b[1;33m\u001b[0m\u001b[1;33m\u001b[0m\u001b[0m\n\u001b[1;32m----> 5\u001b[1;33m \u001b[0msum\u001b[0m\u001b[1;33m(\u001b[0m\u001b[1;33m)\u001b[0m\u001b[1;33m\u001b[0m\u001b[1;33m\u001b[0m\u001b[0m\n\u001b[0m",
      "\u001b[1;31mTypeError\u001b[0m: sum() missing 2 required positional arguments: 'a' and 'b'"
     ]
    }
   ],
   "source": [
    "# without passing the mentioned arguments while calling the function it will throw TypeError :\n",
    "def sum(a,b):\n",
    "    c = a + b\n",
    "    print(f'Additions of {a} and {b} is {c}')\n",
    "sum()"
   ]
  },
  {
   "cell_type": "markdown",
   "id": "af997ae1",
   "metadata": {},
   "source": [
    "# Return and Result"
   ]
  },
  {
   "cell_type": "code",
   "execution_count": 3,
   "id": "2c88b360",
   "metadata": {},
   "outputs": [],
   "source": [
    "def add(x,y):\n",
    "    c = x + y\n",
    "    return c        #---> It will return the value\n",
    "result = add(5,4)   #---> store the return value in the result"
   ]
  },
  {
   "cell_type": "code",
   "execution_count": 1,
   "id": "551e4536",
   "metadata": {},
   "outputs": [],
   "source": [
    "def add_sub(x,y):\n",
    "    a = x + y \n",
    "    b = x - y\n",
    "    return a,b\n",
    "result_1,result_2 = add_sub (5,4)"
   ]
  },
  {
   "cell_type": "code",
   "execution_count": 7,
   "id": "77efed5e",
   "metadata": {},
   "outputs": [
    {
     "name": "stdout",
     "output_type": "stream",
     "text": [
      "9\n",
      "1\n"
     ]
    }
   ],
   "source": [
    "print(result_1)\n",
    "print(result_2)"
   ]
  },
  {
   "cell_type": "markdown",
   "id": "a3f316fa",
   "metadata": {},
   "source": [
    "## Parameters or Arguments?\n",
    "The terms parameter and argument can be used for the same thing: information that are passed into a function.\n",
    "\n",
    "From a function's perspective:\n",
    "\n",
    "A parameter is the variable listed inside the parentheses in the function definition.\n",
    "\n",
    "An argument is the value that is sent to the function when it is called."
   ]
  },
  {
   "cell_type": "markdown",
   "id": "c14ba26a",
   "metadata": {},
   "source": [
    "# Types of Argument\n",
    "\n",
    "1.Formal Argument  ----> (def function_name)-->function creating \n",
    "\n",
    "2.Actual Argument  ----> (function_name)--> function calling "
   ]
  },
  {
   "cell_type": "markdown",
   "id": "856813fc",
   "metadata": {},
   "source": [
    "# Actual Argument\n",
    "\n",
    "1.Position Argument \n",
    "\n",
    "2.Default Argument\n",
    "\n",
    "3.Variable Length Argument\n",
    "\n",
    "4.Keyworded Variable Length Argument"
   ]
  },
  {
   "cell_type": "code",
   "execution_count": 9,
   "id": "af8e76b1",
   "metadata": {},
   "outputs": [
    {
     "name": "stdout",
     "output_type": "stream",
     "text": [
      "Sanla\n",
      "19\n"
     ]
    }
   ],
   "source": [
    "# Position Argument\n",
    "def person(name,age):\n",
    "    print(name)\n",
    "    print(age)\n",
    "person('Sanla',19)"
   ]
  },
  {
   "cell_type": "code",
   "execution_count": 11,
   "id": "527d79f4",
   "metadata": {},
   "outputs": [
    {
     "name": "stdout",
     "output_type": "stream",
     "text": [
      "Sanla\n",
      "19\n"
     ]
    }
   ],
   "source": [
    "# Default Argument\n",
    "def person(name,age = 18):\n",
    "    print(name)\n",
    "    print(age)\n",
    "person('Sanla',19)"
   ]
  },
  {
   "cell_type": "code",
   "execution_count": 12,
   "id": "69f63e9a",
   "metadata": {},
   "outputs": [
    {
     "name": "stdout",
     "output_type": "stream",
     "text": [
      "Sanla\n",
      "18\n"
     ]
    }
   ],
   "source": [
    "# whether we didnt declare the value for the argument while calling the function\n",
    "#The mentioned default argument will return the value.\n",
    "\n",
    "# Default Argument\n",
    "def person(name,age = 18):\n",
    "    print(name)\n",
    "    print(age)\n",
    "person('Sanla') "
   ]
  },
  {
   "cell_type": "code",
   "execution_count": 13,
   "id": "0ac011eb",
   "metadata": {},
   "outputs": [
    {
     "name": "stdout",
     "output_type": "stream",
     "text": [
      "2\n",
      "(4,)\n"
     ]
    }
   ],
   "source": [
    "# Variable Length Argument\n",
    "# It will return the value in tuple\n",
    "\n",
    "def add(x,*y):\n",
    "    print(x)\n",
    "    print(y)\n",
    "add(2,4)"
   ]
  },
  {
   "cell_type": "code",
   "execution_count": 14,
   "id": "7f7ef9b5",
   "metadata": {},
   "outputs": [
    {
     "name": "stdout",
     "output_type": "stream",
     "text": [
      "27\n"
     ]
    }
   ],
   "source": [
    "# we can give number of values for the variable Length Argument\n",
    "def sub(*num):\n",
    "    total = 0\n",
    "    for i in num:\n",
    "        total += i\n",
    "    print(total)\n",
    "sub(2,3,4,5,6,7)"
   ]
  },
  {
   "cell_type": "code",
   "execution_count": 16,
   "id": "687f502c",
   "metadata": {},
   "outputs": [
    {
     "name": "stdout",
     "output_type": "stream",
     "text": [
      "{'name': 'Sanla', 'age': 18, 'language': 'python', 'city': 'chennai'} <class 'dict'>\n"
     ]
    }
   ],
   "source": [
    "# Keyworded Variable Length Argument\n",
    "# It will return the value in dictionary\n",
    "def person (**data):\n",
    "    print(data,type(data))\n",
    "person(name = 'Sanla',age = 18,language = 'python',city = 'chennai')"
   ]
  },
  {
   "cell_type": "code",
   "execution_count": 19,
   "id": "5704ccf9",
   "metadata": {},
   "outputs": [
    {
     "name": "stdout",
     "output_type": "stream",
     "text": [
      "name is Sanla\n",
      "age is 18\n",
      "language is python\n",
      "city is chennai\n"
     ]
    }
   ],
   "source": [
    "def person(**data):\n",
    "    for i,j in data.items():\n",
    "        print(i,j , sep = ' is ')\n",
    "person(name = 'Sanla',age = 18,language = 'python',city = 'chennai')"
   ]
  },
  {
   "cell_type": "code",
   "execution_count": 20,
   "id": "a933c553",
   "metadata": {},
   "outputs": [
    {
     "name": "stdout",
     "output_type": "stream",
     "text": [
      "name is Sanla\n",
      "age is 18\n"
     ]
    }
   ],
   "source": [
    "def person(**data):\n",
    "    for i in data:\n",
    "        print(i,data[i],sep = ' is ')\n",
    "person(name = 'Sanla',age = 18)"
   ]
  },
  {
   "cell_type": "code",
   "execution_count": 5,
   "id": "0cd1428f",
   "metadata": {},
   "outputs": [
    {
     "name": "stdout",
     "output_type": "stream",
     "text": [
      "The number of odd number in the list is 5\n",
      "The number of even number in the list is 4\n"
     ]
    }
   ],
   "source": [
    "# passing a list in function and count the number of odd or even numbers\n",
    "def count(lst):\n",
    "    even = 0\n",
    "    odd = 0\n",
    "    for i in lst:\n",
    "        if i%2 == 0:\n",
    "            even += 1\n",
    "        else:\n",
    "            odd += 1\n",
    "    return odd,even\n",
    "lst = [1,2,3,4,5,6,7,8,9]  # here we can code these to lst = list(range(1,10))\n",
    "odd,even = count(lst)\n",
    "print(f\"The number of odd number in the list is {odd}\")\n",
    "print(f\"The number of even number in the list is {even}\")"
   ]
  },
  {
   "cell_type": "code",
   "execution_count": 36,
   "id": "b807bc3c",
   "metadata": {},
   "outputs": [
    {
     "name": "stdout",
     "output_type": "stream",
     "text": [
      "0\n",
      "1\n",
      "1\n",
      "2\n",
      "3\n"
     ]
    }
   ],
   "source": [
    "# finding the sequence of fibonacci using function\n",
    "# Fibonacci series can be explained as a sequence of numbers where the numbers can be formed by adding the previous two numbers. \n",
    "#It starts from 1 and can go upto a sequence of any finite set of numbers. It is 1, 1, 2, 3, 5, 8, 13, 21,..etc.\n",
    "\n",
    "def fib(n):\n",
    "    a = 0\n",
    "    b = 1\n",
    "    if n == 1:\n",
    "        print(a)\n",
    "    else:\n",
    "        print(a)\n",
    "        print(b)\n",
    "    for i in range(2,n):\n",
    "        c = a + b\n",
    "        a = b\n",
    "        b = c\n",
    "        print(c)\n",
    "fib(5)"
   ]
  },
  {
   "cell_type": "code",
   "execution_count": 24,
   "id": "900ef1fe",
   "metadata": {},
   "outputs": [
    {
     "name": "stdout",
     "output_type": "stream",
     "text": [
      "120\n",
      "120\n"
     ]
    }
   ],
   "source": [
    "#Factorial of number using  function\n",
    "def fac(num):\n",
    "    f = 1\n",
    "    for i in range(1,num+1):\n",
    "        f*=i\n",
    "    return f\n",
    "res = fac(5)\n",
    "print(res)\n",
    "\n",
    "import math\n",
    "def fact(n):\n",
    "    x = math.factorial(n)\n",
    "    print(x)\n",
    "fact(5)"
   ]
  },
  {
   "cell_type": "markdown",
   "id": "16c0cb53",
   "metadata": {},
   "source": [
    "# Nested Function\n",
    "\n",
    "A function which defined other the function is inner function or nested function"
   ]
  },
  {
   "cell_type": "code",
   "execution_count": 40,
   "id": "2c70a09c",
   "metadata": {},
   "outputs": [
    {
     "name": "stdout",
     "output_type": "stream",
     "text": [
      "Hi\n",
      "Welcome to SanLa Codes\n"
     ]
    }
   ],
   "source": [
    "def outerfun(text):\n",
    "    t = text\n",
    "    def innerfun():\n",
    "        s = 'Welcome to SanLa Codes'\n",
    "        print(text)\n",
    "        print(s)\n",
    "    innerfun()\n",
    "outerfun('Hi')"
   ]
  },
  {
   "cell_type": "code",
   "execution_count": 55,
   "id": "e1d66ed0",
   "metadata": {},
   "outputs": [
    {
     "name": "stdout",
     "output_type": "stream",
     "text": [
      "10\n"
     ]
    }
   ],
   "source": [
    "def out():\n",
    "    x = 4\n",
    "    def inn():\n",
    "        y = 6\n",
    "        z = x + y\n",
    "        return z\n",
    "    return inn()\n",
    "res = out()\n",
    "print(res)"
   ]
  },
  {
   "cell_type": "code",
   "execution_count": 67,
   "id": "e4e2ff5b",
   "metadata": {},
   "outputs": [
    {
     "name": "stdout",
     "output_type": "stream",
     "text": [
      "Hi, sanjay  k!\n"
     ]
    }
   ],
   "source": [
    "def greeting(fname,lname):\n",
    "    def fullname():\n",
    "        return fname+\" \"+lname\n",
    "    print('Hi, '+  fullname() +'!')\n",
    "greeting('sanjay',' k')\n",
    "        "
   ]
  },
  {
   "cell_type": "code",
   "execution_count": 60,
   "id": "c8960e37",
   "metadata": {},
   "outputs": [
    {
     "name": "stdout",
     "output_type": "stream",
     "text": [
      "outer its me\n",
      "inner its me\n"
     ]
    }
   ],
   "source": [
    "def check(msg):\n",
    "    print('outer '+ msg)\n",
    "    def inner():\n",
    "        print('inner '+ msg)\n",
    "    inner()\n",
    "check('its me')"
   ]
  },
  {
   "cell_type": "code",
   "execution_count": 10,
   "id": "428c28e0",
   "metadata": {},
   "outputs": [
    {
     "name": "stdout",
     "output_type": "stream",
     "text": [
      "6\n",
      "-2\n",
      "8\n"
     ]
    }
   ],
   "source": [
    "def cal(a,b):\n",
    "    def add():\n",
    "        x = a + b \n",
    "        print(x)\n",
    "    add()\n",
    "    def sub():\n",
    "        x = a - b\n",
    "        print(x)\n",
    "    sub()\n",
    "    def multi():\n",
    "        x = a * b\n",
    "        print(x)\n",
    "    multi()\n",
    "s = cal(2,4)"
   ]
  },
  {
   "cell_type": "code",
   "execution_count": 4,
   "id": "f6adbc68",
   "metadata": {},
   "outputs": [
    {
     "name": "stdout",
     "output_type": "stream",
     "text": [
      "10\n"
     ]
    }
   ],
   "source": [
    "def outer():\n",
    "    x = 5\n",
    "    def inner():\n",
    "        y = 5\n",
    "        res = x + y\n",
    "        return res\n",
    "    return inner()\n",
    "obj = outer()\n",
    "print(obj)"
   ]
  },
  {
   "cell_type": "markdown",
   "id": "54758bea",
   "metadata": {},
   "source": [
    "# Closure Function\n",
    "\n",
    "Function object that remembers values in the enclosing scope even if they are not present in memory "
   ]
  },
  {
   "cell_type": "code",
   "execution_count": 5,
   "id": "233257f8",
   "metadata": {},
   "outputs": [
    {
     "name": "stdout",
     "output_type": "stream",
     "text": [
      "Python\n"
     ]
    }
   ],
   "source": [
    "def outer():\n",
    "    txt = 'Python'\n",
    "    def inner():\n",
    "        print(txt)\n",
    "    return inner  # return to the outer function whicj calls the inner function object\n",
    "obj = outer()\n",
    "obj()"
   ]
  },
  {
   "cell_type": "code",
   "execution_count": null,
   "id": "c8c3b12e",
   "metadata": {},
   "outputs": [],
   "source": []
  }
 ],
 "metadata": {
  "kernelspec": {
   "display_name": "Python 3 (ipykernel)",
   "language": "python",
   "name": "python3"
  },
  "language_info": {
   "codemirror_mode": {
    "name": "ipython",
    "version": 3
   },
   "file_extension": ".py",
   "mimetype": "text/x-python",
   "name": "python",
   "nbconvert_exporter": "python",
   "pygments_lexer": "ipython3",
   "version": "3.9.7"
  }
 },
 "nbformat": 4,
 "nbformat_minor": 5
}
