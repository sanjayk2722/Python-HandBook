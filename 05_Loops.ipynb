{
 "cells": [
  {
   "cell_type": "markdown",
   "id": "58b20fa4",
   "metadata": {},
   "source": [
    "# Loops - for loop, while loop"
   ]
  },
  {
   "cell_type": "markdown",
   "id": "d54c400f",
   "metadata": {},
   "source": [
    "## for loop"
   ]
  },
  {
   "cell_type": "code",
   "execution_count": 1,
   "id": "f6005ed5",
   "metadata": {},
   "outputs": [],
   "source": [
    "#for iterating_var in sequence:\n",
    "    #execute your code"
   ]
  },
  {
   "cell_type": "code",
   "execution_count": 2,
   "id": "a862790f",
   "metadata": {},
   "outputs": [
    {
     "name": "stdout",
     "output_type": "stream",
     "text": [
      "1\n",
      "2\n",
      "3\n",
      "4\n",
      "5\n"
     ]
    }
   ],
   "source": [
    "for i in range(1,6):\n",
    "    print(i)"
   ]
  },
  {
   "cell_type": "code",
   "execution_count": 3,
   "id": "d4fef4c1",
   "metadata": {},
   "outputs": [
    {
     "name": "stdout",
     "output_type": "stream",
     "text": [
      "S\n",
      "a\n",
      "n\n",
      "L\n",
      "a\n",
      " \n",
      "C\n",
      "o\n",
      "d\n",
      "e\n",
      "s\n"
     ]
    }
   ],
   "source": [
    "for letter in 'SanLa Codes':\n",
    "    print(letter)"
   ]
  },
  {
   "cell_type": "code",
   "execution_count": 4,
   "id": "0dc314d4",
   "metadata": {},
   "outputs": [
    {
     "name": "stdout",
     "output_type": "stream",
     "text": [
      "# # # # \n",
      "# # # # \n",
      "# # # # \n",
      "# # # # \n"
     ]
    }
   ],
   "source": [
    "#printing pattern # 4 and 4\n",
    "for i in range(4):     #i is row\n",
    "    for j in range(4): # j is column\n",
    "        print(\"#\",end=\" \")\n",
    "    print()"
   ]
  },
  {
   "cell_type": "code",
   "execution_count": 5,
   "id": "b9fa3453",
   "metadata": {},
   "outputs": [
    {
     "name": "stdout",
     "output_type": "stream",
     "text": [
      "# \n",
      "# # \n",
      "# # # \n",
      "# # # # \n"
     ]
    }
   ],
   "source": [
    "# printing pattern #1,2,3,4\n",
    "for i in range(4):\n",
    "    for j in range(i+1):\n",
    "        print('#',end=' ')\n",
    "    print()"
   ]
  },
  {
   "cell_type": "code",
   "execution_count": 6,
   "id": "a1ace78b",
   "metadata": {},
   "outputs": [
    {
     "name": "stdout",
     "output_type": "stream",
     "text": [
      "# # # # \n",
      "# # # \n",
      "# # \n",
      "# \n"
     ]
    }
   ],
   "source": [
    "# printing pattern #4,3,2,1\n",
    "for i in range(4):\n",
    "    for j in range(4-i):\n",
    "        print('#',end=' ')\n",
    "    print()"
   ]
  },
  {
   "cell_type": "markdown",
   "id": "7885088c",
   "metadata": {},
   "source": [
    "## For Loop Break"
   ]
  },
  {
   "cell_type": "code",
   "execution_count": 7,
   "id": "0fcb00e2",
   "metadata": {},
   "outputs": [
    {
     "name": "stdout",
     "output_type": "stream",
     "text": [
      "0\n",
      "1\n",
      "2\n",
      "3\n"
     ]
    }
   ],
   "source": [
    "for i in range(6):\n",
    "    if i == 4:\n",
    "        break\n",
    "    print(i)"
   ]
  },
  {
   "cell_type": "markdown",
   "id": "35e3690d",
   "metadata": {},
   "source": [
    "## For Loop Continue"
   ]
  },
  {
   "cell_type": "code",
   "execution_count": 8,
   "id": "c81c6b21",
   "metadata": {},
   "outputs": [
    {
     "name": "stdout",
     "output_type": "stream",
     "text": [
      "0\n",
      "1\n",
      "2\n",
      "3\n",
      "5\n"
     ]
    }
   ],
   "source": [
    "for i in range(6):\n",
    "    if i == 4:\n",
    "        continue\n",
    "    print(i)"
   ]
  },
  {
   "cell_type": "markdown",
   "id": "a24d59ce",
   "metadata": {},
   "source": [
    "## For Loop pass"
   ]
  },
  {
   "cell_type": "code",
   "execution_count": 9,
   "id": "2fe7bf7e",
   "metadata": {},
   "outputs": [
    {
     "name": "stdout",
     "output_type": "stream",
     "text": [
      "0\n",
      "1\n",
      "2\n",
      "3\n",
      "pass\n",
      "4\n",
      "5\n"
     ]
    }
   ],
   "source": [
    "for i in range(6):\n",
    "    if i == 4:\n",
    "        pass\n",
    "        print('pass')\n",
    "    print(i)"
   ]
  },
  {
   "cell_type": "code",
   "execution_count": 3,
   "id": "0edcb2d5",
   "metadata": {},
   "outputs": [
    {
     "name": "stdout",
     "output_type": "stream",
     "text": [
      "Sun Leave\n",
      "Mon Working\n",
      "Tues Working\n",
      "Wed Working\n",
      "Thurs Working\n",
      "Fri Working\n",
      "Satur Leave\n"
     ]
    }
   ],
   "source": [
    "# print working days and leave days of the employee using for loop conditions\n",
    "Days = ['Sun','Mon','Tues','Wed','Thurs','Fri','Satur']\n",
    "for Day in Days:\n",
    "    if Day == 'Sun' or Day == 'Satur':\n",
    "        print(Day + ' Leave')\n",
    "    else:\n",
    "        print(Day + ' Working')"
   ]
  },
  {
   "cell_type": "code",
   "execution_count": 15,
   "id": "12e4d3bc",
   "metadata": {},
   "outputs": [
    {
     "name": "stdout",
     "output_type": "stream",
     "text": [
      "Sun Leave\n",
      "Mon Working\n",
      "Tues Working\n",
      "Wed Personal Leave\n",
      "Thurs Working\n",
      "Fri Working\n",
      "Satur Leave\n"
     ]
    }
   ],
   "source": [
    "# print working days and leave days  with personal leave of the employee using for loop conditions\n",
    "Days = ['Sun','Mon','Tues','Wed','Thurs','Fri','Satur']\n",
    "personal_leave = 'Wed'\n",
    "for Day in Days:\n",
    "    if personal_leave == Day:\n",
    "        print(Day + ' Personal Leave')\n",
    "        continue\n",
    "    if Day == 'Sun' or Day == 'Satur':\n",
    "        print(Day + ' Leave')\n",
    "    else:\n",
    "        print(Day + ' Working')"
   ]
  },
  {
   "cell_type": "code",
   "execution_count": 11,
   "id": "b89b269c",
   "metadata": {},
   "outputs": [
    {
     "name": "stdout",
     "output_type": "stream",
     "text": [
      "Sun Leave\n",
      "Mon Working\n",
      "Tues Working\n",
      "Wed Lastworking day\n"
     ]
    }
   ],
   "source": [
    "# print working days and leave days with terminate day of the  employee using for loop conditions\n",
    "Days = ['Sun','Mon','Tues','Wed','Thurs','Fri','Satur']\n",
    "job_lastday = 'Wed'\n",
    "for Day in Days:\n",
    "    if job_lastday == Day:\n",
    "        print(Day + ' Lastworking day')\n",
    "        break\n",
    "    if Day == 'Sun' or Day == 'Satur':\n",
    "        print(Day + ' Leave')\n",
    "    else:\n",
    "        print(Day + ' Working')"
   ]
  },
  {
   "cell_type": "code",
   "execution_count": 13,
   "id": "892f12d4",
   "metadata": {},
   "outputs": [
    {
     "name": "stdout",
     "output_type": "stream",
     "text": [
      "0\n",
      "1\n",
      "2\n",
      "3\n",
      "4\n",
      "5\n"
     ]
    }
   ],
   "source": [
    "i = \n",
    "while i < 6 :\n",
    "    print(i)\n",
    "    i += 1"
   ]
  },
  {
   "cell_type": "code",
   "execution_count": 10,
   "id": "366eea16",
   "metadata": {},
   "outputs": [
    {
     "name": "stdout",
     "output_type": "stream",
     "text": [
      "0\n",
      "6\n",
      "8\n",
      "12\n",
      "21\n",
      "29\n",
      "37\n",
      "39\n",
      "40\n"
     ]
    }
   ],
   "source": [
    "#Write a Python Program, to print all the indexes of all occurences of letter 'p' appeared in the string using loop:-\n",
    "    \n",
    "#Input:- 'peter piper picked a peck of pickled peppers.'\n",
    "#Output:- \n",
    "# 0\n",
    "# 6\n",
    "# 8\n",
    "# 12\n",
    "# 21\n",
    "# 29\n",
    "# 37\n",
    "# 39\n",
    "# 40\n",
    "my_str = 'peter piper picked a peck of pickled peppers'\n",
    "for i in range(len(my_str)):\n",
    "    if my_str[i] == 'p':\n",
    "        print(i)"
   ]
  },
  {
   "cell_type": "code",
   "execution_count": 11,
   "id": "607124f0",
   "metadata": {},
   "outputs": [
    {
     "name": "stdout",
     "output_type": "stream",
     "text": [
      "['peter', 'piper', 'picked', 'a', 'peck', 'of', 'pickled', 'peppers']\n",
      "\n",
      "['peter', 'piper', 'picked', 'a', 'peck', 'of', 'pickled', 'peppers.']\n"
     ]
    }
   ],
   "source": [
    "#Write a python program to find below output using loop:-\n",
    "\n",
    "#Input:- 'peter piper picked a peck of pickled peppers.'\n",
    "#Output:- ['peter', 'piper', 'picked', 'a', 'peck', 'of', 'pickled', 'peppers']\n",
    "\n",
    "my_str = 'peter piper picked a peck of pickled peppers.'\n",
    "my_lst = []\n",
    "my_estr = ''\n",
    "for i in my_str:\n",
    "    if i == \" \" or i == \".\":\n",
    "        my_lst.append(my_estr)\n",
    "        my_estr = ''\n",
    "    else:\n",
    "        my_estr += i  \n",
    "print(my_lst)\n",
    "print()\n",
    "#using split()method can also insert the string in the list:\n",
    "lstr = my_str.split()\n",
    "print(lstr)"
   ]
  },
  {
   "cell_type": "code",
   "execution_count": 12,
   "id": "a56e8892",
   "metadata": {},
   "outputs": [
    {
     "name": "stdout",
     "output_type": "stream",
     "text": [
      "peppers pickled of peck a picked piper peter\n"
     ]
    }
   ],
   "source": [
    "#Write a python program to find below output using loop:-\n",
    "\n",
    "#Input:- 'peter piper picked a peck of pickled peppers.'\n",
    "#Output:- 'peppers pickled of peck a picked piper peter'\n",
    "my_lst = ['peter', 'piper', 'picked', 'a', 'peck', 'of', 'pickled', 'peppers']\n",
    "out = ''\n",
    "for i in my_lst[::-1]:\n",
    "    out = out + ' ' + i \n",
    "out = out.strip()\n",
    "print(out)"
   ]
  },
  {
   "cell_type": "code",
   "execution_count": 13,
   "id": "519c7dc2",
   "metadata": {},
   "outputs": [
    {
     "name": "stdout",
     "output_type": "stream",
     "text": [
      ".sreppep delkcip fo kcep a dekcip repip retep\n"
     ]
    }
   ],
   "source": [
    "#Write a python program to find below output using loop:-\n",
    "\n",
    "#Input:- 'peter piper picked a peck of pickled peppers.'\n",
    "#Output:- '.sreppep delkcip fo kcep a dekcip repip retep'\n",
    "\n",
    "user='peter piper picked a peck of pickled peppers.'\n",
    "out = ''\n",
    "for i in user:\n",
    "    out = i + out\n",
    "print(out)"
   ]
  },
  {
   "cell_type": "code",
   "execution_count": 14,
   "id": "ee0ed58e",
   "metadata": {},
   "outputs": [
    {
     "name": "stdout",
     "output_type": "stream",
     "text": [
      "33\n"
     ]
    }
   ],
   "source": [
    "#Write a Python program to find the length of the my_str using loop:-\n",
    "\n",
    "#Input:- 'Python is a multipurpose language'\n",
    "#Output:- 55\n",
    "my_str = 'Python is a multipurpose language'\n",
    "for i in range(len(my_str)):\n",
    "    i +=1\n",
    "print(i)"
   ]
  },
  {
   "cell_type": "code",
   "execution_count": 15,
   "id": "c380df05",
   "metadata": {},
   "outputs": [
    {
     "name": "stdout",
     "output_type": "stream",
     "text": [
      "9\n",
      "\n",
      "9\n"
     ]
    }
   ],
   "source": [
    "#Write a Python program to find the total number of times letter 'p' is appeared in the below string using loop:-\n",
    "    \n",
    "#Input:- 'peter piper picked a peck of pickled peppers.\\n'\n",
    "#Output:- 9\n",
    "my_str = 'peter piper picked a peck of pickled peppers'\n",
    "ind = 0\n",
    "for i in my_str:\n",
    "    if i == 'p':\n",
    "        ind +=1\n",
    "print(ind)\n",
    "print()\n",
    "#using count()method also can count the particular character present in the string:\n",
    "my_str = 'peter piper picked a peck of pickled peppers'\n",
    "d = my_str.count('p')\n",
    "print(d)"
   ]
  },
  {
   "cell_type": "markdown",
   "id": "a9af3c61",
   "metadata": {},
   "source": [
    "## While Loop"
   ]
  },
  {
   "cell_type": "code",
   "execution_count": 16,
   "id": "416cb1ec",
   "metadata": {},
   "outputs": [],
   "source": [
    "# Syntax: \n",
    "#while expression:\n",
    "    #statement(s)"
   ]
  },
  {
   "cell_type": "code",
   "execution_count": 14,
   "id": "ad9c3253",
   "metadata": {},
   "outputs": [
    {
     "name": "stdout",
     "output_type": "stream",
     "text": [
      "0\n",
      "1\n",
      "2\n",
      "3\n",
      "4\n"
     ]
    }
   ],
   "source": [
    "i = 0\n",
    "while i < 5:\n",
    "    print(i)\n",
    "    i += 1"
   ]
  },
  {
   "cell_type": "code",
   "execution_count": 18,
   "id": "f7d2551a",
   "metadata": {},
   "outputs": [
    {
     "name": "stdout",
     "output_type": "stream",
     "text": [
      "5\n",
      "4\n",
      "3\n",
      "2\n",
      "1\n"
     ]
    }
   ],
   "source": [
    "lst = [1,2,3,4,5]\n",
    "while lst:\n",
    "    print(lst.pop())"
   ]
  },
  {
   "cell_type": "markdown",
   "id": "148955d0",
   "metadata": {},
   "source": [
    "### Single statement while block"
   ]
  },
  {
   "cell_type": "code",
   "execution_count": 19,
   "id": "331ba3db",
   "metadata": {},
   "outputs": [
    {
     "name": "stdout",
     "output_type": "stream",
     "text": [
      "1\n",
      "2\n",
      "3\n",
      "4\n",
      "5\n"
     ]
    }
   ],
   "source": [
    "i = 0\n",
    "while i<5 : i+=1;print(i)"
   ]
  },
  {
   "cell_type": "markdown",
   "id": "0d486fcf",
   "metadata": {},
   "source": [
    "## while loop continue statement"
   ]
  },
  {
   "cell_type": "code",
   "execution_count": 20,
   "id": "5a92e022",
   "metadata": {},
   "outputs": [
    {
     "name": "stdout",
     "output_type": "stream",
     "text": [
      "1\n",
      "2\n",
      "4\n",
      "5\n"
     ]
    }
   ],
   "source": [
    "i = 0\n",
    "while i < 5:\n",
    "    i += 1\n",
    "    if i == 3:\n",
    "        continue\n",
    "    print(i)\n",
    "        "
   ]
  },
  {
   "cell_type": "markdown",
   "id": "27c2c6db",
   "metadata": {},
   "source": [
    "###  While loop break statement"
   ]
  },
  {
   "cell_type": "code",
   "execution_count": 21,
   "id": "a67e22f4",
   "metadata": {},
   "outputs": [
    {
     "name": "stdout",
     "output_type": "stream",
     "text": [
      "0\n",
      "1\n",
      "2\n",
      "3\n"
     ]
    }
   ],
   "source": [
    "i = 0\n",
    "while i < 5:\n",
    "    print(i)\n",
    "    if i == 3:\n",
    "        break\n",
    "    i += 1"
   ]
  },
  {
   "cell_type": "markdown",
   "id": "8a6f7b80",
   "metadata": {},
   "source": [
    "###  While loop pass statement"
   ]
  },
  {
   "cell_type": "code",
   "execution_count": 27,
   "id": "3660d381",
   "metadata": {},
   "outputs": [
    {
     "name": "stdout",
     "output_type": "stream",
     "text": [
      "5\n"
     ]
    }
   ],
   "source": [
    "i = 0\n",
    "while i < 5:\n",
    "    i += 1\n",
    "    pass\n",
    "print(i)"
   ]
  },
  {
   "cell_type": "code",
   "execution_count": 22,
   "id": "3656eff8",
   "metadata": {},
   "outputs": [
    {
     "name": "stdout",
     "output_type": "stream",
     "text": [
      "s\n",
      "a\n",
      "n\n",
      "l\n",
      "a\n",
      " \n",
      "c\n",
      "d\n",
      "e\n",
      "s\n",
      " \n",
      "f\n",
      "r\n",
      " \n",
      "p\n",
      "y\n",
      "t\n",
      "h\n",
      "n\n"
     ]
    }
   ],
   "source": [
    "# continue the loop as soon it sees 'o'\n",
    "my_str = 'sanla codes for python'\n",
    "while i < len(my_str):\n",
    "    if my_str[i] == 'o':\n",
    "        i += 1\n",
    "        continue\n",
    "    print(my_str[i])\n",
    "    i +=1\n",
    "    "
   ]
  },
  {
   "cell_type": "code",
   "execution_count": 25,
   "id": "253c2a4c",
   "metadata": {},
   "outputs": [
    {
     "name": "stdout",
     "output_type": "stream",
     "text": [
      "s\n",
      "a\n",
      "n\n",
      "l\n",
      "a\n",
      " \n",
      "c\n",
      "o\n",
      "d\n"
     ]
    }
   ],
   "source": [
    "# break the loop as soon it sees 'e'\n",
    "i = 0\n",
    "a = 'sanla codes for python'\n",
    "\n",
    "while i < len(a):\n",
    "    if a[i] == 'e':\n",
    "        i += 1\n",
    "        break\n",
    "\n",
    "    print(a[i])\n",
    "    i += 1\n"
   ]
  },
  {
   "cell_type": "code",
   "execution_count": null,
   "id": "7fd9d46e",
   "metadata": {},
   "outputs": [],
   "source": []
  }
 ],
 "metadata": {
  "kernelspec": {
   "display_name": "Python 3 (ipykernel)",
   "language": "python",
   "name": "python3"
  },
  "language_info": {
   "codemirror_mode": {
    "name": "ipython",
    "version": 3
   },
   "file_extension": ".py",
   "mimetype": "text/x-python",
   "name": "python",
   "nbconvert_exporter": "python",
   "pygments_lexer": "ipython3",
   "version": "3.9.7"
  }
 },
 "nbformat": 4,
 "nbformat_minor": 5
}
