{
 "cells": [
  {
   "cell_type": "markdown",
   "id": "97cdce9b",
   "metadata": {},
   "source": [
    "# Python Modules\n",
    "\n",
    "A Python module is a file containing Python definitions and statements. A module can define functions, classes, and variables. A module can also include runnable code. Grouping related code into a module makes the code easier to understand and use. It also makes the code logically organized"
   ]
  },
  {
   "cell_type": "code",
   "execution_count": null,
   "id": "87e824b5",
   "metadata": {},
   "outputs": [],
   "source": [
    "# A simple module, calc.py\n",
    "\n",
    "def add(x, y):\n",
    "    return (x+y)\n",
    "\n",
    "def subtract(x, y):\n",
    "    return (x-y)\n"
   ]
  },
  {
   "cell_type": "markdown",
   "id": "d49920e7",
   "metadata": {},
   "source": [
    "\n",
    "## Import Module in Python –  Import statement\n",
    "\n",
    "We can import the functions, classes defined in a module to another module using the import statement in some other Python source file. \n",
    "\n",
    "Syntax:\n",
    "\n",
    "import module"
   ]
  },
  {
   "cell_type": "code",
   "execution_count": null,
   "id": "7caad53f",
   "metadata": {},
   "outputs": [],
   "source": [
    "# importing module calc.py\n",
    "import calc\n",
    "\n",
    "print(calc.add(10, 2))"
   ]
  },
  {
   "cell_type": "markdown",
   "id": "bdc37950",
   "metadata": {},
   "source": [
    "## The from import Statement \n",
    "\n",
    "Python’s from statement lets you import specific attributes from a module without importing the module as a whole."
   ]
  },
  {
   "cell_type": "code",
   "execution_count": null,
   "id": "6dcdc423",
   "metadata": {},
   "outputs": [],
   "source": [
    "# importing sqrt() and factorial from the\n",
    "# module math\n",
    "from math import sqrt, factorial\n",
    "\n",
    "# if we simply do \"import math\", then\n",
    "# math.sqrt(16) and math.factorial()\n",
    "# are required.\n",
    "print(sqrt(16))\n",
    "print(factorial(6))"
   ]
  },
  {
   "cell_type": "markdown",
   "id": "d4e4ef15",
   "metadata": {},
   "source": [
    "## Import all Names – From import *  Statement\n",
    "\n",
    "The * symbol used with the from import statement is used to import all the names from a module to a current namespace.\n",
    "\n",
    "Syntax:\n",
    "\n",
    "from module_name import *"
   ]
  },
  {
   "cell_type": "code",
   "execution_count": null,
   "id": "e87e8536",
   "metadata": {},
   "outputs": [],
   "source": [
    "# importing sqrt() and factorial from the\n",
    "# module math\n",
    "from math import *\n",
    "\n",
    "# if we simply do \"import math\", then\n",
    "# math.sqrt(16) and math.factorial()\n",
    "# are required.\n",
    "print(sqrt(16))\n",
    "print(factorial(6))\n"
   ]
  },
  {
   "cell_type": "markdown",
   "id": "f6eabdaa",
   "metadata": {},
   "source": [
    "## Locating Modules\n",
    "\n",
    "Whenever a module is imported in Python the interpreter looks for several locations. First, it will check for the built-in module, if not found then it looks for a list of directories defined in the sys.path. Python interpreter searches for the module in the following manner –\n",
    "\n",
    "First, it searches for the module in the current directory.\n",
    "If the module isn’t found in the current directory, Python then searches each directory in the shell variable PYTHONPATH. The PYTHONPATH is an environment variable, consisting of a list of directories.\n",
    "If that also fails python checks the installation-dependent list of directories configured at the time Python is installed."
   ]
  },
  {
   "cell_type": "code",
   "execution_count": 2,
   "id": "c705326e",
   "metadata": {},
   "outputs": [
    {
     "name": "stdout",
     "output_type": "stream",
     "text": [
      "['C:\\\\Users\\\\HP', 'C:\\\\Users\\\\HP\\\\anaconda3\\\\python39.zip', 'C:\\\\Users\\\\HP\\\\anaconda3\\\\DLLs', 'C:\\\\Users\\\\HP\\\\anaconda3\\\\lib', 'C:\\\\Users\\\\HP\\\\anaconda3', '', 'C:\\\\Users\\\\HP\\\\anaconda3\\\\lib\\\\site-packages', 'C:\\\\Users\\\\HP\\\\anaconda3\\\\lib\\\\site-packages\\\\locket-0.2.1-py3.9.egg', 'C:\\\\Users\\\\HP\\\\anaconda3\\\\lib\\\\site-packages\\\\win32', 'C:\\\\Users\\\\HP\\\\anaconda3\\\\lib\\\\site-packages\\\\win32\\\\lib', 'C:\\\\Users\\\\HP\\\\anaconda3\\\\lib\\\\site-packages\\\\Pythonwin', 'C:\\\\Users\\\\HP\\\\anaconda3\\\\lib\\\\site-packages\\\\IPython\\\\extensions', 'C:\\\\Users\\\\HP\\\\.ipython']\n"
     ]
    }
   ],
   "source": [
    "# Directories List for Modules\n",
    "import sys\n",
    "print(sys.path)"
   ]
  },
  {
   "cell_type": "markdown",
   "id": "45368881",
   "metadata": {},
   "source": [
    "## Importing and renaming module\n",
    "\n",
    "We can rename the module while importing it using the as keyword. "
   ]
  },
  {
   "cell_type": "code",
   "execution_count": 3,
   "id": "45f276d9",
   "metadata": {},
   "outputs": [
    {
     "name": "stdout",
     "output_type": "stream",
     "text": [
      "4.0\n",
      "720\n"
     ]
    }
   ],
   "source": [
    "# importing sqrt() and factorial from the\n",
    "# module math\n",
    "import math as m\n",
    "\n",
    "# if we simply do \"import math\", then\n",
    "# math.sqrt(16) and math.factorial()\n",
    "# are required.\n",
    "print(m.sqrt(16))\n",
    "print(m.factorial(6))\n"
   ]
  },
  {
   "cell_type": "markdown",
   "id": "d9f50fdd",
   "metadata": {},
   "source": [
    "## The dir() function\n",
    "\n",
    "The dir() built-in function returns a sorted list of strings containing the names defined by a module. The list contains the names of all the modules, variables, and functions that are defined in a module."
   ]
  },
  {
   "cell_type": "code",
   "execution_count": 4,
   "id": "0b4b1600",
   "metadata": {},
   "outputs": [
    {
     "name": "stdout",
     "output_type": "stream",
     "text": [
      "['BPF', 'LOG4', 'NV_MAGICCONST', 'RECIP_BPF', 'Random', 'SG_MAGICCONST', 'SystemRandom', 'TWOPI', '_Sequence', '_Set', '__all__', '__builtins__', '__cached__', '__doc__', '__file__', '__loader__', '__name__', '__package__', '__spec__', '_accumulate', '_acos', '_bisect', '_ceil', '_cos', '_e', '_exp', '_floor', '_inst', '_log', '_os', '_pi', '_random', '_repeat', '_sha512', '_sin', '_sqrt', '_test', '_test_generator', '_urandom', '_warn', 'betavariate', 'choice', 'choices', 'expovariate', 'gammavariate', 'gauss', 'getrandbits', 'getstate', 'lognormvariate', 'normalvariate', 'paretovariate', 'randbytes', 'randint', 'random', 'randrange', 'sample', 'seed', 'setstate', 'shuffle', 'triangular', 'uniform', 'vonmisesvariate', 'weibullvariate']\n"
     ]
    }
   ],
   "source": [
    "import random\n",
    "print(dir(random))"
   ]
  },
  {
   "cell_type": "code",
   "execution_count": 5,
   "id": "89d3272b",
   "metadata": {},
   "outputs": [
    {
     "name": "stdout",
     "output_type": "stream",
     "text": [
      "5.0\n",
      "3.141592653589793\n",
      "114.59155902616465\n",
      "1.0471975511965976\n",
      "0.9092974268256817\n",
      "0.8775825618903728\n",
      "0.23414336235146527\n",
      "24\n",
      "4\n",
      "0.3503905092715617\n",
      "97.30406634271766\n",
      "python\n",
      "1648754657.6780877\n",
      "1970-01-06\n"
     ]
    }
   ],
   "source": [
    "# importing built-in module math\n",
    "import math\n",
    "\n",
    "# using square root(sqrt) function contained\n",
    "# in math module\n",
    "print(math.sqrt(25))\n",
    "\n",
    "# using pi function contained in math module\n",
    "print(math.pi)\n",
    "\n",
    "# 2 radians = 114.59 degrees\n",
    "print(math.degrees(2))\n",
    "\n",
    "# 60 degrees = 1.04 radians\n",
    "print(math.radians(60))\n",
    "\n",
    "# Sine of 2 radians\n",
    "print(math.sin(2))\n",
    "\n",
    "# Cosine of 0.5 radians\n",
    "print(math.cos(0.5))\n",
    "\n",
    "# Tangent of 0.23 radians\n",
    "print(math.tan(0.23))\n",
    "\n",
    "# 1 * 2 * 3 * 4 = 24\n",
    "print(math.factorial(4))\n",
    "\n",
    "# importing built in module random\n",
    "import random\n",
    "\n",
    "# printing random integer between 0 and 5\n",
    "print(random.randint(0, 5))\n",
    "\n",
    "# print random floating point number between 0 and 1\n",
    "print(random.random())\n",
    "\n",
    "# random number between 0 and 100\n",
    "print(random.random() * 100)\n",
    "\n",
    "List = [1, 4, True, 800, \"python\", 27, \"hello\"]\n",
    "\n",
    "# using choice function in random module for choosing\n",
    "# a random element from a set such as a list\n",
    "print(random.choice(List))\n",
    "\n",
    "\n",
    "# importing built in module datetime\n",
    "import datetime\n",
    "from datetime import date\n",
    "import time\n",
    "\n",
    "# Returns the number of seconds since the\n",
    "# Unix Epoch, January 1st 1970\n",
    "print(time.time())\n",
    "\n",
    "# Converts a number of seconds to a date object\n",
    "print(date.fromtimestamp(454554))\n"
   ]
  },
  {
   "cell_type": "code",
   "execution_count": null,
   "id": "d9e7066d",
   "metadata": {},
   "outputs": [],
   "source": []
  }
 ],
 "metadata": {
  "kernelspec": {
   "display_name": "Python 3 (ipykernel)",
   "language": "python",
   "name": "python3"
  },
  "language_info": {
   "codemirror_mode": {
    "name": "ipython",
    "version": 3
   },
   "file_extension": ".py",
   "mimetype": "text/x-python",
   "name": "python",
   "nbconvert_exporter": "python",
   "pygments_lexer": "ipython3",
   "version": "3.9.7"
  }
 },
 "nbformat": 4,
 "nbformat_minor": 5
}
