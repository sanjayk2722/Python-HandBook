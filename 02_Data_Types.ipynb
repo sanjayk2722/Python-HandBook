{
 "cells": [
  {
   "cell_type": "markdown",
   "id": "3626eb24",
   "metadata": {},
   "source": [
    "# Data Types\n",
    "\n",
    "----> Built-in Data Types \n",
    "\n",
    "In programming, data type is an important concept.\n",
    "\n",
    "Variables can store data of different types, and different types can do different things.\n",
    "\n",
    "Python has the following data types built-in by default, in these categories:\n",
    "\n",
    "Text Type:\tstr\n",
    "\n",
    "Numeric Types:\tint, float, complex\n",
    "\n",
    "Sequence Types:\tlist, tuple, range\n",
    "\n",
    "Mapping Type:\tdict\n",
    "\n",
    "Set Types:\tset, frozenset\n",
    "\n",
    "Boolean Type:\tbool\n",
    "\n",
    "Binary Types:\tbytes, bytearray, memoryview"
   ]
  },
  {
   "cell_type": "markdown",
   "id": "6d1c9664",
   "metadata": {},
   "source": [
    "#  Squences Type\n",
    "\n",
    "1.String\n",
    "\n",
    "2.List\n",
    "\n",
    "3.Tuple"
   ]
  },
  {
   "cell_type": "markdown",
   "id": "1c7406c3",
   "metadata": {},
   "source": [
    "## String\n",
    "\n",
    "String is the combination of characters kept inside single, double or tripple quotes.\n",
    "\n",
    "In python anything written inside the quote is considered as a string.\n"
   ]
  },
  {
   "cell_type": "code",
   "execution_count": 19,
   "id": "aa54d4fb",
   "metadata": {},
   "outputs": [
    {
     "name": "stdout",
     "output_type": "stream",
     "text": [
      "String with the use of Single Quotes: \n",
      "Welcome to the SanLa Tech\n",
      "\n",
      "String with the use of Double Quotes: \n",
      "I'm a Sanjay\n",
      "<class 'str'>\n",
      "\n",
      "String with the use of Triple Quotes: \n",
      "I'm a Sanjay and I live in a world of \"Python\"\n",
      "<class 'str'>\n",
      "\n",
      "Creating a multiline String: \n",
      "Python\n",
      "For\n",
      "Life\n"
     ]
    }
   ],
   "source": [
    "# Python Program for\n",
    "# Creation of String\n",
    "\n",
    "# Creating a String\n",
    "# with single Quotes\n",
    "String1 = 'Welcome to the SanLa Tech'\n",
    "print(\"String with the use of Single Quotes: \")\n",
    "print(String1)\n",
    "\n",
    "# Creating a String\n",
    "# with double Quotes\n",
    "String1 = \"I'm a Sanjay\"\n",
    "print(\"\\nString with the use of Double Quotes: \")\n",
    "print(String1)\n",
    "print(type(String1))\n",
    "\n",
    "# Creating a String\n",
    "# with triple Quotes\n",
    "String1 = '''I'm a Sanjay and I live in a world of \"Python\"'''\n",
    "print(\"\\nString with the use of Triple Quotes: \")\n",
    "print(String1)\n",
    "print(type(String1))\n",
    "\n",
    "# Creating String with triple\n",
    "# Quotes allows multiple lines\n",
    "String1 = '''Python\n",
    "For\n",
    "Life'''\n",
    "print(\"\\nCreating a multiline String: \")\n",
    "print(String1)\n"
   ]
  },
  {
   "cell_type": "markdown",
   "id": "7ec527c8",
   "metadata": {},
   "source": [
    "#  Accessing elements of String\n",
    "\n",
    "In Python, individual characters of a String can be accessed by using the method of Indexing. Indexing allows negative address references to access characters from the back of the String"
   ]
  },
  {
   "cell_type": "code",
   "execution_count": 21,
   "id": "2f9572b5",
   "metadata": {},
   "outputs": [
    {
     "name": "stdout",
     "output_type": "stream",
     "text": [
      "Initial String: \n",
      "SanLa Tech\n",
      "\n",
      "First character of String is: \n",
      "S\n",
      "\n",
      "Last character of String is: \n",
      "h\n"
     ]
    }
   ],
   "source": [
    "# Python Program to Access\n",
    "# characters of String\n",
    "\n",
    "String1 = \"SanLa Tech\"\n",
    "print(\"Initial String: \")\n",
    "print(String1)\n",
    "\n",
    "# Printing First character\n",
    "print(\"\\nFirst character of String is: \")\n",
    "print(String1[0])\n",
    "\n",
    "# Printing Last character\n",
    "print(\"\\nLast character of String is: \")\n",
    "print(String1[-1])\n"
   ]
  },
  {
   "cell_type": "markdown",
   "id": "c56c859f",
   "metadata": {},
   "source": [
    "# List\n",
    "Lists are just like the arrays, declared in other languages which is a ordered collection of data. It is very flexible as the items in a list do not need to be of the same type.\n",
    " \n",
    "\n",
    "Creating List\n",
    "Lists in Python can be created by just placing the sequence inside the square brackets[]."
   ]
  },
  {
   "cell_type": "code",
   "execution_count": 25,
   "id": "f7fb83e6",
   "metadata": {},
   "outputs": [
    {
     "name": "stdout",
     "output_type": "stream",
     "text": [
      "['sanla', 18, 123.456, False]\n",
      "['Python', 'youtube', ['sanla', 18, 123.456, False]]\n"
     ]
    }
   ],
   "source": [
    "#creating the list\n",
    "# printing the list\n",
    "lst = ['sanla',18,123.456,False]\n",
    "print(lst)\n",
    "\n",
    "#It allows the Nested List\n",
    "#creating the Nested List\n",
    "# printing the Nested list\n",
    "Nlst = ['Python',\"youtube\",['sanla',18,123.456,False]]\n",
    "print(Nlst)"
   ]
  },
  {
   "cell_type": "markdown",
   "id": "c4317a5e",
   "metadata": {},
   "source": [
    "# Accessing elements of List\n",
    "\n",
    "In order to access the list items refer to the index number. Use the index operator [ ] to access an item in a list. In Python, negative sequence indexes represent positions from the end of the array. Instead of having to compute the offset as in List[len(List)-3], it is enough to just write List[-3]. Negative indexing means beginning from the end, -1 refers to the last item, -2 refers to the second-last item, etc."
   ]
  },
  {
   "cell_type": "code",
   "execution_count": 27,
   "id": "dc9a4a8f",
   "metadata": {},
   "outputs": [
    {
     "name": "stdout",
     "output_type": "stream",
     "text": [
      "Accessing element from the list\n",
      "SanLa\n",
      "Channel\n",
      "\n",
      "Accessing element using negative indexing\n",
      "Channel\n",
      "SanLa\n"
     ]
    }
   ],
   "source": [
    "# Python program to demonstrate\n",
    "# accessing of element from list\n",
    "\n",
    "# Creating a List with\n",
    "# the use of multiple values\n",
    "List = [\"SanLa\", \"Youtube\", \"Channel\"]\n",
    "\n",
    "# accessing a element from the\n",
    "# list using index number\n",
    "print(\"Accessing element from the list\")\n",
    "print(List[0])\n",
    "print(List[2])\n",
    "\n",
    "# accessing a element using\n",
    "# negative indexing\n",
    "print(\"\\nAccessing element using negative indexing\")\n",
    "\n",
    "# print the last element of list\n",
    "print(List[-1])\n",
    "\n",
    "# print the third last element of list\n",
    "print(List[-3])\n"
   ]
  },
  {
   "cell_type": "markdown",
   "id": "a5d422a3",
   "metadata": {},
   "source": [
    "# 3) Tuple\n",
    "\n",
    "Just like list, tuple is also an ordered collection of Python objects. The only difference between tuple and list is that tuples are immutable i.e. tuples cannot be modified after it is created. It is represented by tuple class.\n",
    " \n",
    "\n",
    "Creating Tuple\n",
    "In Python, tuples are created by placing a sequence of values separated by ‘comma’ with or without the use of parentheses for grouping of the data sequence. Tuples can contain any number of elements and of any datatype (like strings, integers, list, etc...\n",
    "\n",
    "Note: Tuples can also be created with a single element, but it is a bit tricky. Having one element in the parentheses is not sufficient, there must be a trailing ‘comma’ to make it a tuple."
   ]
  },
  {
   "cell_type": "code",
   "execution_count": 29,
   "id": "9b9780bf",
   "metadata": {},
   "outputs": [
    {
     "name": "stdout",
     "output_type": "stream",
     "text": [
      "Initial empty Tuple: \n",
      "()\n",
      "\n",
      "Tuple with the use of String: \n",
      "('python', 'For', 'Everone')\n",
      "\n",
      "Tuple using List: \n",
      "(1, 2, 4, 5, 6)\n",
      "\n",
      "Tuple with the use of function: \n",
      "('c', 'o', 'd', 'e', 'r', 's')\n",
      "\n",
      "Tuple with nested tuples: \n",
      "((0, 1, 2, 3), ('python', 'World'))\n"
     ]
    }
   ],
   "source": [
    "# Python program to demonstrate\n",
    "# creation of Set\n",
    "\n",
    "# Creating an empty tuple\n",
    "Tuple1 = ()\n",
    "print(\"Initial empty Tuple: \")\n",
    "print (Tuple1)\n",
    "\n",
    "# Creating a Tuple with\n",
    "# the use of Strings\n",
    "Tuple1 = ('python', 'For','Everone')\n",
    "print(\"\\nTuple with the use of String: \")\n",
    "print(Tuple1)\n",
    "\n",
    "# Creating a Tuple with\n",
    "# the use of list\n",
    "list1 = [1, 2, 4, 5, 6]\n",
    "print(\"\\nTuple using List: \")\n",
    "print(tuple(list1))\n",
    "\n",
    "# Creating a Tuple with the\n",
    "# use of built-in function\n",
    "Tuple1 = tuple('coders')\n",
    "print(\"\\nTuple with the use of function: \")\n",
    "print(Tuple1)\n",
    "\n",
    "# Creating a Tuple\n",
    "# with nested tuples\n",
    "Tuple1 = (0, 1, 2, 3)\n",
    "Tuple2 = ('python', 'World')\n",
    "Tuple3 = (Tuple1, Tuple2)\n",
    "print(\"\\nTuple with nested tuples: \")\n",
    "print(Tuple3)\n"
   ]
  },
  {
   "cell_type": "markdown",
   "id": "489e16fb",
   "metadata": {},
   "source": [
    "# Accessing elements of Tuple\n",
    "\n",
    "In order to access the tuple items refer to the index number. Use the index operator [ ] to access an item in a tuple. The index must be an integer. Nested tuples are accessed using nested indexing."
   ]
  },
  {
   "cell_type": "code",
   "execution_count": 30,
   "id": "17794270",
   "metadata": {},
   "outputs": [
    {
     "name": "stdout",
     "output_type": "stream",
     "text": [
      "First element of tuple\n",
      "1\n",
      "\n",
      "Last element of tuple\n",
      "5\n",
      "\n",
      "Third last element of tuple\n",
      "3\n"
     ]
    }
   ],
   "source": [
    "# Python program to\n",
    "# demonstrate accessing tuple\n",
    "\n",
    "tuple1 = tuple([1, 2, 3, 4, 5])\n",
    "\n",
    "# Accessing element using indexing\n",
    "print(\"First element of tuple\")\n",
    "print(tuple1[0])\n",
    "\n",
    "# Accessing element from last\n",
    "# negative indexing\n",
    "print(\"\\nLast element of tuple\")\n",
    "print(tuple1[-1])\n",
    "\n",
    "print(\"\\nThird last element of tuple\")\n",
    "print(tuple1[-3])\n"
   ]
  },
  {
   "cell_type": "markdown",
   "id": "9a7800f8",
   "metadata": {},
   "source": [
    "# Boolean\n",
    "\n",
    "Data type with one of the two built-in values, True or False. Boolean objects that are equal to True are truthy (true), and those equal to False are falsy (false). But non-Boolean objects can be evaluated in Boolean context as well and determined to be true or false. It is denoted by the class bool.\n",
    "\n",
    "Note – True and False with capital ‘T’ and ‘F’ are valid booleans otherwise python will throw an error."
   ]
  },
  {
   "cell_type": "code",
   "execution_count": 40,
   "id": "8bdc3baa",
   "metadata": {},
   "outputs": [
    {
     "name": "stdout",
     "output_type": "stream",
     "text": [
      "<class 'bool'>\n",
      "<class 'bool'>\n"
     ]
    }
   ],
   "source": [
    "# Python program to\n",
    "# demonstrate boolean type\n",
    "\n",
    "print(type(True))\n",
    "print(type(False))"
   ]
  },
  {
   "cell_type": "markdown",
   "id": "50a5ec46",
   "metadata": {},
   "source": [
    "# Set\n",
    "In Python, Set is an unordered collection of data type that is iterable, mutable and has no duplicate elements. The order of elements in a set is undefined though it may consist of various elements.\n",
    "\n",
    "Creating Sets\n",
    "Sets can be created by using the built-in set() function with an iterable object or a sequence by placing the sequence inside curly braces, separated by ‘comma’. Type of elements in a set need not be the same, various mixed-up data type values can also be passed to the set."
   ]
  },
  {
   "cell_type": "code",
   "execution_count": 50,
   "id": "12373f2e",
   "metadata": {},
   "outputs": [
    {
     "name": "stdout",
     "output_type": "stream",
     "text": [
      "Initial blank Set: \n",
      "set()\n",
      "\n",
      "Set with the use of String: \n",
      "{'n', 'E', 'P', 'f', 'h', 't', 'y', 'o', 'r', 'v', 'e'}\n",
      "\n",
      "Set with the use of List: \n",
      "{'SanLa', 'Coder', 'is'}\n",
      "\n",
      "Set with the use of Mixed Values\n",
      "{1, 2, 'you', 4, 6, 'For', 'code'}\n",
      "\n",
      "set with curly braces\n",
      "{'sanjay'}\n"
     ]
    }
   ],
   "source": [
    "# Python program to demonstrate\n",
    "# Creation of Set in Python\n",
    "\n",
    "# Creating a Set\n",
    "set1 = set()\n",
    "print(\"Initial blank Set: \")\n",
    "print(set1)\n",
    "\n",
    "# Creating a Set with\n",
    "# the use of a String\n",
    "set1 = set(\"PythonforEverone\")\n",
    "print(\"\\nSet with the use of String: \")\n",
    "print(set1)\n",
    "\n",
    "# Creating a Set with\n",
    "# the use of a List\n",
    "set1 = set([\"SanLa\", \"is\", \"Coder\"])\n",
    "print(\"\\nSet with the use of List: \")\n",
    "print(set1)\n",
    "\n",
    "# Creating a Set with\n",
    "# a mixed type of values\n",
    "# (Having numbers and strings)\n",
    "set1 = set([1, 2, 'code', 4, 'For', 6, 'you'])\n",
    "print(\"\\nSet with the use of Mixed Values\")\n",
    "print(set1)\n",
    "\n",
    "#Creating a set with curly braces\n",
    "set1 = {'sanjay'}\n",
    "print('\\nset with curly braces')\n",
    "print(set1)"
   ]
  },
  {
   "cell_type": "markdown",
   "id": "fecb6965",
   "metadata": {},
   "source": [
    "# Numeric\n",
    "\n",
    "In Python, numeric data type represent the data which has numeric value. Numeric value can be integer, floating number or even complex numbers. These values are defined as int, float and complex class in Python.\n",
    "\n",
    "Integers – This value is represented by int class. It contains positive or negative whole numbers (without fraction or decimal). In Python there is no limit to how long an integer value can be.\n",
    "\n",
    "Float – This value is represented by float class. It is a real number with floating point representation. It is specified by a decimal point. Optionally, the character e or E followed by a positive or negative integer may be appended to specify scientific notation.\n",
    "\n",
    "Complex Numbers – Complex number is represented by complex class. It is specified as (real part) + (imaginary part)j. For example – 2+3j\n",
    "\n",
    "Note – type() function is used to determine the type of data type."
   ]
  },
  {
   "cell_type": "code",
   "execution_count": 2,
   "id": "69890a89",
   "metadata": {},
   "outputs": [
    {
     "name": "stdout",
     "output_type": "stream",
     "text": [
      "Type of a:  <class 'int'>\n",
      "\n",
      "Type of b:  <class 'float'>\n",
      "\n",
      "Type of c:  <class 'complex'>\n"
     ]
    }
   ],
   "source": [
    "# Python program to\n",
    "# demonstrate numeric value\n",
    "\n",
    "a = 534\n",
    "print(\"Type of a: \", type(a))\n",
    "\n",
    "b = 5.045\n",
    "print(\"\\nType of b: \", type(b))\n",
    "\n",
    "c = 278 + 4j\n",
    "print(\"\\nType of c: \", type(c))\n"
   ]
  },
  {
   "cell_type": "markdown",
   "id": "e8f7df5b",
   "metadata": {},
   "source": [
    "# Dictionary\n",
    "Dictionary in Python is an unordered collection of data values, used to store data values like a map, which unlike other Data Types that hold only single value as an element, Dictionary holds key:value pair. Key-value is provided in the dictionary to make it more optimized. Each key-value pair in a Dictionary is separated by a colon :, whereas each key is separated by a ‘comma’.\n",
    "\n",
    "Creating Dictionary\n",
    "In Python, a Dictionary can be created by placing a sequence of elements within curly {} braces, separated by ‘comma’. Values in a dictionary can be of any datatype and can be duplicated, whereas keys can’t be repeated and must be immutable. Dictionary can also be created by the built-in function dict(). An empty dictionary can be created by just placing it to curly braces{}.\n",
    "\n",
    "Note – Dictionary keys are case sensitive, same name but different cases of Key will be treated distinctly.\n",
    "\n",
    "Synatx---> {Key:Value} --->Pair"
   ]
  },
  {
   "cell_type": "code",
   "execution_count": 8,
   "id": "b359d5b7",
   "metadata": {},
   "outputs": [
    {
     "name": "stdout",
     "output_type": "stream",
     "text": [
      "Empty Dictionary: \n",
      "{}\n",
      "\n",
      "Dictionary with the use of Integer Keys: \n",
      "{1: 'SanLa', 2: 'Python', 3: 'session'}\n",
      "\n",
      "Dictionary with the use of Mixed Keys: \n",
      "{'Name': 'Subscribers', 1: [1, 2, 3, 4]}\n",
      "\n",
      "Dictionary with the use of dict(): \n",
      "{1: 'Python', 2: 'is', 3: 'open_source'}\n",
      "\n",
      "Dictionary with each item as a pair: \n",
      "{1: 'numeric', 2: 'form'}\n"
     ]
    }
   ],
   "source": [
    "# Creating an empty Dictionary\n",
    "Dict = {}\n",
    "print(\"Empty Dictionary: \")\n",
    "print(Dict)\n",
    "\n",
    "# Creating a Dictionary\n",
    "# with Integer Keys\n",
    "Dict = {1:'SanLa',2:'Python',3:'session'}\n",
    "print(\"\\nDictionary with the use of Integer Keys: \")\n",
    "print(Dict)\n",
    "\n",
    "# Creating a Dictionary\n",
    "# with Mixed keys\n",
    "Dict = {'Name': 'Subscribers', 1: [1, 2, 3, 4]}\n",
    "print(\"\\nDictionary with the use of Mixed Keys: \")\n",
    "print(Dict)\n",
    "\n",
    "# Creating a Dictionary\n",
    "# with dict() method\n",
    "Dict = dict({1: 'Python', 2: 'is', 3:'open_source'})\n",
    "print(\"\\nDictionary with the use of dict(): \")\n",
    "print(Dict)\n",
    "\n",
    "# Creating a Dictionary\n",
    "# with each item as a Pair\n",
    "Dict = dict([(1, 'numeric'), (2, 'form')])\n",
    "print(\"\\nDictionary with each item as a pair: \")\n",
    "print(Dict)"
   ]
  },
  {
   "cell_type": "markdown",
   "id": "5064e0b7",
   "metadata": {},
   "source": [
    "# Getting the Data Type\n",
    "\n",
    "You can get the data type of any object by using the type() function:"
   ]
  },
  {
   "cell_type": "code",
   "execution_count": 2,
   "id": "8a4842c1",
   "metadata": {},
   "outputs": [
    {
     "name": "stdout",
     "output_type": "stream",
     "text": [
      "<class 'str'>\n",
      "<class 'int'>\n",
      "<class 'float'>\n",
      "<class 'bool'>\n"
     ]
    }
   ],
   "source": [
    "name = 'Lara'\n",
    "print(type(name))\n",
    "\n",
    "age = 18\n",
    "print(type(age))\n",
    "\n",
    "weight = 64.34\n",
    "print(type(weight))\n",
    "\n",
    "coder = True\n",
    "print(type(coder))"
   ]
  },
  {
   "cell_type": "markdown",
   "id": "cff526e8",
   "metadata": {},
   "source": [
    "# Type Conversion\n",
    "\n",
    "You can convert from one type to another with the int(), float(), and complex() methods:"
   ]
  },
  {
   "cell_type": "code",
   "execution_count": 7,
   "id": "9f084a62",
   "metadata": {},
   "outputs": [
    {
     "name": "stdout",
     "output_type": "stream",
     "text": [
      "1.0\n",
      "2\n",
      "(1+0j)\n",
      "\n",
      "<class 'float'>\n",
      "<class 'int'>\n",
      "<class 'complex'>\n"
     ]
    }
   ],
   "source": [
    "x = 1    # int\n",
    "y = 2.8  # float\n",
    "z = 1j   # complex\n",
    "\n",
    "#convert from int to float:\n",
    "a = float(x)\n",
    "\n",
    "#convert from float to int:\n",
    "b = int(y)\n",
    "\n",
    "#convert from int to complex:\n",
    "c = complex(x)\n",
    "\n",
    "print(a)\n",
    "print(b)\n",
    "print(c)\n",
    "\n",
    "print()  # we using print for one line space \n",
    "\n",
    "print(type(a))\n",
    "print(type(b))\n",
    "print(type(c))"
   ]
  },
  {
   "cell_type": "markdown",
   "id": "9d5bc621",
   "metadata": {},
   "source": [
    "# Concatenation and Repeation\n",
    "\n",
    "To concatenate, or combine, two strings you can use the + operator.\n",
    "\n",
    "To Repeation, we use * operator to repeat the string by asign value"
   ]
  },
  {
   "cell_type": "code",
   "execution_count": 10,
   "id": "1a0cac33",
   "metadata": {},
   "outputs": [
    {
     "name": "stdout",
     "output_type": "stream",
     "text": [
      "sanlaTech\n",
      "sanla sanla sanla \n"
     ]
    }
   ],
   "source": [
    "a = \"sanla\"\n",
    "b =\"Tech\"\n",
    "\n",
    "# To concatenate a and b , a+b\n",
    "print(a + b)\n",
    "\n",
    "# To Repeation a *3\n",
    "print((a + \" \" )* 3)"
   ]
  },
  {
   "cell_type": "markdown",
   "id": "2b40e375",
   "metadata": {},
   "source": [
    "# Range\n",
    "Python range() function generates the immutable sequence of numbers starting from the given start integer to the stop integer. The range() is a built-in function that returns a range object that consists series of integer numbers, which we can iterate using a for loop.\n",
    "\n",
    "Syntax--->(start,stop-1,step)"
   ]
  },
  {
   "cell_type": "code",
   "execution_count": 17,
   "id": "a7582a06",
   "metadata": {},
   "outputs": [
    {
     "name": "stdout",
     "output_type": "stream",
     "text": [
      "1\n",
      "3\n",
      "5\n",
      "7\n",
      "9\n",
      "\n",
      "1\n",
      "4\n",
      "7\n",
      "10\n",
      "\n",
      "[1, 3, 5, 7, 9, 11, 13, 15, 17, 19]\n"
     ]
    }
   ],
   "source": [
    "a = range(1,11,2)\n",
    "for i in a:\n",
    "    print(i)\n",
    "print()\n",
    "\n",
    "for i in range(1,11,3):\n",
    "    print(i)\n",
    "print()\n",
    "    \n",
    "# print the range in list\n",
    "print(list(range(1,21,2)))\n"
   ]
  },
  {
   "cell_type": "markdown",
   "id": "2f59ec86",
   "metadata": {},
   "source": [
    "# "
   ]
  },
  {
   "cell_type": "markdown",
   "id": "4c1e2c03",
   "metadata": {},
   "source": [
    "# Indexing \n",
    "\n",
    "To retrieve an element of the list, we use the index operator ([]):"
   ]
  },
  {
   "cell_type": "code",
   "execution_count": 10,
   "id": "e2582ae7",
   "metadata": {},
   "outputs": [
    {
     "name": "stdout",
     "output_type": "stream",
     "text": [
      "['a', 'b', 'c', 'd', 'e', 'f', 'g', 'h', 'i']\n"
     ]
    }
   ],
   "source": [
    "#creating the list\n",
    "#printing the list\n",
    "ind = [_ for _ in 'abcdefghi']\n",
    "print(ind)"
   ]
  },
  {
   "cell_type": "code",
   "execution_count": 14,
   "id": "c530376a",
   "metadata": {},
   "outputs": [
    {
     "name": "stdout",
     "output_type": "stream",
     "text": [
      "d\n",
      "g\n"
     ]
    }
   ],
   "source": [
    "#indexing the list by the position\n",
    "a = ind[3]\n",
    "print(a)\n",
    "\n",
    "b = ind[-3]\n",
    "print(b)"
   ]
  },
  {
   "cell_type": "markdown",
   "id": "46ce2b59",
   "metadata": {},
   "source": [
    "# Slicing\n",
    "\n",
    "A slice is a subset of list elements. In the case of lists, a single slice will always be of contiguous elements.\n",
    "\n",
    "Slice notation takes the form.\n",
    "\n",
    "Syntax ---> [start : stop-1 : step]\n",
    "\n"
   ]
  },
  {
   "cell_type": "code",
   "execution_count": 25,
   "id": "dfc132d1",
   "metadata": {},
   "outputs": [
    {
     "name": "stdout",
     "output_type": "stream",
     "text": [
      "['sanjay', 'python', False, 234, 89.09]\n"
     ]
    }
   ],
   "source": [
    "#creating the list\n",
    "# printing the list\n",
    "lst = ['sanjay','python',False,234,89.09]\n",
    "print(lst)"
   ]
  },
  {
   "cell_type": "code",
   "execution_count": 32,
   "id": "bd5f4844",
   "metadata": {},
   "outputs": [
    {
     "name": "stdout",
     "output_type": "stream",
     "text": [
      "['python', False, 234, 89.09]\n",
      "['sanjay', 'python', False]\n",
      "['sanjay', False, 89.09]\n"
     ]
    }
   ],
   "source": [
    "#Slicing the list and printing\n",
    "print(lst[1:])\n",
    "print(lst[:3])\n",
    "print(lst[0::2])"
   ]
  },
  {
   "cell_type": "code",
   "execution_count": null,
   "id": "8d8b1be7",
   "metadata": {},
   "outputs": [],
   "source": []
  }
 ],
 "metadata": {
  "kernelspec": {
   "display_name": "Python 3 (ipykernel)",
   "language": "python",
   "name": "python3"
  },
  "language_info": {
   "codemirror_mode": {
    "name": "ipython",
    "version": 3
   },
   "file_extension": ".py",
   "mimetype": "text/x-python",
   "name": "python",
   "nbconvert_exporter": "python",
   "pygments_lexer": "ipython3",
   "version": "3.9.7"
  }
 },
 "nbformat": 4,
 "nbformat_minor": 5
}
